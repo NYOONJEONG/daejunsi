{
 "cells": [
  {
   "cell_type": "code",
   "execution_count": 88,
   "metadata": {
    "executionInfo": {
     "elapsed": 405,
     "status": "ok",
     "timestamp": 1621779537302,
     "user": {
      "displayName": "‍원윤정[ 학부재학 / 수학과 ]",
      "photoUrl": "",
      "userId": "18011858018859333600"
     },
     "user_tz": -540
    },
    "id": "tPLPOTc56prm"
   },
   "outputs": [],
   "source": [
    "#평가 스케일\n",
    "def rmsle(y, y_,convertExp=True):\n",
    "    if convertExp:\n",
    "        y = np.exp(y), \n",
    "        y_ = np.exp(y_)\n",
    "    log1 = np.nan_to_num(np.array([np.log(v + 1) for v in y]))\n",
    "    log2 = np.nan_to_num(np.array([np.log(v + 1) for v in y_]))\n",
    "    calc = (log1 - log2) ** 2\n",
    "    return np.sqrt(np.mean(calc))\n",
    "\n",
    "from sklearn import metrics\n",
    "rmsle_scorer = metrics.make_scorer(rmsle)"
   ]
  },
  {
   "cell_type": "markdown",
   "metadata": {
    "id": "yewfLh5plarm"
   },
   "source": [
    "# 0 전처리"
   ]
  },
  {
   "cell_type": "code",
   "execution_count": 89,
   "metadata": {
    "executionInfo": {
     "elapsed": 390,
     "status": "ok",
     "timestamp": 1621779650868,
     "user": {
      "displayName": "‍원윤정[ 학부재학 / 수학과 ]",
      "photoUrl": "",
      "userId": "18011858018859333600"
     },
     "user_tz": -540
    },
    "id": "p3hdizfTlaaX"
   },
   "outputs": [],
   "source": [
    "import pandas as pd\n",
    "import numpy as np"
   ]
  },
  {
   "cell_type": "code",
   "execution_count": 90,
   "metadata": {
    "executionInfo": {
     "elapsed": 614,
     "status": "ok",
     "timestamp": 1621779652475,
     "user": {
      "displayName": "‍원윤정[ 학부재학 / 수학과 ]",
      "photoUrl": "",
      "userId": "18011858018859333600"
     },
     "user_tz": -540
    },
    "id": "4avprQHDvpF2"
   },
   "outputs": [],
   "source": [
    "train = pd.read_csv(\"/Users/yoonjeong/Desktop/bf_train_0.csv\", encoding='cp949')\n",
    "test = pd.read_csv(\"/Users/yoonjeong/Desktop/bf_test_0.csv\", encoding='cp949')"
   ]
  },
  {
   "cell_type": "markdown",
   "metadata": {
    "id": "vRj5AGabltaw"
   },
   "source": [
    "모델링"
   ]
  },
  {
   "cell_type": "code",
   "execution_count": 91,
   "metadata": {
    "executionInfo": {
     "elapsed": 275,
     "status": "ok",
     "timestamp": 1621779661048,
     "user": {
      "displayName": "‍원윤정[ 학부재학 / 수학과 ]",
      "photoUrl": "",
      "userId": "18011858018859333600"
     },
     "user_tz": -540
    },
    "id": "y7-EBV1rwfi6"
   },
   "outputs": [],
   "source": [
    "# X : features, y: target variable\n",
    "X_train=  train[train.columns.difference([\"이용자 수\"])]\n",
    "X_test = test[test.columns.difference([\"이용자 수\"])]\n",
    "y_train= train[\"이용자 수\"]\n",
    "y_test= test['이용자 수']"
   ]
  },
  {
   "cell_type": "markdown",
   "metadata": {
    "id": "5CTxc3Drw6Hs"
   },
   "source": [
    "# 0 random forest"
   ]
  },
  {
   "cell_type": "code",
   "execution_count": 92,
   "metadata": {
    "colab": {
     "base_uri": "https://localhost:8080/"
    },
    "executionInfo": {
     "elapsed": 21733,
     "status": "ok",
     "timestamp": 1621780020842,
     "user": {
      "displayName": "‍원윤정[ 학부재학 / 수학과 ]",
      "photoUrl": "",
      "userId": "18011858018859333600"
     },
     "user_tz": -540
    },
    "id": "9cRYHUaNm40v",
    "outputId": "50212ad8-9d2f-4387-ed19-a1bd4a662aac"
   },
   "outputs": [
    {
     "name": "stdout",
     "output_type": "stream",
     "text": [
      "{'n_estimators': [10, 15, 20, 25, 30], 'max_features': ['auto', 'sqrt'], 'max_depth': [10, 20, 30, 40, 50, None], 'min_samples_split': [2, 5], 'min_samples_leaf': [1, 2], 'bootstrap': [True, False]}\n"
     ]
    }
   ],
   "source": [
    "from sklearn.model_selection import RandomizedSearchCV\n",
    "\n",
    "n_estimators = [int(x) for x in np.linspace(start = 10, stop = 30, num = 5)]\n",
    "\n",
    "max_features = ['auto', 'sqrt']\n",
    "\n",
    "max_depth = [int(x) for x in np.linspace(10, 50, num = 5)]\n",
    "max_depth.append(None)\n",
    "# Minimum number of samples required to split a node\n",
    "min_samples_split = [2, 5]\n",
    "# Minimum number of samples required at each leaf node\n",
    "min_samples_leaf = [1, 2]\n",
    "# Method of selecting samples for training each tree\n",
    "bootstrap = [True, False]\n",
    "# Create the random grid\n",
    "random_grid = {'n_estimators': n_estimators,\n",
    "               'max_features': max_features,\n",
    "               'max_depth': max_depth,\n",
    "               'min_samples_split': min_samples_split,\n",
    "               'min_samples_leaf': min_samples_leaf,\n",
    "               'bootstrap': bootstrap}\n",
    "print(random_grid)"
   ]
  },
  {
   "cell_type": "code",
   "execution_count": 93,
   "metadata": {
    "colab": {
     "base_uri": "https://localhost:8080/"
    },
    "id": "rVak7g8bnmyp",
    "outputId": "71a9f802-0786-4fd4-e886-6b085ce437f3"
   },
   "outputs": [
    {
     "name": "stdout",
     "output_type": "stream",
     "text": [
      "Fitting 10 folds for each of 100 candidates, totalling 1000 fits\n"
     ]
    },
    {
     "data": {
      "text/plain": [
       "RandomizedSearchCV(cv=10, estimator=RandomForestRegressor(), n_iter=100,\n",
       "                   n_jobs=-1,\n",
       "                   param_distributions={'bootstrap': [True, False],\n",
       "                                        'max_depth': [10, 20, 30, 40, 50, None],\n",
       "                                        'max_features': ['auto', 'sqrt'],\n",
       "                                        'min_samples_leaf': [1, 2],\n",
       "                                        'min_samples_split': [2, 5],\n",
       "                                        'n_estimators': [10, 15, 20, 25, 30]},\n",
       "                   random_state=42, scoring=make_scorer(rmsle), verbose=2)"
      ]
     },
     "execution_count": 93,
     "metadata": {},
     "output_type": "execute_result"
    }
   ],
   "source": [
    "from sklearn.ensemble import RandomForestRegressor\n",
    "rf = RandomForestRegressor()\n",
    "grid_rf = RandomizedSearchCV(estimator = rf, param_distributions = random_grid, n_iter = 100, cv = 10, verbose=2, random_state=42, n_jobs = -1,  scoring=rmsle_scorer)\n",
    "grid_rf.fit(X_train, y_train)"
   ]
  },
  {
   "cell_type": "code",
   "execution_count": 94,
   "metadata": {
    "id": "n2wFukPV0ioR"
   },
   "outputs": [
    {
     "name": "stdout",
     "output_type": "stream",
     "text": [
      "RMSLE Value For Random Forest_bf_group0: 0.1170\n",
      "\n",
      "\n",
      "RMSLE Value For Random Forest_bf_group0 : 0.1678\n",
      "\n",
      "\n"
     ]
    }
   ],
   "source": [
    "pred = grid_rf.predict(X_train)\n",
    "print('RMSLE Value For Random Forest_bf_group0: %.4f' % (rmsle(pred,y_train,False)))\n",
    "print(\"\\n\")\n",
    "\n",
    "\n",
    "y_pred = grid_rf.predict(X_test)\n",
    "print('RMSLE Value For Random Forest_bf_group0 : %.4f' % (rmsle(y_pred,y_test,False)))\n",
    "print(\"\\n\")"
   ]
  },
  {
   "cell_type": "code",
   "execution_count": 95,
   "metadata": {
    "colab": {
     "base_uri": "https://localhost:8080/",
     "height": 1000
    },
    "executionInfo": {
     "elapsed": 536,
     "status": "ok",
     "timestamp": 1621770946998,
     "user": {
      "displayName": "‍원윤정[ 학부재학 / 수학과 ]",
      "photoUrl": "",
      "userId": "18011858018859333600"
     },
     "user_tz": -540
    },
    "id": "2M0H_h4zxU8a",
    "outputId": "9c925d6b-62e2-49b9-aff7-2ee40ff81957",
    "tags": []
   },
   "outputs": [
    {
     "data": {
      "text/html": [
       "<div>\n",
       "<style scoped>\n",
       "    .dataframe tbody tr th:only-of-type {\n",
       "        vertical-align: middle;\n",
       "    }\n",
       "\n",
       "    .dataframe tbody tr th {\n",
       "        vertical-align: top;\n",
       "    }\n",
       "\n",
       "    .dataframe thead th {\n",
       "        text-align: right;\n",
       "    }\n",
       "</style>\n",
       "<table border=\"1\" class=\"dataframe\">\n",
       "  <thead>\n",
       "    <tr style=\"text-align: right;\">\n",
       "      <th></th>\n",
       "      <th>importance</th>\n",
       "    </tr>\n",
       "  </thead>\n",
       "  <tbody>\n",
       "    <tr>\n",
       "      <th>휴일</th>\n",
       "      <td>0.165243</td>\n",
       "    </tr>\n",
       "    <tr>\n",
       "      <th>샌드위치</th>\n",
       "      <td>0.121564</td>\n",
       "    </tr>\n",
       "    <tr>\n",
       "      <th>술집</th>\n",
       "      <td>0.110602</td>\n",
       "    </tr>\n",
       "    <tr>\n",
       "      <th>반석</th>\n",
       "      <td>0.109829</td>\n",
       "    </tr>\n",
       "    <tr>\n",
       "      <th>올리브영</th>\n",
       "      <td>0.094515</td>\n",
       "    </tr>\n",
       "    <tr>\n",
       "      <th>출구</th>\n",
       "      <td>0.075830</td>\n",
       "    </tr>\n",
       "    <tr>\n",
       "      <th>은행</th>\n",
       "      <td>0.057551</td>\n",
       "    </tr>\n",
       "    <tr>\n",
       "      <th>버스정류장</th>\n",
       "      <td>0.043706</td>\n",
       "    </tr>\n",
       "    <tr>\n",
       "      <th>지족</th>\n",
       "      <td>0.035872</td>\n",
       "    </tr>\n",
       "    <tr>\n",
       "      <th>영화관_b</th>\n",
       "      <td>0.030940</td>\n",
       "    </tr>\n",
       "    <tr>\n",
       "      <th>날짜</th>\n",
       "      <td>0.025594</td>\n",
       "    </tr>\n",
       "    <tr>\n",
       "      <th>최고기온</th>\n",
       "      <td>0.021311</td>\n",
       "    </tr>\n",
       "    <tr>\n",
       "      <th>최저기온</th>\n",
       "      <td>0.020490</td>\n",
       "    </tr>\n",
       "    <tr>\n",
       "      <th>스타벅스</th>\n",
       "      <td>0.020391</td>\n",
       "    </tr>\n",
       "    <tr>\n",
       "      <th>노은</th>\n",
       "      <td>0.019468</td>\n",
       "    </tr>\n",
       "    <tr>\n",
       "      <th>학교</th>\n",
       "      <td>0.018824</td>\n",
       "    </tr>\n",
       "    <tr>\n",
       "      <th>월드컵경기장</th>\n",
       "      <td>0.008292</td>\n",
       "    </tr>\n",
       "    <tr>\n",
       "      <th>일우량</th>\n",
       "      <td>0.007663</td>\n",
       "    </tr>\n",
       "    <tr>\n",
       "      <th>도서관_b</th>\n",
       "      <td>0.005502</td>\n",
       "    </tr>\n",
       "    <tr>\n",
       "      <th>대형마트_b</th>\n",
       "      <td>0.002303</td>\n",
       "    </tr>\n",
       "    <tr>\n",
       "      <th>학기여부</th>\n",
       "      <td>0.002131</td>\n",
       "    </tr>\n",
       "    <tr>\n",
       "      <th>적설량</th>\n",
       "      <td>0.001969</td>\n",
       "    </tr>\n",
       "    <tr>\n",
       "      <th>장마기간</th>\n",
       "      <td>0.000407</td>\n",
       "    </tr>\n",
       "    <tr>\n",
       "      <th>현충원</th>\n",
       "      <td>0.000000</td>\n",
       "    </tr>\n",
       "    <tr>\n",
       "      <th>대전</th>\n",
       "      <td>0.000000</td>\n",
       "    </tr>\n",
       "    <tr>\n",
       "      <th>판암</th>\n",
       "      <td>0.000000</td>\n",
       "    </tr>\n",
       "    <tr>\n",
       "      <th>탄방</th>\n",
       "      <td>0.000000</td>\n",
       "    </tr>\n",
       "    <tr>\n",
       "      <th>노령화지수</th>\n",
       "      <td>0.000000</td>\n",
       "    </tr>\n",
       "    <tr>\n",
       "      <th>백화점_b</th>\n",
       "      <td>0.000000</td>\n",
       "    </tr>\n",
       "    <tr>\n",
       "      <th>중앙로</th>\n",
       "      <td>0.000000</td>\n",
       "    </tr>\n",
       "    <tr>\n",
       "      <th>중구청</th>\n",
       "      <td>0.000000</td>\n",
       "    </tr>\n",
       "    <tr>\n",
       "      <th>정부청사</th>\n",
       "      <td>0.000000</td>\n",
       "    </tr>\n",
       "    <tr>\n",
       "      <th>구암</th>\n",
       "      <td>0.000000</td>\n",
       "    </tr>\n",
       "    <tr>\n",
       "      <th>서대전네거리</th>\n",
       "      <td>0.000000</td>\n",
       "    </tr>\n",
       "    <tr>\n",
       "      <th>인구수</th>\n",
       "      <td>0.000000</td>\n",
       "    </tr>\n",
       "    <tr>\n",
       "      <th>버스터미널_b</th>\n",
       "      <td>0.000000</td>\n",
       "    </tr>\n",
       "    <tr>\n",
       "      <th>유성온천</th>\n",
       "      <td>0.000000</td>\n",
       "    </tr>\n",
       "    <tr>\n",
       "      <th>월평</th>\n",
       "      <td>0.000000</td>\n",
       "    </tr>\n",
       "    <tr>\n",
       "      <th>대동</th>\n",
       "      <td>0.000000</td>\n",
       "    </tr>\n",
       "    <tr>\n",
       "      <th>용문</th>\n",
       "      <td>0.000000</td>\n",
       "    </tr>\n",
       "    <tr>\n",
       "      <th>갑천</th>\n",
       "      <td>0.000000</td>\n",
       "    </tr>\n",
       "    <tr>\n",
       "      <th>오룡</th>\n",
       "      <td>0.000000</td>\n",
       "    </tr>\n",
       "    <tr>\n",
       "      <th>병원_b</th>\n",
       "      <td>0.000000</td>\n",
       "    </tr>\n",
       "    <tr>\n",
       "      <th>신흥</th>\n",
       "      <td>0.000000</td>\n",
       "    </tr>\n",
       "    <tr>\n",
       "      <th>시청</th>\n",
       "      <td>0.000000</td>\n",
       "    </tr>\n",
       "    <tr>\n",
       "      <th>갈마</th>\n",
       "      <td>0.000000</td>\n",
       "    </tr>\n",
       "  </tbody>\n",
       "</table>\n",
       "</div>"
      ],
      "text/plain": [
       "         importance\n",
       "휴일         0.165243\n",
       "샌드위치       0.121564\n",
       "술집         0.110602\n",
       "반석         0.109829\n",
       "올리브영       0.094515\n",
       "출구         0.075830\n",
       "은행         0.057551\n",
       "버스정류장      0.043706\n",
       "지족         0.035872\n",
       "영화관_b      0.030940\n",
       "날짜         0.025594\n",
       "최고기온       0.021311\n",
       "최저기온       0.020490\n",
       "스타벅스       0.020391\n",
       "노은         0.019468\n",
       "학교         0.018824\n",
       "월드컵경기장     0.008292\n",
       "일우량        0.007663\n",
       "도서관_b      0.005502\n",
       "대형마트_b     0.002303\n",
       "학기여부       0.002131\n",
       "적설량        0.001969\n",
       "장마기간       0.000407\n",
       "현충원        0.000000\n",
       "대전         0.000000\n",
       "판암         0.000000\n",
       "탄방         0.000000\n",
       "노령화지수      0.000000\n",
       "백화점_b      0.000000\n",
       "중앙로        0.000000\n",
       "중구청        0.000000\n",
       "정부청사       0.000000\n",
       "구암         0.000000\n",
       "서대전네거리     0.000000\n",
       "인구수        0.000000\n",
       "버스터미널_b    0.000000\n",
       "유성온천       0.000000\n",
       "월평         0.000000\n",
       "대동         0.000000\n",
       "용문         0.000000\n",
       "갑천         0.000000\n",
       "오룡         0.000000\n",
       "병원_b       0.000000\n",
       "신흥         0.000000\n",
       "시청         0.000000\n",
       "갈마         0.000000"
      ]
     },
     "execution_count": 95,
     "metadata": {},
     "output_type": "execute_result"
    }
   ],
   "source": [
    "import pandas as pd\n",
    "rf1 = grid_rf.best_estimator_.fit(X_train, y_train)\n",
    "feature_imp = pd.DataFrame(rf1.feature_importances_,index=X_train.columns, columns=['importance']).sort_values('importance',ascending=False)\n",
    "feature_imp"
   ]
  },
  {
   "cell_type": "code",
   "execution_count": null,
   "metadata": {},
   "outputs": [],
   "source": []
  },
  {
   "cell_type": "markdown",
   "metadata": {
    "id": "yewfLh5plarm"
   },
   "source": [
    "# 1 전처리"
   ]
  },
  {
   "cell_type": "code",
   "execution_count": 96,
   "metadata": {
    "executionInfo": {
     "elapsed": 390,
     "status": "ok",
     "timestamp": 1621779650868,
     "user": {
      "displayName": "‍원윤정[ 학부재학 / 수학과 ]",
      "photoUrl": "",
      "userId": "18011858018859333600"
     },
     "user_tz": -540
    },
    "id": "p3hdizfTlaaX"
   },
   "outputs": [],
   "source": [
    "import pandas as pd\n",
    "import numpy as np"
   ]
  },
  {
   "cell_type": "code",
   "execution_count": 97,
   "metadata": {
    "executionInfo": {
     "elapsed": 614,
     "status": "ok",
     "timestamp": 1621779652475,
     "user": {
      "displayName": "‍원윤정[ 학부재학 / 수학과 ]",
      "photoUrl": "",
      "userId": "18011858018859333600"
     },
     "user_tz": -540
    },
    "id": "4avprQHDvpF2"
   },
   "outputs": [],
   "source": [
    "train = pd.read_csv(\"/Users/yoonjeong/Desktop/bf_train_1.csv\", encoding='cp949')\n",
    "test = pd.read_csv(\"/Users/yoonjeong/Desktop/bf_test_1.csv\", encoding='cp949')"
   ]
  },
  {
   "cell_type": "markdown",
   "metadata": {
    "id": "vRj5AGabltaw"
   },
   "source": [
    "모델링"
   ]
  },
  {
   "cell_type": "code",
   "execution_count": 98,
   "metadata": {
    "executionInfo": {
     "elapsed": 275,
     "status": "ok",
     "timestamp": 1621779661048,
     "user": {
      "displayName": "‍원윤정[ 학부재학 / 수학과 ]",
      "photoUrl": "",
      "userId": "18011858018859333600"
     },
     "user_tz": -540
    },
    "id": "y7-EBV1rwfi6"
   },
   "outputs": [],
   "source": [
    "# X : features, y: target variable\n",
    "X_train=  train[train.columns.difference([\"이용자 수\"])]\n",
    "X_test = test[test.columns.difference([\"이용자 수\"])]\n",
    "y_train= train[\"이용자 수\"]\n",
    "y_test= test['이용자 수']"
   ]
  },
  {
   "cell_type": "markdown",
   "metadata": {
    "id": "5CTxc3Drw6Hs"
   },
   "source": [
    "# 1 random forest"
   ]
  },
  {
   "cell_type": "code",
   "execution_count": 99,
   "metadata": {
    "colab": {
     "base_uri": "https://localhost:8080/"
    },
    "executionInfo": {
     "elapsed": 21733,
     "status": "ok",
     "timestamp": 1621780020842,
     "user": {
      "displayName": "‍원윤정[ 학부재학 / 수학과 ]",
      "photoUrl": "",
      "userId": "18011858018859333600"
     },
     "user_tz": -540
    },
    "id": "9cRYHUaNm40v",
    "outputId": "50212ad8-9d2f-4387-ed19-a1bd4a662aac"
   },
   "outputs": [
    {
     "name": "stdout",
     "output_type": "stream",
     "text": [
      "{'n_estimators': [10, 15, 20, 25, 30], 'max_features': ['auto', 'sqrt'], 'max_depth': [10, 20, 30, 40, 50, None], 'min_samples_split': [2, 5], 'min_samples_leaf': [1, 2], 'bootstrap': [True, False]}\n"
     ]
    }
   ],
   "source": [
    "from sklearn.model_selection import RandomizedSearchCV\n",
    "\n",
    "n_estimators = [int(x) for x in np.linspace(start = 10, stop = 30, num = 5)]\n",
    "\n",
    "max_features = ['auto', 'sqrt']\n",
    "\n",
    "max_depth = [int(x) for x in np.linspace(10, 50, num = 5)]\n",
    "max_depth.append(None)\n",
    "# Minimum number of samples required to split a node\n",
    "min_samples_split = [2, 5]\n",
    "# Minimum number of samples required at each leaf node\n",
    "min_samples_leaf = [1, 2]\n",
    "# Method of selecting samples for training each tree\n",
    "bootstrap = [True, False]\n",
    "# Create the random grid\n",
    "random_grid = {'n_estimators': n_estimators,\n",
    "               'max_features': max_features,\n",
    "               'max_depth': max_depth,\n",
    "               'min_samples_split': min_samples_split,\n",
    "               'min_samples_leaf': min_samples_leaf,\n",
    "               'bootstrap': bootstrap}\n",
    "print(random_grid)"
   ]
  },
  {
   "cell_type": "code",
   "execution_count": 100,
   "metadata": {
    "colab": {
     "base_uri": "https://localhost:8080/"
    },
    "id": "rVak7g8bnmyp",
    "outputId": "71a9f802-0786-4fd4-e886-6b085ce437f3"
   },
   "outputs": [
    {
     "name": "stdout",
     "output_type": "stream",
     "text": [
      "Fitting 10 folds for each of 100 candidates, totalling 1000 fits\n"
     ]
    },
    {
     "data": {
      "text/plain": [
       "RandomizedSearchCV(cv=10, estimator=RandomForestRegressor(), n_iter=100,\n",
       "                   n_jobs=-1,\n",
       "                   param_distributions={'bootstrap': [True, False],\n",
       "                                        'max_depth': [10, 20, 30, 40, 50, None],\n",
       "                                        'max_features': ['auto', 'sqrt'],\n",
       "                                        'min_samples_leaf': [1, 2],\n",
       "                                        'min_samples_split': [2, 5],\n",
       "                                        'n_estimators': [10, 15, 20, 25, 30]},\n",
       "                   random_state=42, scoring=make_scorer(rmsle), verbose=2)"
      ]
     },
     "execution_count": 100,
     "metadata": {},
     "output_type": "execute_result"
    }
   ],
   "source": [
    "from sklearn.ensemble import RandomForestRegressor\n",
    "rf = RandomForestRegressor()\n",
    "grid_rf = RandomizedSearchCV(estimator = rf, param_distributions = random_grid, n_iter = 100, cv = 10, verbose=2, random_state=42, n_jobs = -1,  scoring=rmsle_scorer)\n",
    "grid_rf.fit(X_train, y_train)"
   ]
  },
  {
   "cell_type": "code",
   "execution_count": 117,
   "metadata": {
    "id": "n2wFukPV0ioR"
   },
   "outputs": [
    {
     "name": "stdout",
     "output_type": "stream",
     "text": [
      "RMSLE Value For Random Forest_bf_group1: 0.1067\n",
      "\n",
      "\n",
      "RMSLE Value For Random Forest_bf_group1 : 0.1523\n",
      "\n",
      "\n"
     ]
    }
   ],
   "source": [
    "pred = grid_rf.predict(X_train)\n",
    "print('RMSLE Value For Random Forest_bf_group1: %.4f' % (rmsle(pred,y_train,False)))\n",
    "print(\"\\n\")\n",
    "\n",
    "\n",
    "y_pred = grid_rf.predict(X_test)\n",
    "print('RMSLE Value For Random Forest_bf_group1 : %.4f' % (rmsle(y_pred,y_test,False)))\n",
    "print(\"\\n\")"
   ]
  },
  {
   "cell_type": "code",
   "execution_count": 102,
   "metadata": {
    "colab": {
     "base_uri": "https://localhost:8080/",
     "height": 1000
    },
    "executionInfo": {
     "elapsed": 536,
     "status": "ok",
     "timestamp": 1621770946998,
     "user": {
      "displayName": "‍원윤정[ 학부재학 / 수학과 ]",
      "photoUrl": "",
      "userId": "18011858018859333600"
     },
     "user_tz": -540
    },
    "id": "2M0H_h4zxU8a",
    "outputId": "9c925d6b-62e2-49b9-aff7-2ee40ff81957",
    "tags": []
   },
   "outputs": [
    {
     "data": {
      "text/html": [
       "<div>\n",
       "<style scoped>\n",
       "    .dataframe tbody tr th:only-of-type {\n",
       "        vertical-align: middle;\n",
       "    }\n",
       "\n",
       "    .dataframe tbody tr th {\n",
       "        vertical-align: top;\n",
       "    }\n",
       "\n",
       "    .dataframe thead th {\n",
       "        text-align: right;\n",
       "    }\n",
       "</style>\n",
       "<table border=\"1\" class=\"dataframe\">\n",
       "  <thead>\n",
       "    <tr style=\"text-align: right;\">\n",
       "      <th></th>\n",
       "      <th>importance</th>\n",
       "    </tr>\n",
       "  </thead>\n",
       "  <tbody>\n",
       "    <tr>\n",
       "      <th>은행</th>\n",
       "      <td>0.166927</td>\n",
       "    </tr>\n",
       "    <tr>\n",
       "      <th>휴일</th>\n",
       "      <td>0.142511</td>\n",
       "    </tr>\n",
       "    <tr>\n",
       "      <th>학교</th>\n",
       "      <td>0.104761</td>\n",
       "    </tr>\n",
       "    <tr>\n",
       "      <th>스타벅스</th>\n",
       "      <td>0.098315</td>\n",
       "    </tr>\n",
       "    <tr>\n",
       "      <th>출구</th>\n",
       "      <td>0.079436</td>\n",
       "    </tr>\n",
       "    <tr>\n",
       "      <th>현충원</th>\n",
       "      <td>0.062221</td>\n",
       "    </tr>\n",
       "    <tr>\n",
       "      <th>영화관_b</th>\n",
       "      <td>0.049965</td>\n",
       "    </tr>\n",
       "    <tr>\n",
       "      <th>올리브영</th>\n",
       "      <td>0.041811</td>\n",
       "    </tr>\n",
       "    <tr>\n",
       "      <th>버스터미널_b</th>\n",
       "      <td>0.037391</td>\n",
       "    </tr>\n",
       "    <tr>\n",
       "      <th>구암</th>\n",
       "      <td>0.035332</td>\n",
       "    </tr>\n",
       "    <tr>\n",
       "      <th>인구수</th>\n",
       "      <td>0.022934</td>\n",
       "    </tr>\n",
       "    <tr>\n",
       "      <th>술집</th>\n",
       "      <td>0.018576</td>\n",
       "    </tr>\n",
       "    <tr>\n",
       "      <th>백화점_b</th>\n",
       "      <td>0.016647</td>\n",
       "    </tr>\n",
       "    <tr>\n",
       "      <th>대형마트_b</th>\n",
       "      <td>0.016438</td>\n",
       "    </tr>\n",
       "    <tr>\n",
       "      <th>유성온천</th>\n",
       "      <td>0.015872</td>\n",
       "    </tr>\n",
       "    <tr>\n",
       "      <th>날짜</th>\n",
       "      <td>0.014809</td>\n",
       "    </tr>\n",
       "    <tr>\n",
       "      <th>최저기온</th>\n",
       "      <td>0.014500</td>\n",
       "    </tr>\n",
       "    <tr>\n",
       "      <th>최고기온</th>\n",
       "      <td>0.014453</td>\n",
       "    </tr>\n",
       "    <tr>\n",
       "      <th>병원_b</th>\n",
       "      <td>0.012087</td>\n",
       "    </tr>\n",
       "    <tr>\n",
       "      <th>노령화지수</th>\n",
       "      <td>0.011429</td>\n",
       "    </tr>\n",
       "    <tr>\n",
       "      <th>정부청사</th>\n",
       "      <td>0.006929</td>\n",
       "    </tr>\n",
       "    <tr>\n",
       "      <th>일우량</th>\n",
       "      <td>0.005246</td>\n",
       "    </tr>\n",
       "    <tr>\n",
       "      <th>버스정류장</th>\n",
       "      <td>0.004445</td>\n",
       "    </tr>\n",
       "    <tr>\n",
       "      <th>학기여부</th>\n",
       "      <td>0.003543</td>\n",
       "    </tr>\n",
       "    <tr>\n",
       "      <th>적설량</th>\n",
       "      <td>0.001372</td>\n",
       "    </tr>\n",
       "    <tr>\n",
       "      <th>샌드위치</th>\n",
       "      <td>0.000927</td>\n",
       "    </tr>\n",
       "    <tr>\n",
       "      <th>시청</th>\n",
       "      <td>0.000601</td>\n",
       "    </tr>\n",
       "    <tr>\n",
       "      <th>장마기간</th>\n",
       "      <td>0.000523</td>\n",
       "    </tr>\n",
       "    <tr>\n",
       "      <th>월평</th>\n",
       "      <td>0.000000</td>\n",
       "    </tr>\n",
       "    <tr>\n",
       "      <th>오룡</th>\n",
       "      <td>0.000000</td>\n",
       "    </tr>\n",
       "    <tr>\n",
       "      <th>반석</th>\n",
       "      <td>0.000000</td>\n",
       "    </tr>\n",
       "    <tr>\n",
       "      <th>대전</th>\n",
       "      <td>0.000000</td>\n",
       "    </tr>\n",
       "    <tr>\n",
       "      <th>판암</th>\n",
       "      <td>0.000000</td>\n",
       "    </tr>\n",
       "    <tr>\n",
       "      <th>탄방</th>\n",
       "      <td>0.000000</td>\n",
       "    </tr>\n",
       "    <tr>\n",
       "      <th>신흥</th>\n",
       "      <td>0.000000</td>\n",
       "    </tr>\n",
       "    <tr>\n",
       "      <th>대동</th>\n",
       "      <td>0.000000</td>\n",
       "    </tr>\n",
       "    <tr>\n",
       "      <th>지족</th>\n",
       "      <td>0.000000</td>\n",
       "    </tr>\n",
       "    <tr>\n",
       "      <th>도서관_b</th>\n",
       "      <td>0.000000</td>\n",
       "    </tr>\n",
       "    <tr>\n",
       "      <th>중앙로</th>\n",
       "      <td>0.000000</td>\n",
       "    </tr>\n",
       "    <tr>\n",
       "      <th>중구청</th>\n",
       "      <td>0.000000</td>\n",
       "    </tr>\n",
       "    <tr>\n",
       "      <th>갑천</th>\n",
       "      <td>0.000000</td>\n",
       "    </tr>\n",
       "    <tr>\n",
       "      <th>용문</th>\n",
       "      <td>0.000000</td>\n",
       "    </tr>\n",
       "    <tr>\n",
       "      <th>서대전네거리</th>\n",
       "      <td>0.000000</td>\n",
       "    </tr>\n",
       "    <tr>\n",
       "      <th>월드컵경기장</th>\n",
       "      <td>0.000000</td>\n",
       "    </tr>\n",
       "    <tr>\n",
       "      <th>노은</th>\n",
       "      <td>0.000000</td>\n",
       "    </tr>\n",
       "    <tr>\n",
       "      <th>갈마</th>\n",
       "      <td>0.000000</td>\n",
       "    </tr>\n",
       "  </tbody>\n",
       "</table>\n",
       "</div>"
      ],
      "text/plain": [
       "         importance\n",
       "은행         0.166927\n",
       "휴일         0.142511\n",
       "학교         0.104761\n",
       "스타벅스       0.098315\n",
       "출구         0.079436\n",
       "현충원        0.062221\n",
       "영화관_b      0.049965\n",
       "올리브영       0.041811\n",
       "버스터미널_b    0.037391\n",
       "구암         0.035332\n",
       "인구수        0.022934\n",
       "술집         0.018576\n",
       "백화점_b      0.016647\n",
       "대형마트_b     0.016438\n",
       "유성온천       0.015872\n",
       "날짜         0.014809\n",
       "최저기온       0.014500\n",
       "최고기온       0.014453\n",
       "병원_b       0.012087\n",
       "노령화지수      0.011429\n",
       "정부청사       0.006929\n",
       "일우량        0.005246\n",
       "버스정류장      0.004445\n",
       "학기여부       0.003543\n",
       "적설량        0.001372\n",
       "샌드위치       0.000927\n",
       "시청         0.000601\n",
       "장마기간       0.000523\n",
       "월평         0.000000\n",
       "오룡         0.000000\n",
       "반석         0.000000\n",
       "대전         0.000000\n",
       "판암         0.000000\n",
       "탄방         0.000000\n",
       "신흥         0.000000\n",
       "대동         0.000000\n",
       "지족         0.000000\n",
       "도서관_b      0.000000\n",
       "중앙로        0.000000\n",
       "중구청        0.000000\n",
       "갑천         0.000000\n",
       "용문         0.000000\n",
       "서대전네거리     0.000000\n",
       "월드컵경기장     0.000000\n",
       "노은         0.000000\n",
       "갈마         0.000000"
      ]
     },
     "execution_count": 102,
     "metadata": {},
     "output_type": "execute_result"
    }
   ],
   "source": [
    "import pandas as pd\n",
    "rf1 = grid_rf.best_estimator_.fit(X_train, y_train)\n",
    "feature_imp = pd.DataFrame(rf1.feature_importances_,index=X_train.columns, columns=['importance']).sort_values('importance',ascending=False)\n",
    "feature_imp"
   ]
  },
  {
   "cell_type": "markdown",
   "metadata": {
    "id": "yewfLh5plarm"
   },
   "source": [
    "# 2 전처리"
   ]
  },
  {
   "cell_type": "code",
   "execution_count": 103,
   "metadata": {
    "executionInfo": {
     "elapsed": 390,
     "status": "ok",
     "timestamp": 1621779650868,
     "user": {
      "displayName": "‍원윤정[ 학부재학 / 수학과 ]",
      "photoUrl": "",
      "userId": "18011858018859333600"
     },
     "user_tz": -540
    },
    "id": "p3hdizfTlaaX"
   },
   "outputs": [],
   "source": [
    "import pandas as pd\n",
    "import numpy as np"
   ]
  },
  {
   "cell_type": "code",
   "execution_count": 104,
   "metadata": {
    "executionInfo": {
     "elapsed": 614,
     "status": "ok",
     "timestamp": 1621779652475,
     "user": {
      "displayName": "‍원윤정[ 학부재학 / 수학과 ]",
      "photoUrl": "",
      "userId": "18011858018859333600"
     },
     "user_tz": -540
    },
    "id": "4avprQHDvpF2"
   },
   "outputs": [],
   "source": [
    "train = pd.read_csv(\"/Users/yoonjeong/Desktop/bf_train_2.csv\", encoding='cp949')\n",
    "test = pd.read_csv(\"/Users/yoonjeong/Desktop/bf_test_2.csv\", encoding='cp949')"
   ]
  },
  {
   "cell_type": "markdown",
   "metadata": {
    "id": "vRj5AGabltaw"
   },
   "source": [
    "모델링"
   ]
  },
  {
   "cell_type": "code",
   "execution_count": 105,
   "metadata": {
    "executionInfo": {
     "elapsed": 275,
     "status": "ok",
     "timestamp": 1621779661048,
     "user": {
      "displayName": "‍원윤정[ 학부재학 / 수학과 ]",
      "photoUrl": "",
      "userId": "18011858018859333600"
     },
     "user_tz": -540
    },
    "id": "y7-EBV1rwfi6"
   },
   "outputs": [],
   "source": [
    "# X : features, y: target variable\n",
    "X_train=  train[train.columns.difference([\"이용자 수\"])]\n",
    "X_test = test[test.columns.difference([\"이용자 수\"])]\n",
    "y_train= train[\"이용자 수\"]\n",
    "y_test= test['이용자 수']"
   ]
  },
  {
   "cell_type": "markdown",
   "metadata": {
    "id": "5CTxc3Drw6Hs"
   },
   "source": [
    "# 2 random forest"
   ]
  },
  {
   "cell_type": "code",
   "execution_count": 106,
   "metadata": {
    "colab": {
     "base_uri": "https://localhost:8080/"
    },
    "executionInfo": {
     "elapsed": 21733,
     "status": "ok",
     "timestamp": 1621780020842,
     "user": {
      "displayName": "‍원윤정[ 학부재학 / 수학과 ]",
      "photoUrl": "",
      "userId": "18011858018859333600"
     },
     "user_tz": -540
    },
    "id": "9cRYHUaNm40v",
    "outputId": "50212ad8-9d2f-4387-ed19-a1bd4a662aac"
   },
   "outputs": [
    {
     "name": "stdout",
     "output_type": "stream",
     "text": [
      "{'n_estimators': [10, 15, 20, 25, 30], 'max_features': ['auto', 'sqrt'], 'max_depth': [10, 20, 30, 40, 50, None], 'min_samples_split': [2, 5], 'min_samples_leaf': [1, 2], 'bootstrap': [True, False]}\n"
     ]
    }
   ],
   "source": [
    "from sklearn.model_selection import RandomizedSearchCV\n",
    "\n",
    "n_estimators = [int(x) for x in np.linspace(start = 10, stop = 30, num = 5)]\n",
    "\n",
    "max_features = ['auto', 'sqrt']\n",
    "\n",
    "max_depth = [int(x) for x in np.linspace(10, 50, num = 5)]\n",
    "max_depth.append(None)\n",
    "# Minimum number of samples required to split a node\n",
    "min_samples_split = [2, 5]\n",
    "# Minimum number of samples required at each leaf node\n",
    "min_samples_leaf = [1, 2]\n",
    "# Method of selecting samples for training each tree\n",
    "bootstrap = [True, False]\n",
    "# Create the random grid\n",
    "random_grid = {'n_estimators': n_estimators,\n",
    "               'max_features': max_features,\n",
    "               'max_depth': max_depth,\n",
    "               'min_samples_split': min_samples_split,\n",
    "               'min_samples_leaf': min_samples_leaf,\n",
    "               'bootstrap': bootstrap}\n",
    "print(random_grid)"
   ]
  },
  {
   "cell_type": "code",
   "execution_count": 107,
   "metadata": {
    "colab": {
     "base_uri": "https://localhost:8080/"
    },
    "id": "rVak7g8bnmyp",
    "outputId": "71a9f802-0786-4fd4-e886-6b085ce437f3"
   },
   "outputs": [
    {
     "name": "stdout",
     "output_type": "stream",
     "text": [
      "Fitting 10 folds for each of 100 candidates, totalling 1000 fits\n"
     ]
    },
    {
     "name": "stderr",
     "output_type": "stream",
     "text": [
      "/Users/yoonjeong/opt/anaconda3/lib/python3.8/site-packages/sklearn/model_selection/_search.py:918: UserWarning: One or more of the test scores are non-finite: [inf inf inf inf inf inf inf inf inf inf inf inf inf inf inf inf inf inf\n",
      " inf inf inf inf inf inf inf inf inf inf inf inf inf inf inf inf inf inf\n",
      " inf inf inf inf inf inf inf inf inf inf inf inf inf inf inf inf inf inf\n",
      " inf inf inf inf inf inf inf inf inf inf inf inf inf inf inf inf inf inf\n",
      " inf inf inf inf inf inf inf inf inf inf inf inf inf inf inf inf inf inf\n",
      " inf inf inf inf inf inf inf inf inf inf]\n",
      "  warnings.warn(\n",
      "/Users/yoonjeong/opt/anaconda3/lib/python3.8/site-packages/sklearn/model_selection/_search.py:925: RuntimeWarning: invalid value encountered in subtract\n",
      "  array_stds = np.sqrt(np.average((array -\n"
     ]
    },
    {
     "data": {
      "text/plain": [
       "RandomizedSearchCV(cv=10, estimator=RandomForestRegressor(), n_iter=100,\n",
       "                   n_jobs=-1,\n",
       "                   param_distributions={'bootstrap': [True, False],\n",
       "                                        'max_depth': [10, 20, 30, 40, 50, None],\n",
       "                                        'max_features': ['auto', 'sqrt'],\n",
       "                                        'min_samples_leaf': [1, 2],\n",
       "                                        'min_samples_split': [2, 5],\n",
       "                                        'n_estimators': [10, 15, 20, 25, 30]},\n",
       "                   random_state=42, scoring=make_scorer(rmsle), verbose=2)"
      ]
     },
     "execution_count": 107,
     "metadata": {},
     "output_type": "execute_result"
    }
   ],
   "source": [
    "from sklearn.ensemble import RandomForestRegressor\n",
    "rf = RandomForestRegressor()\n",
    "grid_rf = RandomizedSearchCV(estimator = rf, param_distributions = random_grid, n_iter = 100, cv = 10, verbose=2, random_state=42, n_jobs = -1,  scoring=rmsle_scorer)\n",
    "grid_rf.fit(X_train, y_train)"
   ]
  },
  {
   "cell_type": "code",
   "execution_count": 108,
   "metadata": {
    "id": "n2wFukPV0ioR"
   },
   "outputs": [
    {
     "name": "stdout",
     "output_type": "stream",
     "text": [
      "RMSLE Value For Random Forest_bf_group2: 0.0923\n",
      "\n",
      "\n",
      "RMSLE Value For Random Forest_bf_group2 : 0.1350\n",
      "\n",
      "\n"
     ]
    }
   ],
   "source": [
    "pred = grid_rf.predict(X_train)\n",
    "print('RMSLE Value For Random Forest_bf_group2: %.4f' % (rmsle(pred,y_train,False)))\n",
    "print(\"\\n\")\n",
    "\n",
    "\n",
    "y_pred = grid_rf.predict(X_test)\n",
    "print('RMSLE Value For Random Forest_bf_group2 : %.4f' % (rmsle(y_pred,y_test,False)))\n",
    "print(\"\\n\")"
   ]
  },
  {
   "cell_type": "code",
   "execution_count": 109,
   "metadata": {
    "colab": {
     "base_uri": "https://localhost:8080/",
     "height": 1000
    },
    "executionInfo": {
     "elapsed": 536,
     "status": "ok",
     "timestamp": 1621770946998,
     "user": {
      "displayName": "‍원윤정[ 학부재학 / 수학과 ]",
      "photoUrl": "",
      "userId": "18011858018859333600"
     },
     "user_tz": -540
    },
    "id": "2M0H_h4zxU8a",
    "outputId": "9c925d6b-62e2-49b9-aff7-2ee40ff81957",
    "tags": []
   },
   "outputs": [
    {
     "data": {
      "text/html": [
       "<div>\n",
       "<style scoped>\n",
       "    .dataframe tbody tr th:only-of-type {\n",
       "        vertical-align: middle;\n",
       "    }\n",
       "\n",
       "    .dataframe tbody tr th {\n",
       "        vertical-align: top;\n",
       "    }\n",
       "\n",
       "    .dataframe thead th {\n",
       "        text-align: right;\n",
       "    }\n",
       "</style>\n",
       "<table border=\"1\" class=\"dataframe\">\n",
       "  <thead>\n",
       "    <tr style=\"text-align: right;\">\n",
       "      <th></th>\n",
       "      <th>importance</th>\n",
       "    </tr>\n",
       "  </thead>\n",
       "  <tbody>\n",
       "    <tr>\n",
       "      <th>은행</th>\n",
       "      <td>0.226285</td>\n",
       "    </tr>\n",
       "    <tr>\n",
       "      <th>학교</th>\n",
       "      <td>0.178195</td>\n",
       "    </tr>\n",
       "    <tr>\n",
       "      <th>술집</th>\n",
       "      <td>0.107445</td>\n",
       "    </tr>\n",
       "    <tr>\n",
       "      <th>버스정류장</th>\n",
       "      <td>0.093986</td>\n",
       "    </tr>\n",
       "    <tr>\n",
       "      <th>출구</th>\n",
       "      <td>0.092256</td>\n",
       "    </tr>\n",
       "    <tr>\n",
       "      <th>스타벅스</th>\n",
       "      <td>0.063149</td>\n",
       "    </tr>\n",
       "    <tr>\n",
       "      <th>휴일</th>\n",
       "      <td>0.055979</td>\n",
       "    </tr>\n",
       "    <tr>\n",
       "      <th>월평</th>\n",
       "      <td>0.043533</td>\n",
       "    </tr>\n",
       "    <tr>\n",
       "      <th>갑천</th>\n",
       "      <td>0.032856</td>\n",
       "    </tr>\n",
       "    <tr>\n",
       "      <th>노령화지수</th>\n",
       "      <td>0.021348</td>\n",
       "    </tr>\n",
       "    <tr>\n",
       "      <th>올리브영</th>\n",
       "      <td>0.020472</td>\n",
       "    </tr>\n",
       "    <tr>\n",
       "      <th>날짜</th>\n",
       "      <td>0.013251</td>\n",
       "    </tr>\n",
       "    <tr>\n",
       "      <th>최저기온</th>\n",
       "      <td>0.012947</td>\n",
       "    </tr>\n",
       "    <tr>\n",
       "      <th>최고기온</th>\n",
       "      <td>0.011350</td>\n",
       "    </tr>\n",
       "    <tr>\n",
       "      <th>대형마트_b</th>\n",
       "      <td>0.010900</td>\n",
       "    </tr>\n",
       "    <tr>\n",
       "      <th>일우량</th>\n",
       "      <td>0.005625</td>\n",
       "    </tr>\n",
       "    <tr>\n",
       "      <th>인구수</th>\n",
       "      <td>0.003719</td>\n",
       "    </tr>\n",
       "    <tr>\n",
       "      <th>학기여부</th>\n",
       "      <td>0.002646</td>\n",
       "    </tr>\n",
       "    <tr>\n",
       "      <th>갈마</th>\n",
       "      <td>0.002552</td>\n",
       "    </tr>\n",
       "    <tr>\n",
       "      <th>적설량</th>\n",
       "      <td>0.001149</td>\n",
       "    </tr>\n",
       "    <tr>\n",
       "      <th>장마기간</th>\n",
       "      <td>0.000358</td>\n",
       "    </tr>\n",
       "    <tr>\n",
       "      <th>판암</th>\n",
       "      <td>0.000000</td>\n",
       "    </tr>\n",
       "    <tr>\n",
       "      <th>탄방</th>\n",
       "      <td>0.000000</td>\n",
       "    </tr>\n",
       "    <tr>\n",
       "      <th>구암</th>\n",
       "      <td>0.000000</td>\n",
       "    </tr>\n",
       "    <tr>\n",
       "      <th>현충원</th>\n",
       "      <td>0.000000</td>\n",
       "    </tr>\n",
       "    <tr>\n",
       "      <th>지족</th>\n",
       "      <td>0.000000</td>\n",
       "    </tr>\n",
       "    <tr>\n",
       "      <th>중앙로</th>\n",
       "      <td>0.000000</td>\n",
       "    </tr>\n",
       "    <tr>\n",
       "      <th>중구청</th>\n",
       "      <td>0.000000</td>\n",
       "    </tr>\n",
       "    <tr>\n",
       "      <th>정부청사</th>\n",
       "      <td>0.000000</td>\n",
       "    </tr>\n",
       "    <tr>\n",
       "      <th>백화점_b</th>\n",
       "      <td>0.000000</td>\n",
       "    </tr>\n",
       "    <tr>\n",
       "      <th>반석</th>\n",
       "      <td>0.000000</td>\n",
       "    </tr>\n",
       "    <tr>\n",
       "      <th>유성온천</th>\n",
       "      <td>0.000000</td>\n",
       "    </tr>\n",
       "    <tr>\n",
       "      <th>대동</th>\n",
       "      <td>0.000000</td>\n",
       "    </tr>\n",
       "    <tr>\n",
       "      <th>월드컵경기장</th>\n",
       "      <td>0.000000</td>\n",
       "    </tr>\n",
       "    <tr>\n",
       "      <th>용문</th>\n",
       "      <td>0.000000</td>\n",
       "    </tr>\n",
       "    <tr>\n",
       "      <th>대전</th>\n",
       "      <td>0.000000</td>\n",
       "    </tr>\n",
       "    <tr>\n",
       "      <th>오룡</th>\n",
       "      <td>0.000000</td>\n",
       "    </tr>\n",
       "    <tr>\n",
       "      <th>영화관_b</th>\n",
       "      <td>0.000000</td>\n",
       "    </tr>\n",
       "    <tr>\n",
       "      <th>신흥</th>\n",
       "      <td>0.000000</td>\n",
       "    </tr>\n",
       "    <tr>\n",
       "      <th>시청</th>\n",
       "      <td>0.000000</td>\n",
       "    </tr>\n",
       "    <tr>\n",
       "      <th>도서관_b</th>\n",
       "      <td>0.000000</td>\n",
       "    </tr>\n",
       "    <tr>\n",
       "      <th>서대전네거리</th>\n",
       "      <td>0.000000</td>\n",
       "    </tr>\n",
       "    <tr>\n",
       "      <th>샌드위치</th>\n",
       "      <td>0.000000</td>\n",
       "    </tr>\n",
       "    <tr>\n",
       "      <th>병원_b</th>\n",
       "      <td>0.000000</td>\n",
       "    </tr>\n",
       "    <tr>\n",
       "      <th>버스터미널_b</th>\n",
       "      <td>0.000000</td>\n",
       "    </tr>\n",
       "    <tr>\n",
       "      <th>노은</th>\n",
       "      <td>0.000000</td>\n",
       "    </tr>\n",
       "  </tbody>\n",
       "</table>\n",
       "</div>"
      ],
      "text/plain": [
       "         importance\n",
       "은행         0.226285\n",
       "학교         0.178195\n",
       "술집         0.107445\n",
       "버스정류장      0.093986\n",
       "출구         0.092256\n",
       "스타벅스       0.063149\n",
       "휴일         0.055979\n",
       "월평         0.043533\n",
       "갑천         0.032856\n",
       "노령화지수      0.021348\n",
       "올리브영       0.020472\n",
       "날짜         0.013251\n",
       "최저기온       0.012947\n",
       "최고기온       0.011350\n",
       "대형마트_b     0.010900\n",
       "일우량        0.005625\n",
       "인구수        0.003719\n",
       "학기여부       0.002646\n",
       "갈마         0.002552\n",
       "적설량        0.001149\n",
       "장마기간       0.000358\n",
       "판암         0.000000\n",
       "탄방         0.000000\n",
       "구암         0.000000\n",
       "현충원        0.000000\n",
       "지족         0.000000\n",
       "중앙로        0.000000\n",
       "중구청        0.000000\n",
       "정부청사       0.000000\n",
       "백화점_b      0.000000\n",
       "반석         0.000000\n",
       "유성온천       0.000000\n",
       "대동         0.000000\n",
       "월드컵경기장     0.000000\n",
       "용문         0.000000\n",
       "대전         0.000000\n",
       "오룡         0.000000\n",
       "영화관_b      0.000000\n",
       "신흥         0.000000\n",
       "시청         0.000000\n",
       "도서관_b      0.000000\n",
       "서대전네거리     0.000000\n",
       "샌드위치       0.000000\n",
       "병원_b       0.000000\n",
       "버스터미널_b    0.000000\n",
       "노은         0.000000"
      ]
     },
     "execution_count": 109,
     "metadata": {},
     "output_type": "execute_result"
    }
   ],
   "source": [
    "import pandas as pd\n",
    "rf1 = grid_rf.best_estimator_.fit(X_train, y_train)\n",
    "feature_imp = pd.DataFrame(rf1.feature_importances_,index=X_train.columns, columns=['importance']).sort_values('importance',ascending=False)\n",
    "feature_imp"
   ]
  },
  {
   "cell_type": "markdown",
   "metadata": {
    "id": "yewfLh5plarm"
   },
   "source": [
    "# 3 전처리"
   ]
  },
  {
   "cell_type": "code",
   "execution_count": 110,
   "metadata": {
    "executionInfo": {
     "elapsed": 390,
     "status": "ok",
     "timestamp": 1621779650868,
     "user": {
      "displayName": "‍원윤정[ 학부재학 / 수학과 ]",
      "photoUrl": "",
      "userId": "18011858018859333600"
     },
     "user_tz": -540
    },
    "id": "p3hdizfTlaaX"
   },
   "outputs": [],
   "source": [
    "import pandas as pd\n",
    "import numpy as np"
   ]
  },
  {
   "cell_type": "code",
   "execution_count": 111,
   "metadata": {
    "executionInfo": {
     "elapsed": 614,
     "status": "ok",
     "timestamp": 1621779652475,
     "user": {
      "displayName": "‍원윤정[ 학부재학 / 수학과 ]",
      "photoUrl": "",
      "userId": "18011858018859333600"
     },
     "user_tz": -540
    },
    "id": "4avprQHDvpF2"
   },
   "outputs": [],
   "source": [
    "train = pd.read_csv(\"/Users/yoonjeong/Desktop/bf_train_3.csv\", encoding='cp949')\n",
    "test = pd.read_csv(\"/Users/yoonjeong/Desktop/bf_test_3.csv\", encoding='cp949')"
   ]
  },
  {
   "cell_type": "markdown",
   "metadata": {
    "id": "vRj5AGabltaw"
   },
   "source": [
    "모델링"
   ]
  },
  {
   "cell_type": "code",
   "execution_count": 112,
   "metadata": {
    "executionInfo": {
     "elapsed": 275,
     "status": "ok",
     "timestamp": 1621779661048,
     "user": {
      "displayName": "‍원윤정[ 학부재학 / 수학과 ]",
      "photoUrl": "",
      "userId": "18011858018859333600"
     },
     "user_tz": -540
    },
    "id": "y7-EBV1rwfi6"
   },
   "outputs": [],
   "source": [
    "# X : features, y: target variable\n",
    "X_train=  train[train.columns.difference([\"이용자 수\"])]\n",
    "X_test = test[test.columns.difference([\"이용자 수\"])]\n",
    "y_train= train[\"이용자 수\"]\n",
    "y_test= test['이용자 수']"
   ]
  },
  {
   "cell_type": "markdown",
   "metadata": {
    "id": "5CTxc3Drw6Hs"
   },
   "source": [
    "# 3 random forest"
   ]
  },
  {
   "cell_type": "code",
   "execution_count": 113,
   "metadata": {
    "colab": {
     "base_uri": "https://localhost:8080/"
    },
    "executionInfo": {
     "elapsed": 21733,
     "status": "ok",
     "timestamp": 1621780020842,
     "user": {
      "displayName": "‍원윤정[ 학부재학 / 수학과 ]",
      "photoUrl": "",
      "userId": "18011858018859333600"
     },
     "user_tz": -540
    },
    "id": "9cRYHUaNm40v",
    "outputId": "50212ad8-9d2f-4387-ed19-a1bd4a662aac"
   },
   "outputs": [
    {
     "name": "stdout",
     "output_type": "stream",
     "text": [
      "{'n_estimators': [10, 15, 20, 25, 30], 'max_features': ['auto', 'sqrt'], 'max_depth': [10, 20, 30, 40, 50, None], 'min_samples_split': [2, 5], 'min_samples_leaf': [1, 2], 'bootstrap': [True, False]}\n"
     ]
    }
   ],
   "source": [
    "from sklearn.model_selection import RandomizedSearchCV\n",
    "\n",
    "n_estimators = [int(x) for x in np.linspace(start = 10, stop = 30, num = 5)]\n",
    "\n",
    "max_features = ['auto', 'sqrt']\n",
    "\n",
    "max_depth = [int(x) for x in np.linspace(10, 50, num = 5)]\n",
    "max_depth.append(None)\n",
    "# Minimum number of samples required to split a node\n",
    "min_samples_split = [2, 5]\n",
    "# Minimum number of samples required at each leaf node\n",
    "min_samples_leaf = [1, 2]\n",
    "# Method of selecting samples for training each tree\n",
    "bootstrap = [True, False]\n",
    "# Create the random grid\n",
    "random_grid = {'n_estimators': n_estimators,\n",
    "               'max_features': max_features,\n",
    "               'max_depth': max_depth,\n",
    "               'min_samples_split': min_samples_split,\n",
    "               'min_samples_leaf': min_samples_leaf,\n",
    "               'bootstrap': bootstrap}\n",
    "print(random_grid)"
   ]
  },
  {
   "cell_type": "code",
   "execution_count": 114,
   "metadata": {
    "colab": {
     "base_uri": "https://localhost:8080/"
    },
    "id": "rVak7g8bnmyp",
    "outputId": "71a9f802-0786-4fd4-e886-6b085ce437f3"
   },
   "outputs": [
    {
     "name": "stdout",
     "output_type": "stream",
     "text": [
      "Fitting 10 folds for each of 100 candidates, totalling 1000 fits\n"
     ]
    },
    {
     "name": "stderr",
     "output_type": "stream",
     "text": [
      "/Users/yoonjeong/opt/anaconda3/lib/python3.8/site-packages/joblib/externals/loky/process_executor.py:688: UserWarning: A worker stopped while some jobs were given to the executor. This can be caused by a too short worker timeout or by a memory leak.\n",
      "  warnings.warn(\n"
     ]
    },
    {
     "data": {
      "text/plain": [
       "RandomizedSearchCV(cv=10, estimator=RandomForestRegressor(), n_iter=100,\n",
       "                   n_jobs=-1,\n",
       "                   param_distributions={'bootstrap': [True, False],\n",
       "                                        'max_depth': [10, 20, 30, 40, 50, None],\n",
       "                                        'max_features': ['auto', 'sqrt'],\n",
       "                                        'min_samples_leaf': [1, 2],\n",
       "                                        'min_samples_split': [2, 5],\n",
       "                                        'n_estimators': [10, 15, 20, 25, 30]},\n",
       "                   random_state=42, scoring=make_scorer(rmsle), verbose=2)"
      ]
     },
     "execution_count": 114,
     "metadata": {},
     "output_type": "execute_result"
    }
   ],
   "source": [
    "from sklearn.ensemble import RandomForestRegressor\n",
    "rf = RandomForestRegressor()\n",
    "grid_rf = RandomizedSearchCV(estimator = rf, param_distributions = random_grid, n_iter = 100, cv = 10, verbose=2, random_state=42, n_jobs = -1,  scoring=rmsle_scorer)\n",
    "grid_rf.fit(X_train, y_train)"
   ]
  },
  {
   "cell_type": "code",
   "execution_count": 115,
   "metadata": {
    "id": "n2wFukPV0ioR"
   },
   "outputs": [
    {
     "name": "stdout",
     "output_type": "stream",
     "text": [
      "RMSLE Value For Random Forest_bf_group3: 0.1051\n",
      "\n",
      "\n",
      "RMSLE Value For Random Forest_bf_group3 : 0.1489\n",
      "\n",
      "\n"
     ]
    }
   ],
   "source": [
    "pred = grid_rf.predict(X_train)\n",
    "print('RMSLE Value For Random Forest_bf_group3: %.4f' % (rmsle(pred,y_train,False)))\n",
    "print(\"\\n\")\n",
    "\n",
    "\n",
    "y_pred = grid_rf.predict(X_test)\n",
    "print('RMSLE Value For Random Forest_bf_group3 : %.4f' % (rmsle(y_pred,y_test,False)))\n",
    "print(\"\\n\")"
   ]
  },
  {
   "cell_type": "code",
   "execution_count": 116,
   "metadata": {
    "colab": {
     "base_uri": "https://localhost:8080/",
     "height": 1000
    },
    "executionInfo": {
     "elapsed": 536,
     "status": "ok",
     "timestamp": 1621770946998,
     "user": {
      "displayName": "‍원윤정[ 학부재학 / 수학과 ]",
      "photoUrl": "",
      "userId": "18011858018859333600"
     },
     "user_tz": -540
    },
    "id": "2M0H_h4zxU8a",
    "outputId": "9c925d6b-62e2-49b9-aff7-2ee40ff81957",
    "tags": []
   },
   "outputs": [
    {
     "data": {
      "text/html": [
       "<div>\n",
       "<style scoped>\n",
       "    .dataframe tbody tr th:only-of-type {\n",
       "        vertical-align: middle;\n",
       "    }\n",
       "\n",
       "    .dataframe tbody tr th {\n",
       "        vertical-align: top;\n",
       "    }\n",
       "\n",
       "    .dataframe thead th {\n",
       "        text-align: right;\n",
       "    }\n",
       "</style>\n",
       "<table border=\"1\" class=\"dataframe\">\n",
       "  <thead>\n",
       "    <tr style=\"text-align: right;\">\n",
       "      <th></th>\n",
       "      <th>importance</th>\n",
       "    </tr>\n",
       "  </thead>\n",
       "  <tbody>\n",
       "    <tr>\n",
       "      <th>샌드위치</th>\n",
       "      <td>0.153941</td>\n",
       "    </tr>\n",
       "    <tr>\n",
       "      <th>은행</th>\n",
       "      <td>0.149493</td>\n",
       "    </tr>\n",
       "    <tr>\n",
       "      <th>노령화지수</th>\n",
       "      <td>0.139478</td>\n",
       "    </tr>\n",
       "    <tr>\n",
       "      <th>휴일</th>\n",
       "      <td>0.078211</td>\n",
       "    </tr>\n",
       "    <tr>\n",
       "      <th>인구수</th>\n",
       "      <td>0.077827</td>\n",
       "    </tr>\n",
       "    <tr>\n",
       "      <th>영화관_b</th>\n",
       "      <td>0.068056</td>\n",
       "    </tr>\n",
       "    <tr>\n",
       "      <th>버스정류장</th>\n",
       "      <td>0.056847</td>\n",
       "    </tr>\n",
       "    <tr>\n",
       "      <th>스타벅스</th>\n",
       "      <td>0.041344</td>\n",
       "    </tr>\n",
       "    <tr>\n",
       "      <th>대전</th>\n",
       "      <td>0.034515</td>\n",
       "    </tr>\n",
       "    <tr>\n",
       "      <th>올리브영</th>\n",
       "      <td>0.029135</td>\n",
       "    </tr>\n",
       "    <tr>\n",
       "      <th>출구</th>\n",
       "      <td>0.028453</td>\n",
       "    </tr>\n",
       "    <tr>\n",
       "      <th>신흥</th>\n",
       "      <td>0.022857</td>\n",
       "    </tr>\n",
       "    <tr>\n",
       "      <th>중구청</th>\n",
       "      <td>0.018348</td>\n",
       "    </tr>\n",
       "    <tr>\n",
       "      <th>날짜</th>\n",
       "      <td>0.015180</td>\n",
       "    </tr>\n",
       "    <tr>\n",
       "      <th>최고기온</th>\n",
       "      <td>0.012825</td>\n",
       "    </tr>\n",
       "    <tr>\n",
       "      <th>최저기온</th>\n",
       "      <td>0.012129</td>\n",
       "    </tr>\n",
       "    <tr>\n",
       "      <th>도서관_b</th>\n",
       "      <td>0.011226</td>\n",
       "    </tr>\n",
       "    <tr>\n",
       "      <th>학교</th>\n",
       "      <td>0.010254</td>\n",
       "    </tr>\n",
       "    <tr>\n",
       "      <th>술집</th>\n",
       "      <td>0.010011</td>\n",
       "    </tr>\n",
       "    <tr>\n",
       "      <th>백화점_b</th>\n",
       "      <td>0.005689</td>\n",
       "    </tr>\n",
       "    <tr>\n",
       "      <th>일우량</th>\n",
       "      <td>0.005231</td>\n",
       "    </tr>\n",
       "    <tr>\n",
       "      <th>탄방</th>\n",
       "      <td>0.003917</td>\n",
       "    </tr>\n",
       "    <tr>\n",
       "      <th>판암</th>\n",
       "      <td>0.002983</td>\n",
       "    </tr>\n",
       "    <tr>\n",
       "      <th>학기여부</th>\n",
       "      <td>0.002783</td>\n",
       "    </tr>\n",
       "    <tr>\n",
       "      <th>중앙로</th>\n",
       "      <td>0.002450</td>\n",
       "    </tr>\n",
       "    <tr>\n",
       "      <th>병원_b</th>\n",
       "      <td>0.001779</td>\n",
       "    </tr>\n",
       "    <tr>\n",
       "      <th>대형마트_b</th>\n",
       "      <td>0.001457</td>\n",
       "    </tr>\n",
       "    <tr>\n",
       "      <th>용문</th>\n",
       "      <td>0.001294</td>\n",
       "    </tr>\n",
       "    <tr>\n",
       "      <th>적설량</th>\n",
       "      <td>0.001217</td>\n",
       "    </tr>\n",
       "    <tr>\n",
       "      <th>오룡</th>\n",
       "      <td>0.000425</td>\n",
       "    </tr>\n",
       "    <tr>\n",
       "      <th>장마기간</th>\n",
       "      <td>0.000366</td>\n",
       "    </tr>\n",
       "    <tr>\n",
       "      <th>대동</th>\n",
       "      <td>0.000271</td>\n",
       "    </tr>\n",
       "    <tr>\n",
       "      <th>서대전네거리</th>\n",
       "      <td>0.000007</td>\n",
       "    </tr>\n",
       "    <tr>\n",
       "      <th>현충원</th>\n",
       "      <td>0.000000</td>\n",
       "    </tr>\n",
       "    <tr>\n",
       "      <th>지족</th>\n",
       "      <td>0.000000</td>\n",
       "    </tr>\n",
       "    <tr>\n",
       "      <th>반석</th>\n",
       "      <td>0.000000</td>\n",
       "    </tr>\n",
       "    <tr>\n",
       "      <th>정부청사</th>\n",
       "      <td>0.000000</td>\n",
       "    </tr>\n",
       "    <tr>\n",
       "      <th>구암</th>\n",
       "      <td>0.000000</td>\n",
       "    </tr>\n",
       "    <tr>\n",
       "      <th>유성온천</th>\n",
       "      <td>0.000000</td>\n",
       "    </tr>\n",
       "    <tr>\n",
       "      <th>월평</th>\n",
       "      <td>0.000000</td>\n",
       "    </tr>\n",
       "    <tr>\n",
       "      <th>월드컵경기장</th>\n",
       "      <td>0.000000</td>\n",
       "    </tr>\n",
       "    <tr>\n",
       "      <th>갑천</th>\n",
       "      <td>0.000000</td>\n",
       "    </tr>\n",
       "    <tr>\n",
       "      <th>노은</th>\n",
       "      <td>0.000000</td>\n",
       "    </tr>\n",
       "    <tr>\n",
       "      <th>시청</th>\n",
       "      <td>0.000000</td>\n",
       "    </tr>\n",
       "    <tr>\n",
       "      <th>버스터미널_b</th>\n",
       "      <td>0.000000</td>\n",
       "    </tr>\n",
       "    <tr>\n",
       "      <th>갈마</th>\n",
       "      <td>0.000000</td>\n",
       "    </tr>\n",
       "  </tbody>\n",
       "</table>\n",
       "</div>"
      ],
      "text/plain": [
       "         importance\n",
       "샌드위치       0.153941\n",
       "은행         0.149493\n",
       "노령화지수      0.139478\n",
       "휴일         0.078211\n",
       "인구수        0.077827\n",
       "영화관_b      0.068056\n",
       "버스정류장      0.056847\n",
       "스타벅스       0.041344\n",
       "대전         0.034515\n",
       "올리브영       0.029135\n",
       "출구         0.028453\n",
       "신흥         0.022857\n",
       "중구청        0.018348\n",
       "날짜         0.015180\n",
       "최고기온       0.012825\n",
       "최저기온       0.012129\n",
       "도서관_b      0.011226\n",
       "학교         0.010254\n",
       "술집         0.010011\n",
       "백화점_b      0.005689\n",
       "일우량        0.005231\n",
       "탄방         0.003917\n",
       "판암         0.002983\n",
       "학기여부       0.002783\n",
       "중앙로        0.002450\n",
       "병원_b       0.001779\n",
       "대형마트_b     0.001457\n",
       "용문         0.001294\n",
       "적설량        0.001217\n",
       "오룡         0.000425\n",
       "장마기간       0.000366\n",
       "대동         0.000271\n",
       "서대전네거리     0.000007\n",
       "현충원        0.000000\n",
       "지족         0.000000\n",
       "반석         0.000000\n",
       "정부청사       0.000000\n",
       "구암         0.000000\n",
       "유성온천       0.000000\n",
       "월평         0.000000\n",
       "월드컵경기장     0.000000\n",
       "갑천         0.000000\n",
       "노은         0.000000\n",
       "시청         0.000000\n",
       "버스터미널_b    0.000000\n",
       "갈마         0.000000"
      ]
     },
     "execution_count": 116,
     "metadata": {},
     "output_type": "execute_result"
    }
   ],
   "source": [
    "import pandas as pd\n",
    "rf1 = grid_rf.best_estimator_.fit(X_train, y_train)\n",
    "feature_imp = pd.DataFrame(rf1.feature_importances_,index=X_train.columns, columns=['importance']).sort_values('importance',ascending=False)\n",
    "feature_imp"
   ]
  }
 ],
 "metadata": {
  "accelerator": "GPU",
  "colab": {
   "authorship_tag": "ABX9TyOWLpid1GepZPrJFftyeFmL",
   "collapsed_sections": [
    "yewfLh5plarm"
   ],
   "mount_file_id": "1_mgod6SBU5xvuZLJLB_YsuuC9S-48oRm",
   "name": "DT,RF 코로나 이전_군집별.ipynb",
   "provenance": []
  },
  "kernelspec": {
   "display_name": "Python 3",
   "language": "python",
   "name": "python3"
  },
  "language_info": {
   "codemirror_mode": {
    "name": "ipython",
    "version": 3
   },
   "file_extension": ".py",
   "mimetype": "text/x-python",
   "name": "python",
   "nbconvert_exporter": "python",
   "pygments_lexer": "ipython3",
   "version": "3.8.8"
  },
  "toc-autonumbering": false,
  "toc-showmarkdowntxt": false
 },
 "nbformat": 4,
 "nbformat_minor": 4
}
