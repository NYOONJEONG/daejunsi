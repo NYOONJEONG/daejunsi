{
 "cells": [
  {
   "cell_type": "code",
   "execution_count": 4,
   "metadata": {
    "executionInfo": {
     "elapsed": 405,
     "status": "ok",
     "timestamp": 1621779537302,
     "user": {
      "displayName": "‍원윤정[ 학부재학 / 수학과 ]",
      "photoUrl": "",
      "userId": "18011858018859333600"
     },
     "user_tz": -540
    },
    "id": "tPLPOTc56prm"
   },
   "outputs": [],
   "source": [
    "#평가 스케일\n",
    "def rmsle(y, y_,convertExp=True):\n",
    "    if convertExp:\n",
    "        y = np.exp(y), \n",
    "        y_ = np.exp(y_)\n",
    "    log1 = np.nan_to_num(np.array([np.log(v + 1) for v in y]))\n",
    "    log2 = np.nan_to_num(np.array([np.log(v + 1) for v in y_]))\n",
    "    calc = (log1 - log2) ** 2\n",
    "    return np.sqrt(np.mean(calc))\n",
    "\n",
    "from sklearn import metrics\n",
    "rmsle_scorer = metrics.make_scorer(rmsle)"
   ]
  },
  {
   "cell_type": "markdown",
   "metadata": {
    "id": "yewfLh5plarm"
   },
   "source": [
    "# 0 전처리"
   ]
  },
  {
   "cell_type": "code",
   "execution_count": 5,
   "metadata": {
    "executionInfo": {
     "elapsed": 390,
     "status": "ok",
     "timestamp": 1621779650868,
     "user": {
      "displayName": "‍원윤정[ 학부재학 / 수학과 ]",
      "photoUrl": "",
      "userId": "18011858018859333600"
     },
     "user_tz": -540
    },
    "id": "p3hdizfTlaaX"
   },
   "outputs": [],
   "source": [
    "import pandas as pd\n",
    "import numpy as np"
   ]
  },
  {
   "cell_type": "code",
   "execution_count": 6,
   "metadata": {
    "executionInfo": {
     "elapsed": 614,
     "status": "ok",
     "timestamp": 1621779652475,
     "user": {
      "displayName": "‍원윤정[ 학부재학 / 수학과 ]",
      "photoUrl": "",
      "userId": "18011858018859333600"
     },
     "user_tz": -540
    },
    "id": "4avprQHDvpF2"
   },
   "outputs": [],
   "source": [
    "train = pd.read_csv(\"/Users/yoonjeong/Desktop/af_train_0.csv\", encoding='cp949')\n",
    "test = pd.read_csv(\"/Users/yoonjeong/Desktop/af_test_0.csv\", encoding='cp949')"
   ]
  },
  {
   "cell_type": "markdown",
   "metadata": {
    "id": "vRj5AGabltaw"
   },
   "source": [
    "모델링"
   ]
  },
  {
   "cell_type": "code",
   "execution_count": 7,
   "metadata": {
    "executionInfo": {
     "elapsed": 275,
     "status": "ok",
     "timestamp": 1621779661048,
     "user": {
      "displayName": "‍원윤정[ 학부재학 / 수학과 ]",
      "photoUrl": "",
      "userId": "18011858018859333600"
     },
     "user_tz": -540
    },
    "id": "y7-EBV1rwfi6"
   },
   "outputs": [],
   "source": [
    "# X : features, y: target variable\n",
    "X_train=  train[train.columns.difference([\"이용자 수\"])]\n",
    "X_test = test[test.columns.difference([\"이용자 수\"])]\n",
    "y_train= train[\"이용자 수\"]\n",
    "y_test= test['이용자 수']"
   ]
  },
  {
   "cell_type": "markdown",
   "metadata": {
    "id": "5CTxc3Drw6Hs"
   },
   "source": [
    "# 0 random forest"
   ]
  },
  {
   "cell_type": "code",
   "execution_count": 8,
   "metadata": {
    "colab": {
     "base_uri": "https://localhost:8080/"
    },
    "executionInfo": {
     "elapsed": 21733,
     "status": "ok",
     "timestamp": 1621780020842,
     "user": {
      "displayName": "‍원윤정[ 학부재학 / 수학과 ]",
      "photoUrl": "",
      "userId": "18011858018859333600"
     },
     "user_tz": -540
    },
    "id": "9cRYHUaNm40v",
    "outputId": "50212ad8-9d2f-4387-ed19-a1bd4a662aac"
   },
   "outputs": [
    {
     "name": "stdout",
     "output_type": "stream",
     "text": [
      "{'n_estimators': [10, 15, 20, 25, 30], 'max_features': ['auto', 'sqrt'], 'max_depth': [10, 20, 30, 40, 50, None], 'min_samples_split': [2, 5], 'min_samples_leaf': [1, 2], 'bootstrap': [True, False]}\n"
     ]
    }
   ],
   "source": [
    "from sklearn.model_selection import RandomizedSearchCV\n",
    "\n",
    "n_estimators = [int(x) for x in np.linspace(start = 10, stop = 30, num = 5)]\n",
    "\n",
    "max_features = ['auto', 'sqrt']\n",
    "\n",
    "max_depth = [int(x) for x in np.linspace(10, 50, num = 5)]\n",
    "max_depth.append(None)\n",
    "# Minimum number of samples required to split a node\n",
    "min_samples_split = [2, 5]\n",
    "# Minimum number of samples required at each leaf node\n",
    "min_samples_leaf = [1, 2]\n",
    "# Method of selecting samples for training each tree\n",
    "bootstrap = [True, False]\n",
    "# Create the random grid\n",
    "random_grid = {'n_estimators': n_estimators,\n",
    "               'max_features': max_features,\n",
    "               'max_depth': max_depth,\n",
    "               'min_samples_split': min_samples_split,\n",
    "               'min_samples_leaf': min_samples_leaf,\n",
    "               'bootstrap': bootstrap}\n",
    "print(random_grid)"
   ]
  },
  {
   "cell_type": "code",
   "execution_count": 9,
   "metadata": {
    "colab": {
     "base_uri": "https://localhost:8080/"
    },
    "id": "rVak7g8bnmyp",
    "outputId": "71a9f802-0786-4fd4-e886-6b085ce437f3"
   },
   "outputs": [
    {
     "name": "stdout",
     "output_type": "stream",
     "text": [
      "Fitting 10 folds for each of 100 candidates, totalling 1000 fits\n"
     ]
    },
    {
     "name": "stderr",
     "output_type": "stream",
     "text": [
      "/Users/yoonjeong/opt/anaconda3/lib/python3.8/site-packages/sklearn/model_selection/_search.py:918: UserWarning: One or more of the test scores are non-finite: [inf inf inf inf inf inf inf inf inf inf inf inf inf inf inf inf inf inf\n",
      " inf inf inf inf inf inf inf inf inf inf inf inf inf inf inf inf inf inf\n",
      " inf inf inf inf inf inf inf inf inf inf inf inf inf inf inf inf inf inf\n",
      " inf inf inf inf inf inf inf inf inf inf inf inf inf inf inf inf inf inf\n",
      " inf inf inf inf inf inf inf inf inf inf inf inf inf inf inf inf inf inf\n",
      " inf inf inf inf inf inf inf inf inf inf]\n",
      "  warnings.warn(\n",
      "/Users/yoonjeong/opt/anaconda3/lib/python3.8/site-packages/sklearn/model_selection/_search.py:925: RuntimeWarning: invalid value encountered in subtract\n",
      "  array_stds = np.sqrt(np.average((array -\n"
     ]
    },
    {
     "data": {
      "text/plain": [
       "RandomizedSearchCV(cv=10, estimator=RandomForestRegressor(), n_iter=100,\n",
       "                   n_jobs=-1,\n",
       "                   param_distributions={'bootstrap': [True, False],\n",
       "                                        'max_depth': [10, 20, 30, 40, 50, None],\n",
       "                                        'max_features': ['auto', 'sqrt'],\n",
       "                                        'min_samples_leaf': [1, 2],\n",
       "                                        'min_samples_split': [2, 5],\n",
       "                                        'n_estimators': [10, 15, 20, 25, 30]},\n",
       "                   random_state=42, scoring=make_scorer(rmsle), verbose=2)"
      ]
     },
     "execution_count": 9,
     "metadata": {},
     "output_type": "execute_result"
    }
   ],
   "source": [
    "from sklearn.ensemble import RandomForestRegressor\n",
    "rf = RandomForestRegressor()\n",
    "grid_rf = RandomizedSearchCV(estimator = rf, param_distributions = random_grid, n_iter = 100, cv = 10, verbose=2, random_state=42, n_jobs = -1,  scoring=rmsle_scorer)\n",
    "grid_rf.fit(X_train, y_train)"
   ]
  },
  {
   "cell_type": "code",
   "execution_count": 10,
   "metadata": {
    "id": "n2wFukPV0ioR"
   },
   "outputs": [
    {
     "name": "stdout",
     "output_type": "stream",
     "text": [
      "RMSLE Value For Random Forest_af_group0: 0.1277\n",
      "\n",
      "\n",
      "RMSLE Value For Random Forest_af_group0 : 0.2463\n",
      "\n",
      "\n"
     ]
    }
   ],
   "source": [
    "pred = grid_rf.predict(X_train)\n",
    "print('RMSLE Value For Random Forest_af_group0: %.4f' % (rmsle(pred,y_train,False)))\n",
    "print(\"\\n\")\n",
    "\n",
    "\n",
    "y_pred = grid_rf.predict(X_test)\n",
    "print('RMSLE Value For Random Forest_af_group0 : %.4f' % (rmsle(y_pred,y_test,False)))\n",
    "print(\"\\n\")"
   ]
  },
  {
   "cell_type": "code",
   "execution_count": 11,
   "metadata": {
    "colab": {
     "base_uri": "https://localhost:8080/",
     "height": 1000
    },
    "executionInfo": {
     "elapsed": 536,
     "status": "ok",
     "timestamp": 1621770946998,
     "user": {
      "displayName": "‍원윤정[ 학부재학 / 수학과 ]",
      "photoUrl": "",
      "userId": "18011858018859333600"
     },
     "user_tz": -540
    },
    "id": "2M0H_h4zxU8a",
    "outputId": "9c925d6b-62e2-49b9-aff7-2ee40ff81957",
    "tags": []
   },
   "outputs": [
    {
     "data": {
      "text/html": [
       "<div>\n",
       "<style scoped>\n",
       "    .dataframe tbody tr th:only-of-type {\n",
       "        vertical-align: middle;\n",
       "    }\n",
       "\n",
       "    .dataframe tbody tr th {\n",
       "        vertical-align: top;\n",
       "    }\n",
       "\n",
       "    .dataframe thead th {\n",
       "        text-align: right;\n",
       "    }\n",
       "</style>\n",
       "<table border=\"1\" class=\"dataframe\">\n",
       "  <thead>\n",
       "    <tr style=\"text-align: right;\">\n",
       "      <th></th>\n",
       "      <th>importance</th>\n",
       "    </tr>\n",
       "  </thead>\n",
       "  <tbody>\n",
       "    <tr>\n",
       "      <th>휴일</th>\n",
       "      <td>0.183264</td>\n",
       "    </tr>\n",
       "    <tr>\n",
       "      <th>반석</th>\n",
       "      <td>0.112681</td>\n",
       "    </tr>\n",
       "    <tr>\n",
       "      <th>술집</th>\n",
       "      <td>0.103692</td>\n",
       "    </tr>\n",
       "    <tr>\n",
       "      <th>올리브영</th>\n",
       "      <td>0.100386</td>\n",
       "    </tr>\n",
       "    <tr>\n",
       "      <th>출구</th>\n",
       "      <td>0.067544</td>\n",
       "    </tr>\n",
       "    <tr>\n",
       "      <th>샌드위치</th>\n",
       "      <td>0.064935</td>\n",
       "    </tr>\n",
       "    <tr>\n",
       "      <th>버스정류장</th>\n",
       "      <td>0.054718</td>\n",
       "    </tr>\n",
       "    <tr>\n",
       "      <th>날짜</th>\n",
       "      <td>0.048061</td>\n",
       "    </tr>\n",
       "    <tr>\n",
       "      <th>확진자수</th>\n",
       "      <td>0.043293</td>\n",
       "    </tr>\n",
       "    <tr>\n",
       "      <th>은행</th>\n",
       "      <td>0.036192</td>\n",
       "    </tr>\n",
       "    <tr>\n",
       "      <th>스타벅스</th>\n",
       "      <td>0.029560</td>\n",
       "    </tr>\n",
       "    <tr>\n",
       "      <th>최고기온</th>\n",
       "      <td>0.025867</td>\n",
       "    </tr>\n",
       "    <tr>\n",
       "      <th>최저기온</th>\n",
       "      <td>0.022440</td>\n",
       "    </tr>\n",
       "    <tr>\n",
       "      <th>대형마트_b</th>\n",
       "      <td>0.022221</td>\n",
       "    </tr>\n",
       "    <tr>\n",
       "      <th>학교</th>\n",
       "      <td>0.018625</td>\n",
       "    </tr>\n",
       "    <tr>\n",
       "      <th>도서관_b</th>\n",
       "      <td>0.017897</td>\n",
       "    </tr>\n",
       "    <tr>\n",
       "      <th>지족</th>\n",
       "      <td>0.016169</td>\n",
       "    </tr>\n",
       "    <tr>\n",
       "      <th>노은</th>\n",
       "      <td>0.011113</td>\n",
       "    </tr>\n",
       "    <tr>\n",
       "      <th>일우량</th>\n",
       "      <td>0.010432</td>\n",
       "    </tr>\n",
       "    <tr>\n",
       "      <th>영화관_b</th>\n",
       "      <td>0.010031</td>\n",
       "    </tr>\n",
       "    <tr>\n",
       "      <th>월드컵경기장</th>\n",
       "      <td>0.000880</td>\n",
       "    </tr>\n",
       "    <tr>\n",
       "      <th>탄방</th>\n",
       "      <td>0.000000</td>\n",
       "    </tr>\n",
       "    <tr>\n",
       "      <th>판암</th>\n",
       "      <td>0.000000</td>\n",
       "    </tr>\n",
       "    <tr>\n",
       "      <th>중앙로</th>\n",
       "      <td>0.000000</td>\n",
       "    </tr>\n",
       "    <tr>\n",
       "      <th>중구청</th>\n",
       "      <td>0.000000</td>\n",
       "    </tr>\n",
       "    <tr>\n",
       "      <th>현충원</th>\n",
       "      <td>0.000000</td>\n",
       "    </tr>\n",
       "    <tr>\n",
       "      <th>정부청사</th>\n",
       "      <td>0.000000</td>\n",
       "    </tr>\n",
       "    <tr>\n",
       "      <th>인구수</th>\n",
       "      <td>0.000000</td>\n",
       "    </tr>\n",
       "    <tr>\n",
       "      <th>갈마</th>\n",
       "      <td>0.000000</td>\n",
       "    </tr>\n",
       "    <tr>\n",
       "      <th>유성온천</th>\n",
       "      <td>0.000000</td>\n",
       "    </tr>\n",
       "    <tr>\n",
       "      <th>월평</th>\n",
       "      <td>0.000000</td>\n",
       "    </tr>\n",
       "    <tr>\n",
       "      <th>용문</th>\n",
       "      <td>0.000000</td>\n",
       "    </tr>\n",
       "    <tr>\n",
       "      <th>갑천</th>\n",
       "      <td>0.000000</td>\n",
       "    </tr>\n",
       "    <tr>\n",
       "      <th>신흥</th>\n",
       "      <td>0.000000</td>\n",
       "    </tr>\n",
       "    <tr>\n",
       "      <th>시청</th>\n",
       "      <td>0.000000</td>\n",
       "    </tr>\n",
       "    <tr>\n",
       "      <th>서대전네거리</th>\n",
       "      <td>0.000000</td>\n",
       "    </tr>\n",
       "    <tr>\n",
       "      <th>병원_b</th>\n",
       "      <td>0.000000</td>\n",
       "    </tr>\n",
       "    <tr>\n",
       "      <th>버스터미널_b</th>\n",
       "      <td>0.000000</td>\n",
       "    </tr>\n",
       "    <tr>\n",
       "      <th>백화점_b</th>\n",
       "      <td>0.000000</td>\n",
       "    </tr>\n",
       "    <tr>\n",
       "      <th>대전</th>\n",
       "      <td>0.000000</td>\n",
       "    </tr>\n",
       "    <tr>\n",
       "      <th>대동</th>\n",
       "      <td>0.000000</td>\n",
       "    </tr>\n",
       "    <tr>\n",
       "      <th>노령화지수</th>\n",
       "      <td>0.000000</td>\n",
       "    </tr>\n",
       "    <tr>\n",
       "      <th>구암</th>\n",
       "      <td>0.000000</td>\n",
       "    </tr>\n",
       "    <tr>\n",
       "      <th>오룡</th>\n",
       "      <td>0.000000</td>\n",
       "    </tr>\n",
       "  </tbody>\n",
       "</table>\n",
       "</div>"
      ],
      "text/plain": [
       "         importance\n",
       "휴일         0.183264\n",
       "반석         0.112681\n",
       "술집         0.103692\n",
       "올리브영       0.100386\n",
       "출구         0.067544\n",
       "샌드위치       0.064935\n",
       "버스정류장      0.054718\n",
       "날짜         0.048061\n",
       "확진자수       0.043293\n",
       "은행         0.036192\n",
       "스타벅스       0.029560\n",
       "최고기온       0.025867\n",
       "최저기온       0.022440\n",
       "대형마트_b     0.022221\n",
       "학교         0.018625\n",
       "도서관_b      0.017897\n",
       "지족         0.016169\n",
       "노은         0.011113\n",
       "일우량        0.010432\n",
       "영화관_b      0.010031\n",
       "월드컵경기장     0.000880\n",
       "탄방         0.000000\n",
       "판암         0.000000\n",
       "중앙로        0.000000\n",
       "중구청        0.000000\n",
       "현충원        0.000000\n",
       "정부청사       0.000000\n",
       "인구수        0.000000\n",
       "갈마         0.000000\n",
       "유성온천       0.000000\n",
       "월평         0.000000\n",
       "용문         0.000000\n",
       "갑천         0.000000\n",
       "신흥         0.000000\n",
       "시청         0.000000\n",
       "서대전네거리     0.000000\n",
       "병원_b       0.000000\n",
       "버스터미널_b    0.000000\n",
       "백화점_b      0.000000\n",
       "대전         0.000000\n",
       "대동         0.000000\n",
       "노령화지수      0.000000\n",
       "구암         0.000000\n",
       "오룡         0.000000"
      ]
     },
     "execution_count": 11,
     "metadata": {},
     "output_type": "execute_result"
    }
   ],
   "source": [
    "import pandas as pd\n",
    "rf1 = grid_rf.best_estimator_.fit(X_train, y_train)\n",
    "feature_imp = pd.DataFrame(rf1.feature_importances_,index=X_train.columns, columns=['importance']).sort_values('importance',ascending=False)\n",
    "feature_imp"
   ]
  },
  {
   "cell_type": "code",
   "execution_count": null,
   "metadata": {},
   "outputs": [],
   "source": []
  },
  {
   "cell_type": "markdown",
   "metadata": {
    "id": "yewfLh5plarm"
   },
   "source": [
    "# 1 전처리"
   ]
  },
  {
   "cell_type": "code",
   "execution_count": 12,
   "metadata": {
    "executionInfo": {
     "elapsed": 390,
     "status": "ok",
     "timestamp": 1621779650868,
     "user": {
      "displayName": "‍원윤정[ 학부재학 / 수학과 ]",
      "photoUrl": "",
      "userId": "18011858018859333600"
     },
     "user_tz": -540
    },
    "id": "p3hdizfTlaaX"
   },
   "outputs": [],
   "source": [
    "import pandas as pd\n",
    "import numpy as np"
   ]
  },
  {
   "cell_type": "code",
   "execution_count": 13,
   "metadata": {
    "executionInfo": {
     "elapsed": 614,
     "status": "ok",
     "timestamp": 1621779652475,
     "user": {
      "displayName": "‍원윤정[ 학부재학 / 수학과 ]",
      "photoUrl": "",
      "userId": "18011858018859333600"
     },
     "user_tz": -540
    },
    "id": "4avprQHDvpF2"
   },
   "outputs": [],
   "source": [
    "train = pd.read_csv(\"/Users/yoonjeong/Desktop/af_train_1.csv\", encoding='cp949')\n",
    "test = pd.read_csv(\"/Users/yoonjeong/Desktop/af_test_1.csv\", encoding='cp949')"
   ]
  },
  {
   "cell_type": "markdown",
   "metadata": {
    "id": "vRj5AGabltaw"
   },
   "source": [
    "모델링"
   ]
  },
  {
   "cell_type": "code",
   "execution_count": 14,
   "metadata": {
    "executionInfo": {
     "elapsed": 275,
     "status": "ok",
     "timestamp": 1621779661048,
     "user": {
      "displayName": "‍원윤정[ 학부재학 / 수학과 ]",
      "photoUrl": "",
      "userId": "18011858018859333600"
     },
     "user_tz": -540
    },
    "id": "y7-EBV1rwfi6"
   },
   "outputs": [],
   "source": [
    "# X : features, y: target variable\n",
    "X_train=  train[train.columns.difference([\"이용자 수\"])]\n",
    "X_test = test[test.columns.difference([\"이용자 수\"])]\n",
    "y_train= train[\"이용자 수\"]\n",
    "y_test= test['이용자 수']"
   ]
  },
  {
   "cell_type": "markdown",
   "metadata": {
    "id": "5CTxc3Drw6Hs"
   },
   "source": [
    "# 1 random forest"
   ]
  },
  {
   "cell_type": "code",
   "execution_count": 15,
   "metadata": {
    "colab": {
     "base_uri": "https://localhost:8080/"
    },
    "executionInfo": {
     "elapsed": 21733,
     "status": "ok",
     "timestamp": 1621780020842,
     "user": {
      "displayName": "‍원윤정[ 학부재학 / 수학과 ]",
      "photoUrl": "",
      "userId": "18011858018859333600"
     },
     "user_tz": -540
    },
    "id": "9cRYHUaNm40v",
    "outputId": "50212ad8-9d2f-4387-ed19-a1bd4a662aac"
   },
   "outputs": [
    {
     "name": "stdout",
     "output_type": "stream",
     "text": [
      "{'n_estimators': [10, 15, 20, 25, 30], 'max_features': ['auto', 'sqrt'], 'max_depth': [10, 20, 30, 40, 50, None], 'min_samples_split': [2, 5], 'min_samples_leaf': [1, 2], 'bootstrap': [True, False]}\n"
     ]
    }
   ],
   "source": [
    "from sklearn.model_selection import RandomizedSearchCV\n",
    "\n",
    "n_estimators = [int(x) for x in np.linspace(start = 10, stop = 30, num = 5)]\n",
    "\n",
    "max_features = ['auto', 'sqrt']\n",
    "\n",
    "max_depth = [int(x) for x in np.linspace(10, 50, num = 5)]\n",
    "max_depth.append(None)\n",
    "# Minimum number of samples required to split a node\n",
    "min_samples_split = [2, 5]\n",
    "# Minimum number of samples required at each leaf node\n",
    "min_samples_leaf = [1, 2]\n",
    "# Method of selecting samples for training each tree\n",
    "bootstrap = [True, False]\n",
    "# Create the random grid\n",
    "random_grid = {'n_estimators': n_estimators,\n",
    "               'max_features': max_features,\n",
    "               'max_depth': max_depth,\n",
    "               'min_samples_split': min_samples_split,\n",
    "               'min_samples_leaf': min_samples_leaf,\n",
    "               'bootstrap': bootstrap}\n",
    "print(random_grid)"
   ]
  },
  {
   "cell_type": "code",
   "execution_count": 16,
   "metadata": {
    "colab": {
     "base_uri": "https://localhost:8080/"
    },
    "id": "rVak7g8bnmyp",
    "outputId": "71a9f802-0786-4fd4-e886-6b085ce437f3"
   },
   "outputs": [
    {
     "name": "stdout",
     "output_type": "stream",
     "text": [
      "Fitting 10 folds for each of 100 candidates, totalling 1000 fits\n"
     ]
    },
    {
     "data": {
      "text/plain": [
       "RandomizedSearchCV(cv=10, estimator=RandomForestRegressor(), n_iter=100,\n",
       "                   n_jobs=-1,\n",
       "                   param_distributions={'bootstrap': [True, False],\n",
       "                                        'max_depth': [10, 20, 30, 40, 50, None],\n",
       "                                        'max_features': ['auto', 'sqrt'],\n",
       "                                        'min_samples_leaf': [1, 2],\n",
       "                                        'min_samples_split': [2, 5],\n",
       "                                        'n_estimators': [10, 15, 20, 25, 30]},\n",
       "                   random_state=42, scoring=make_scorer(rmsle), verbose=2)"
      ]
     },
     "execution_count": 16,
     "metadata": {},
     "output_type": "execute_result"
    }
   ],
   "source": [
    "from sklearn.ensemble import RandomForestRegressor\n",
    "rf = RandomForestRegressor()\n",
    "grid_rf = RandomizedSearchCV(estimator = rf, param_distributions = random_grid, n_iter = 100, cv = 10, verbose=2, random_state=42, n_jobs = -1,  scoring=rmsle_scorer)\n",
    "grid_rf.fit(X_train, y_train)"
   ]
  },
  {
   "cell_type": "code",
   "execution_count": 17,
   "metadata": {
    "id": "n2wFukPV0ioR"
   },
   "outputs": [
    {
     "name": "stdout",
     "output_type": "stream",
     "text": [
      "RMSLE Value For Random Forest_af_group1: 0.1358\n",
      "\n",
      "\n",
      "RMSLE Value For Random Forest_af_group1 : 0.2649\n",
      "\n",
      "\n"
     ]
    }
   ],
   "source": [
    "pred = grid_rf.predict(X_train)\n",
    "print('RMSLE Value For Random Forest_af_group1: %.4f' % (rmsle(pred,y_train,False)))\n",
    "print(\"\\n\")\n",
    "\n",
    "\n",
    "y_pred = grid_rf.predict(X_test)\n",
    "print('RMSLE Value For Random Forest_af_group1 : %.4f' % (rmsle(y_pred,y_test,False)))\n",
    "print(\"\\n\")"
   ]
  },
  {
   "cell_type": "code",
   "execution_count": 18,
   "metadata": {
    "colab": {
     "base_uri": "https://localhost:8080/",
     "height": 1000
    },
    "executionInfo": {
     "elapsed": 536,
     "status": "ok",
     "timestamp": 1621770946998,
     "user": {
      "displayName": "‍원윤정[ 학부재학 / 수학과 ]",
      "photoUrl": "",
      "userId": "18011858018859333600"
     },
     "user_tz": -540
    },
    "id": "2M0H_h4zxU8a",
    "outputId": "9c925d6b-62e2-49b9-aff7-2ee40ff81957",
    "tags": []
   },
   "outputs": [
    {
     "data": {
      "text/html": [
       "<div>\n",
       "<style scoped>\n",
       "    .dataframe tbody tr th:only-of-type {\n",
       "        vertical-align: middle;\n",
       "    }\n",
       "\n",
       "    .dataframe tbody tr th {\n",
       "        vertical-align: top;\n",
       "    }\n",
       "\n",
       "    .dataframe thead th {\n",
       "        text-align: right;\n",
       "    }\n",
       "</style>\n",
       "<table border=\"1\" class=\"dataframe\">\n",
       "  <thead>\n",
       "    <tr style=\"text-align: right;\">\n",
       "      <th></th>\n",
       "      <th>importance</th>\n",
       "    </tr>\n",
       "  </thead>\n",
       "  <tbody>\n",
       "    <tr>\n",
       "      <th>휴일</th>\n",
       "      <td>0.177849</td>\n",
       "    </tr>\n",
       "    <tr>\n",
       "      <th>은행</th>\n",
       "      <td>0.113629</td>\n",
       "    </tr>\n",
       "    <tr>\n",
       "      <th>영화관_b</th>\n",
       "      <td>0.100176</td>\n",
       "    </tr>\n",
       "    <tr>\n",
       "      <th>출구</th>\n",
       "      <td>0.064726</td>\n",
       "    </tr>\n",
       "    <tr>\n",
       "      <th>올리브영</th>\n",
       "      <td>0.063164</td>\n",
       "    </tr>\n",
       "    <tr>\n",
       "      <th>학교</th>\n",
       "      <td>0.061302</td>\n",
       "    </tr>\n",
       "    <tr>\n",
       "      <th>현충원</th>\n",
       "      <td>0.045083</td>\n",
       "    </tr>\n",
       "    <tr>\n",
       "      <th>노령화지수</th>\n",
       "      <td>0.044855</td>\n",
       "    </tr>\n",
       "    <tr>\n",
       "      <th>확진자수</th>\n",
       "      <td>0.043818</td>\n",
       "    </tr>\n",
       "    <tr>\n",
       "      <th>날짜</th>\n",
       "      <td>0.043213</td>\n",
       "    </tr>\n",
       "    <tr>\n",
       "      <th>스타벅스</th>\n",
       "      <td>0.037097</td>\n",
       "    </tr>\n",
       "    <tr>\n",
       "      <th>버스터미널_b</th>\n",
       "      <td>0.026762</td>\n",
       "    </tr>\n",
       "    <tr>\n",
       "      <th>구암</th>\n",
       "      <td>0.026642</td>\n",
       "    </tr>\n",
       "    <tr>\n",
       "      <th>최고기온</th>\n",
       "      <td>0.024382</td>\n",
       "    </tr>\n",
       "    <tr>\n",
       "      <th>최저기온</th>\n",
       "      <td>0.022863</td>\n",
       "    </tr>\n",
       "    <tr>\n",
       "      <th>대형마트_b</th>\n",
       "      <td>0.021360</td>\n",
       "    </tr>\n",
       "    <tr>\n",
       "      <th>병원_b</th>\n",
       "      <td>0.020321</td>\n",
       "    </tr>\n",
       "    <tr>\n",
       "      <th>버스정류장</th>\n",
       "      <td>0.017201</td>\n",
       "    </tr>\n",
       "    <tr>\n",
       "      <th>샌드위치</th>\n",
       "      <td>0.012627</td>\n",
       "    </tr>\n",
       "    <tr>\n",
       "      <th>일우량</th>\n",
       "      <td>0.008767</td>\n",
       "    </tr>\n",
       "    <tr>\n",
       "      <th>인구수</th>\n",
       "      <td>0.008681</td>\n",
       "    </tr>\n",
       "    <tr>\n",
       "      <th>정부청사</th>\n",
       "      <td>0.008207</td>\n",
       "    </tr>\n",
       "    <tr>\n",
       "      <th>유성온천</th>\n",
       "      <td>0.005309</td>\n",
       "    </tr>\n",
       "    <tr>\n",
       "      <th>백화점_b</th>\n",
       "      <td>0.001098</td>\n",
       "    </tr>\n",
       "    <tr>\n",
       "      <th>시청</th>\n",
       "      <td>0.000868</td>\n",
       "    </tr>\n",
       "    <tr>\n",
       "      <th>지족</th>\n",
       "      <td>0.000000</td>\n",
       "    </tr>\n",
       "    <tr>\n",
       "      <th>탄방</th>\n",
       "      <td>0.000000</td>\n",
       "    </tr>\n",
       "    <tr>\n",
       "      <th>중앙로</th>\n",
       "      <td>0.000000</td>\n",
       "    </tr>\n",
       "    <tr>\n",
       "      <th>중구청</th>\n",
       "      <td>0.000000</td>\n",
       "    </tr>\n",
       "    <tr>\n",
       "      <th>판암</th>\n",
       "      <td>0.000000</td>\n",
       "    </tr>\n",
       "    <tr>\n",
       "      <th>갈마</th>\n",
       "      <td>0.000000</td>\n",
       "    </tr>\n",
       "    <tr>\n",
       "      <th>월평</th>\n",
       "      <td>0.000000</td>\n",
       "    </tr>\n",
       "    <tr>\n",
       "      <th>월드컵경기장</th>\n",
       "      <td>0.000000</td>\n",
       "    </tr>\n",
       "    <tr>\n",
       "      <th>용문</th>\n",
       "      <td>0.000000</td>\n",
       "    </tr>\n",
       "    <tr>\n",
       "      <th>갑천</th>\n",
       "      <td>0.000000</td>\n",
       "    </tr>\n",
       "    <tr>\n",
       "      <th>신흥</th>\n",
       "      <td>0.000000</td>\n",
       "    </tr>\n",
       "    <tr>\n",
       "      <th>술집</th>\n",
       "      <td>0.000000</td>\n",
       "    </tr>\n",
       "    <tr>\n",
       "      <th>서대전네거리</th>\n",
       "      <td>0.000000</td>\n",
       "    </tr>\n",
       "    <tr>\n",
       "      <th>반석</th>\n",
       "      <td>0.000000</td>\n",
       "    </tr>\n",
       "    <tr>\n",
       "      <th>도서관_b</th>\n",
       "      <td>0.000000</td>\n",
       "    </tr>\n",
       "    <tr>\n",
       "      <th>대전</th>\n",
       "      <td>0.000000</td>\n",
       "    </tr>\n",
       "    <tr>\n",
       "      <th>대동</th>\n",
       "      <td>0.000000</td>\n",
       "    </tr>\n",
       "    <tr>\n",
       "      <th>노은</th>\n",
       "      <td>0.000000</td>\n",
       "    </tr>\n",
       "    <tr>\n",
       "      <th>오룡</th>\n",
       "      <td>0.000000</td>\n",
       "    </tr>\n",
       "  </tbody>\n",
       "</table>\n",
       "</div>"
      ],
      "text/plain": [
       "         importance\n",
       "휴일         0.177849\n",
       "은행         0.113629\n",
       "영화관_b      0.100176\n",
       "출구         0.064726\n",
       "올리브영       0.063164\n",
       "학교         0.061302\n",
       "현충원        0.045083\n",
       "노령화지수      0.044855\n",
       "확진자수       0.043818\n",
       "날짜         0.043213\n",
       "스타벅스       0.037097\n",
       "버스터미널_b    0.026762\n",
       "구암         0.026642\n",
       "최고기온       0.024382\n",
       "최저기온       0.022863\n",
       "대형마트_b     0.021360\n",
       "병원_b       0.020321\n",
       "버스정류장      0.017201\n",
       "샌드위치       0.012627\n",
       "일우량        0.008767\n",
       "인구수        0.008681\n",
       "정부청사       0.008207\n",
       "유성온천       0.005309\n",
       "백화점_b      0.001098\n",
       "시청         0.000868\n",
       "지족         0.000000\n",
       "탄방         0.000000\n",
       "중앙로        0.000000\n",
       "중구청        0.000000\n",
       "판암         0.000000\n",
       "갈마         0.000000\n",
       "월평         0.000000\n",
       "월드컵경기장     0.000000\n",
       "용문         0.000000\n",
       "갑천         0.000000\n",
       "신흥         0.000000\n",
       "술집         0.000000\n",
       "서대전네거리     0.000000\n",
       "반석         0.000000\n",
       "도서관_b      0.000000\n",
       "대전         0.000000\n",
       "대동         0.000000\n",
       "노은         0.000000\n",
       "오룡         0.000000"
      ]
     },
     "execution_count": 18,
     "metadata": {},
     "output_type": "execute_result"
    }
   ],
   "source": [
    "import pandas as pd\n",
    "rf1 = grid_rf.best_estimator_.fit(X_train, y_train)\n",
    "feature_imp = pd.DataFrame(rf1.feature_importances_,index=X_train.columns, columns=['importance']).sort_values('importance',ascending=False)\n",
    "feature_imp"
   ]
  },
  {
   "cell_type": "markdown",
   "metadata": {
    "id": "yewfLh5plarm"
   },
   "source": [
    "# 2 전처리"
   ]
  },
  {
   "cell_type": "code",
   "execution_count": 19,
   "metadata": {
    "executionInfo": {
     "elapsed": 390,
     "status": "ok",
     "timestamp": 1621779650868,
     "user": {
      "displayName": "‍원윤정[ 학부재학 / 수학과 ]",
      "photoUrl": "",
      "userId": "18011858018859333600"
     },
     "user_tz": -540
    },
    "id": "p3hdizfTlaaX"
   },
   "outputs": [],
   "source": [
    "import pandas as pd\n",
    "import numpy as np"
   ]
  },
  {
   "cell_type": "code",
   "execution_count": 20,
   "metadata": {
    "executionInfo": {
     "elapsed": 614,
     "status": "ok",
     "timestamp": 1621779652475,
     "user": {
      "displayName": "‍원윤정[ 학부재학 / 수학과 ]",
      "photoUrl": "",
      "userId": "18011858018859333600"
     },
     "user_tz": -540
    },
    "id": "4avprQHDvpF2"
   },
   "outputs": [],
   "source": [
    "train = pd.read_csv(\"/Users/yoonjeong/Desktop/af_train_2.csv\", encoding='cp949')\n",
    "test = pd.read_csv(\"/Users/yoonjeong/Desktop/af_test_2.csv\", encoding='cp949')"
   ]
  },
  {
   "cell_type": "markdown",
   "metadata": {
    "id": "vRj5AGabltaw"
   },
   "source": [
    "모델링"
   ]
  },
  {
   "cell_type": "code",
   "execution_count": 21,
   "metadata": {
    "executionInfo": {
     "elapsed": 275,
     "status": "ok",
     "timestamp": 1621779661048,
     "user": {
      "displayName": "‍원윤정[ 학부재학 / 수학과 ]",
      "photoUrl": "",
      "userId": "18011858018859333600"
     },
     "user_tz": -540
    },
    "id": "y7-EBV1rwfi6"
   },
   "outputs": [],
   "source": [
    "# X : features, y: target variable\n",
    "X_train=  train[train.columns.difference([\"이용자 수\"])]\n",
    "X_test = test[test.columns.difference([\"이용자 수\"])]\n",
    "y_train= train[\"이용자 수\"]\n",
    "y_test= test['이용자 수']"
   ]
  },
  {
   "cell_type": "markdown",
   "metadata": {
    "id": "5CTxc3Drw6Hs"
   },
   "source": [
    "# 2 random forest"
   ]
  },
  {
   "cell_type": "code",
   "execution_count": 22,
   "metadata": {
    "colab": {
     "base_uri": "https://localhost:8080/"
    },
    "executionInfo": {
     "elapsed": 21733,
     "status": "ok",
     "timestamp": 1621780020842,
     "user": {
      "displayName": "‍원윤정[ 학부재학 / 수학과 ]",
      "photoUrl": "",
      "userId": "18011858018859333600"
     },
     "user_tz": -540
    },
    "id": "9cRYHUaNm40v",
    "outputId": "50212ad8-9d2f-4387-ed19-a1bd4a662aac"
   },
   "outputs": [
    {
     "name": "stdout",
     "output_type": "stream",
     "text": [
      "{'n_estimators': [10, 15, 20, 25, 30], 'max_features': ['auto', 'sqrt'], 'max_depth': [10, 20, 30, 40, 50, None], 'min_samples_split': [2, 5], 'min_samples_leaf': [1, 2], 'bootstrap': [True, False]}\n"
     ]
    }
   ],
   "source": [
    "from sklearn.model_selection import RandomizedSearchCV\n",
    "\n",
    "n_estimators = [int(x) for x in np.linspace(start = 10, stop = 30, num = 5)]\n",
    "\n",
    "max_features = ['auto', 'sqrt']\n",
    "\n",
    "max_depth = [int(x) for x in np.linspace(10, 50, num = 5)]\n",
    "max_depth.append(None)\n",
    "# Minimum number of samples required to split a node\n",
    "min_samples_split = [2, 5]\n",
    "# Minimum number of samples required at each leaf node\n",
    "min_samples_leaf = [1, 2]\n",
    "# Method of selecting samples for training each tree\n",
    "bootstrap = [True, False]\n",
    "# Create the random grid\n",
    "random_grid = {'n_estimators': n_estimators,\n",
    "               'max_features': max_features,\n",
    "               'max_depth': max_depth,\n",
    "               'min_samples_split': min_samples_split,\n",
    "               'min_samples_leaf': min_samples_leaf,\n",
    "               'bootstrap': bootstrap}\n",
    "print(random_grid)"
   ]
  },
  {
   "cell_type": "code",
   "execution_count": 23,
   "metadata": {
    "colab": {
     "base_uri": "https://localhost:8080/"
    },
    "id": "rVak7g8bnmyp",
    "outputId": "71a9f802-0786-4fd4-e886-6b085ce437f3"
   },
   "outputs": [
    {
     "name": "stdout",
     "output_type": "stream",
     "text": [
      "Fitting 10 folds for each of 100 candidates, totalling 1000 fits\n"
     ]
    },
    {
     "name": "stderr",
     "output_type": "stream",
     "text": [
      "/Users/yoonjeong/opt/anaconda3/lib/python3.8/site-packages/sklearn/model_selection/_search.py:918: UserWarning: One or more of the test scores are non-finite: [inf inf inf inf inf inf inf inf inf inf inf inf inf inf inf inf inf inf\n",
      " inf inf inf inf inf inf inf inf inf inf inf inf inf inf inf inf inf inf\n",
      " inf inf inf inf inf inf inf inf inf inf inf inf inf inf inf inf inf inf\n",
      " inf inf inf inf inf inf inf inf inf inf inf inf inf inf inf inf inf inf\n",
      " inf inf inf inf inf inf inf inf inf inf inf inf inf inf inf inf inf inf\n",
      " inf inf inf inf inf inf inf inf inf inf]\n",
      "  warnings.warn(\n",
      "/Users/yoonjeong/opt/anaconda3/lib/python3.8/site-packages/sklearn/model_selection/_search.py:925: RuntimeWarning: invalid value encountered in subtract\n",
      "  array_stds = np.sqrt(np.average((array -\n"
     ]
    },
    {
     "data": {
      "text/plain": [
       "RandomizedSearchCV(cv=10, estimator=RandomForestRegressor(), n_iter=100,\n",
       "                   n_jobs=-1,\n",
       "                   param_distributions={'bootstrap': [True, False],\n",
       "                                        'max_depth': [10, 20, 30, 40, 50, None],\n",
       "                                        'max_features': ['auto', 'sqrt'],\n",
       "                                        'min_samples_leaf': [1, 2],\n",
       "                                        'min_samples_split': [2, 5],\n",
       "                                        'n_estimators': [10, 15, 20, 25, 30]},\n",
       "                   random_state=42, scoring=make_scorer(rmsle), verbose=2)"
      ]
     },
     "execution_count": 23,
     "metadata": {},
     "output_type": "execute_result"
    }
   ],
   "source": [
    "from sklearn.ensemble import RandomForestRegressor\n",
    "rf = RandomForestRegressor()\n",
    "grid_rf = RandomizedSearchCV(estimator = rf, param_distributions = random_grid, n_iter = 100, cv = 10, verbose=2, random_state=42, n_jobs = -1,  scoring=rmsle_scorer)\n",
    "grid_rf.fit(X_train, y_train)"
   ]
  },
  {
   "cell_type": "code",
   "execution_count": 24,
   "metadata": {
    "id": "n2wFukPV0ioR"
   },
   "outputs": [
    {
     "name": "stdout",
     "output_type": "stream",
     "text": [
      "RMSLE Value For Random Forest_af_group2: 0.1007\n",
      "\n",
      "\n",
      "RMSLE Value For Random Forest_af_group2 : 0.2285\n",
      "\n",
      "\n"
     ]
    }
   ],
   "source": [
    "pred = grid_rf.predict(X_train)\n",
    "print('RMSLE Value For Random Forest_af_group2: %.4f' % (rmsle(pred,y_train,False)))\n",
    "print(\"\\n\")\n",
    "\n",
    "\n",
    "y_pred = grid_rf.predict(X_test)\n",
    "print('RMSLE Value For Random Forest_af_group2 : %.4f' % (rmsle(y_pred,y_test,False)))\n",
    "print(\"\\n\")"
   ]
  },
  {
   "cell_type": "code",
   "execution_count": 25,
   "metadata": {
    "colab": {
     "base_uri": "https://localhost:8080/",
     "height": 1000
    },
    "executionInfo": {
     "elapsed": 536,
     "status": "ok",
     "timestamp": 1621770946998,
     "user": {
      "displayName": "‍원윤정[ 학부재학 / 수학과 ]",
      "photoUrl": "",
      "userId": "18011858018859333600"
     },
     "user_tz": -540
    },
    "id": "2M0H_h4zxU8a",
    "outputId": "9c925d6b-62e2-49b9-aff7-2ee40ff81957",
    "tags": []
   },
   "outputs": [
    {
     "data": {
      "text/html": [
       "<div>\n",
       "<style scoped>\n",
       "    .dataframe tbody tr th:only-of-type {\n",
       "        vertical-align: middle;\n",
       "    }\n",
       "\n",
       "    .dataframe tbody tr th {\n",
       "        vertical-align: top;\n",
       "    }\n",
       "\n",
       "    .dataframe thead th {\n",
       "        text-align: right;\n",
       "    }\n",
       "</style>\n",
       "<table border=\"1\" class=\"dataframe\">\n",
       "  <thead>\n",
       "    <tr style=\"text-align: right;\">\n",
       "      <th></th>\n",
       "      <th>importance</th>\n",
       "    </tr>\n",
       "  </thead>\n",
       "  <tbody>\n",
       "    <tr>\n",
       "      <th>갑천</th>\n",
       "      <td>0.141776</td>\n",
       "    </tr>\n",
       "    <tr>\n",
       "      <th>버스정류장</th>\n",
       "      <td>0.132417</td>\n",
       "    </tr>\n",
       "    <tr>\n",
       "      <th>휴일</th>\n",
       "      <td>0.118796</td>\n",
       "    </tr>\n",
       "    <tr>\n",
       "      <th>은행</th>\n",
       "      <td>0.110118</td>\n",
       "    </tr>\n",
       "    <tr>\n",
       "      <th>출구</th>\n",
       "      <td>0.101838</td>\n",
       "    </tr>\n",
       "    <tr>\n",
       "      <th>술집</th>\n",
       "      <td>0.084428</td>\n",
       "    </tr>\n",
       "    <tr>\n",
       "      <th>날짜</th>\n",
       "      <td>0.052669</td>\n",
       "    </tr>\n",
       "    <tr>\n",
       "      <th>확진자수</th>\n",
       "      <td>0.051448</td>\n",
       "    </tr>\n",
       "    <tr>\n",
       "      <th>인구수</th>\n",
       "      <td>0.035565</td>\n",
       "    </tr>\n",
       "    <tr>\n",
       "      <th>최저기온</th>\n",
       "      <td>0.026952</td>\n",
       "    </tr>\n",
       "    <tr>\n",
       "      <th>최고기온</th>\n",
       "      <td>0.026426</td>\n",
       "    </tr>\n",
       "    <tr>\n",
       "      <th>스타벅스</th>\n",
       "      <td>0.026215</td>\n",
       "    </tr>\n",
       "    <tr>\n",
       "      <th>월평</th>\n",
       "      <td>0.026194</td>\n",
       "    </tr>\n",
       "    <tr>\n",
       "      <th>노령화지수</th>\n",
       "      <td>0.018280</td>\n",
       "    </tr>\n",
       "    <tr>\n",
       "      <th>갈마</th>\n",
       "      <td>0.017724</td>\n",
       "    </tr>\n",
       "    <tr>\n",
       "      <th>대형마트_b</th>\n",
       "      <td>0.010789</td>\n",
       "    </tr>\n",
       "    <tr>\n",
       "      <th>일우량</th>\n",
       "      <td>0.009624</td>\n",
       "    </tr>\n",
       "    <tr>\n",
       "      <th>학교</th>\n",
       "      <td>0.005092</td>\n",
       "    </tr>\n",
       "    <tr>\n",
       "      <th>올리브영</th>\n",
       "      <td>0.003649</td>\n",
       "    </tr>\n",
       "    <tr>\n",
       "      <th>구암</th>\n",
       "      <td>0.000000</td>\n",
       "    </tr>\n",
       "    <tr>\n",
       "      <th>현충원</th>\n",
       "      <td>0.000000</td>\n",
       "    </tr>\n",
       "    <tr>\n",
       "      <th>판암</th>\n",
       "      <td>0.000000</td>\n",
       "    </tr>\n",
       "    <tr>\n",
       "      <th>탄방</th>\n",
       "      <td>0.000000</td>\n",
       "    </tr>\n",
       "    <tr>\n",
       "      <th>노은</th>\n",
       "      <td>0.000000</td>\n",
       "    </tr>\n",
       "    <tr>\n",
       "      <th>대동</th>\n",
       "      <td>0.000000</td>\n",
       "    </tr>\n",
       "    <tr>\n",
       "      <th>대전</th>\n",
       "      <td>0.000000</td>\n",
       "    </tr>\n",
       "    <tr>\n",
       "      <th>지족</th>\n",
       "      <td>0.000000</td>\n",
       "    </tr>\n",
       "    <tr>\n",
       "      <th>중앙로</th>\n",
       "      <td>0.000000</td>\n",
       "    </tr>\n",
       "    <tr>\n",
       "      <th>중구청</th>\n",
       "      <td>0.000000</td>\n",
       "    </tr>\n",
       "    <tr>\n",
       "      <th>정부청사</th>\n",
       "      <td>0.000000</td>\n",
       "    </tr>\n",
       "    <tr>\n",
       "      <th>샌드위치</th>\n",
       "      <td>0.000000</td>\n",
       "    </tr>\n",
       "    <tr>\n",
       "      <th>서대전네거리</th>\n",
       "      <td>0.000000</td>\n",
       "    </tr>\n",
       "    <tr>\n",
       "      <th>도서관_b</th>\n",
       "      <td>0.000000</td>\n",
       "    </tr>\n",
       "    <tr>\n",
       "      <th>유성온천</th>\n",
       "      <td>0.000000</td>\n",
       "    </tr>\n",
       "    <tr>\n",
       "      <th>반석</th>\n",
       "      <td>0.000000</td>\n",
       "    </tr>\n",
       "    <tr>\n",
       "      <th>월드컵경기장</th>\n",
       "      <td>0.000000</td>\n",
       "    </tr>\n",
       "    <tr>\n",
       "      <th>용문</th>\n",
       "      <td>0.000000</td>\n",
       "    </tr>\n",
       "    <tr>\n",
       "      <th>백화점_b</th>\n",
       "      <td>0.000000</td>\n",
       "    </tr>\n",
       "    <tr>\n",
       "      <th>영화관_b</th>\n",
       "      <td>0.000000</td>\n",
       "    </tr>\n",
       "    <tr>\n",
       "      <th>신흥</th>\n",
       "      <td>0.000000</td>\n",
       "    </tr>\n",
       "    <tr>\n",
       "      <th>시청</th>\n",
       "      <td>0.000000</td>\n",
       "    </tr>\n",
       "    <tr>\n",
       "      <th>버스터미널_b</th>\n",
       "      <td>0.000000</td>\n",
       "    </tr>\n",
       "    <tr>\n",
       "      <th>병원_b</th>\n",
       "      <td>0.000000</td>\n",
       "    </tr>\n",
       "    <tr>\n",
       "      <th>오룡</th>\n",
       "      <td>0.000000</td>\n",
       "    </tr>\n",
       "  </tbody>\n",
       "</table>\n",
       "</div>"
      ],
      "text/plain": [
       "         importance\n",
       "갑천         0.141776\n",
       "버스정류장      0.132417\n",
       "휴일         0.118796\n",
       "은행         0.110118\n",
       "출구         0.101838\n",
       "술집         0.084428\n",
       "날짜         0.052669\n",
       "확진자수       0.051448\n",
       "인구수        0.035565\n",
       "최저기온       0.026952\n",
       "최고기온       0.026426\n",
       "스타벅스       0.026215\n",
       "월평         0.026194\n",
       "노령화지수      0.018280\n",
       "갈마         0.017724\n",
       "대형마트_b     0.010789\n",
       "일우량        0.009624\n",
       "학교         0.005092\n",
       "올리브영       0.003649\n",
       "구암         0.000000\n",
       "현충원        0.000000\n",
       "판암         0.000000\n",
       "탄방         0.000000\n",
       "노은         0.000000\n",
       "대동         0.000000\n",
       "대전         0.000000\n",
       "지족         0.000000\n",
       "중앙로        0.000000\n",
       "중구청        0.000000\n",
       "정부청사       0.000000\n",
       "샌드위치       0.000000\n",
       "서대전네거리     0.000000\n",
       "도서관_b      0.000000\n",
       "유성온천       0.000000\n",
       "반석         0.000000\n",
       "월드컵경기장     0.000000\n",
       "용문         0.000000\n",
       "백화점_b      0.000000\n",
       "영화관_b      0.000000\n",
       "신흥         0.000000\n",
       "시청         0.000000\n",
       "버스터미널_b    0.000000\n",
       "병원_b       0.000000\n",
       "오룡         0.000000"
      ]
     },
     "execution_count": 25,
     "metadata": {},
     "output_type": "execute_result"
    }
   ],
   "source": [
    "import pandas as pd\n",
    "rf1 = grid_rf.best_estimator_.fit(X_train, y_train)\n",
    "feature_imp = pd.DataFrame(rf1.feature_importances_,index=X_train.columns, columns=['importance']).sort_values('importance',ascending=False)\n",
    "feature_imp"
   ]
  },
  {
   "cell_type": "markdown",
   "metadata": {
    "id": "yewfLh5plarm"
   },
   "source": [
    "# 3 전처리"
   ]
  },
  {
   "cell_type": "code",
   "execution_count": 26,
   "metadata": {
    "executionInfo": {
     "elapsed": 390,
     "status": "ok",
     "timestamp": 1621779650868,
     "user": {
      "displayName": "‍원윤정[ 학부재학 / 수학과 ]",
      "photoUrl": "",
      "userId": "18011858018859333600"
     },
     "user_tz": -540
    },
    "id": "p3hdizfTlaaX"
   },
   "outputs": [],
   "source": [
    "import pandas as pd\n",
    "import numpy as np"
   ]
  },
  {
   "cell_type": "code",
   "execution_count": 27,
   "metadata": {
    "executionInfo": {
     "elapsed": 614,
     "status": "ok",
     "timestamp": 1621779652475,
     "user": {
      "displayName": "‍원윤정[ 학부재학 / 수학과 ]",
      "photoUrl": "",
      "userId": "18011858018859333600"
     },
     "user_tz": -540
    },
    "id": "4avprQHDvpF2"
   },
   "outputs": [],
   "source": [
    "train = pd.read_csv(\"/Users/yoonjeong/Desktop/af_train_3.csv\", encoding='cp949')\n",
    "test = pd.read_csv(\"/Users/yoonjeong/Desktop/af_test_3.csv\", encoding='cp949')"
   ]
  },
  {
   "cell_type": "markdown",
   "metadata": {
    "id": "vRj5AGabltaw"
   },
   "source": [
    "모델링"
   ]
  },
  {
   "cell_type": "code",
   "execution_count": 28,
   "metadata": {
    "executionInfo": {
     "elapsed": 275,
     "status": "ok",
     "timestamp": 1621779661048,
     "user": {
      "displayName": "‍원윤정[ 학부재학 / 수학과 ]",
      "photoUrl": "",
      "userId": "18011858018859333600"
     },
     "user_tz": -540
    },
    "id": "y7-EBV1rwfi6"
   },
   "outputs": [],
   "source": [
    "# X : features, y: target variable\n",
    "X_train=  train[train.columns.difference([\"이용자 수\"])]\n",
    "X_test = test[test.columns.difference([\"이용자 수\"])]\n",
    "y_train= train[\"이용자 수\"]\n",
    "y_test= test['이용자 수']"
   ]
  },
  {
   "cell_type": "markdown",
   "metadata": {
    "id": "5CTxc3Drw6Hs"
   },
   "source": [
    "# 3 random forest"
   ]
  },
  {
   "cell_type": "code",
   "execution_count": 29,
   "metadata": {
    "colab": {
     "base_uri": "https://localhost:8080/"
    },
    "executionInfo": {
     "elapsed": 21733,
     "status": "ok",
     "timestamp": 1621780020842,
     "user": {
      "displayName": "‍원윤정[ 학부재학 / 수학과 ]",
      "photoUrl": "",
      "userId": "18011858018859333600"
     },
     "user_tz": -540
    },
    "id": "9cRYHUaNm40v",
    "outputId": "50212ad8-9d2f-4387-ed19-a1bd4a662aac"
   },
   "outputs": [
    {
     "name": "stdout",
     "output_type": "stream",
     "text": [
      "{'n_estimators': [10, 15, 20, 25, 30], 'max_features': ['auto', 'sqrt'], 'max_depth': [10, 20, 30, 40, 50, None], 'min_samples_split': [2, 5], 'min_samples_leaf': [1, 2], 'bootstrap': [True, False]}\n"
     ]
    }
   ],
   "source": [
    "from sklearn.model_selection import RandomizedSearchCV\n",
    "\n",
    "n_estimators = [int(x) for x in np.linspace(start = 10, stop = 30, num = 5)]\n",
    "\n",
    "max_features = ['auto', 'sqrt']\n",
    "\n",
    "max_depth = [int(x) for x in np.linspace(10, 50, num = 5)]\n",
    "max_depth.append(None)\n",
    "# Minimum number of samples required to split a node\n",
    "min_samples_split = [2, 5]\n",
    "# Minimum number of samples required at each leaf node\n",
    "min_samples_leaf = [1, 2]\n",
    "# Method of selecting samples for training each tree\n",
    "bootstrap = [True, False]\n",
    "# Create the random grid\n",
    "random_grid = {'n_estimators': n_estimators,\n",
    "               'max_features': max_features,\n",
    "               'max_depth': max_depth,\n",
    "               'min_samples_split': min_samples_split,\n",
    "               'min_samples_leaf': min_samples_leaf,\n",
    "               'bootstrap': bootstrap}\n",
    "print(random_grid)"
   ]
  },
  {
   "cell_type": "code",
   "execution_count": 30,
   "metadata": {
    "colab": {
     "base_uri": "https://localhost:8080/"
    },
    "id": "rVak7g8bnmyp",
    "outputId": "71a9f802-0786-4fd4-e886-6b085ce437f3"
   },
   "outputs": [
    {
     "name": "stdout",
     "output_type": "stream",
     "text": [
      "Fitting 10 folds for each of 100 candidates, totalling 1000 fits\n"
     ]
    },
    {
     "name": "stderr",
     "output_type": "stream",
     "text": [
      "/Users/yoonjeong/opt/anaconda3/lib/python3.8/site-packages/sklearn/model_selection/_search.py:918: UserWarning: One or more of the test scores are non-finite: [inf inf inf inf inf inf inf inf inf inf inf inf inf inf inf inf inf inf\n",
      " inf inf inf inf inf inf inf inf inf inf inf inf inf inf inf inf inf inf\n",
      " inf inf inf inf inf inf inf inf inf inf inf inf inf inf inf inf inf inf\n",
      " inf inf inf inf inf inf inf inf inf inf inf inf inf inf inf inf inf inf\n",
      " inf inf inf inf inf inf inf inf inf inf inf inf inf inf inf inf inf inf\n",
      " inf inf inf inf inf inf inf inf inf inf]\n",
      "  warnings.warn(\n",
      "/Users/yoonjeong/opt/anaconda3/lib/python3.8/site-packages/sklearn/model_selection/_search.py:925: RuntimeWarning: invalid value encountered in subtract\n",
      "  array_stds = np.sqrt(np.average((array -\n"
     ]
    },
    {
     "data": {
      "text/plain": [
       "RandomizedSearchCV(cv=10, estimator=RandomForestRegressor(), n_iter=100,\n",
       "                   n_jobs=-1,\n",
       "                   param_distributions={'bootstrap': [True, False],\n",
       "                                        'max_depth': [10, 20, 30, 40, 50, None],\n",
       "                                        'max_features': ['auto', 'sqrt'],\n",
       "                                        'min_samples_leaf': [1, 2],\n",
       "                                        'min_samples_split': [2, 5],\n",
       "                                        'n_estimators': [10, 15, 20, 25, 30]},\n",
       "                   random_state=42, scoring=make_scorer(rmsle), verbose=2)"
      ]
     },
     "execution_count": 30,
     "metadata": {},
     "output_type": "execute_result"
    }
   ],
   "source": [
    "from sklearn.ensemble import RandomForestRegressor\n",
    "rf = RandomForestRegressor()\n",
    "grid_rf = RandomizedSearchCV(estimator = rf, param_distributions = random_grid, n_iter = 100, cv = 10, verbose=2, random_state=42, n_jobs = -1,  scoring=rmsle_scorer)\n",
    "grid_rf.fit(X_train, y_train)"
   ]
  },
  {
   "cell_type": "code",
   "execution_count": 31,
   "metadata": {
    "id": "n2wFukPV0ioR"
   },
   "outputs": [
    {
     "name": "stdout",
     "output_type": "stream",
     "text": [
      "RMSLE Value For Random Forest_af_group3: 0.1198\n",
      "\n",
      "\n",
      "RMSLE Value For Random Forest_af_group3 : 0.2389\n",
      "\n",
      "\n"
     ]
    }
   ],
   "source": [
    "pred = grid_rf.predict(X_train)\n",
    "print('RMSLE Value For Random Forest_af_group3: %.4f' % (rmsle(pred,y_train,False)))\n",
    "print(\"\\n\")\n",
    "\n",
    "\n",
    "y_pred = grid_rf.predict(X_test)\n",
    "print('RMSLE Value For Random Forest_af_group3 : %.4f' % (rmsle(y_pred,y_test,False)))\n",
    "print(\"\\n\")"
   ]
  },
  {
   "cell_type": "code",
   "execution_count": 32,
   "metadata": {
    "colab": {
     "base_uri": "https://localhost:8080/",
     "height": 1000
    },
    "executionInfo": {
     "elapsed": 536,
     "status": "ok",
     "timestamp": 1621770946998,
     "user": {
      "displayName": "‍원윤정[ 학부재학 / 수학과 ]",
      "photoUrl": "",
      "userId": "18011858018859333600"
     },
     "user_tz": -540
    },
    "id": "2M0H_h4zxU8a",
    "outputId": "9c925d6b-62e2-49b9-aff7-2ee40ff81957",
    "tags": []
   },
   "outputs": [
    {
     "data": {
      "text/html": [
       "<div>\n",
       "<style scoped>\n",
       "    .dataframe tbody tr th:only-of-type {\n",
       "        vertical-align: middle;\n",
       "    }\n",
       "\n",
       "    .dataframe tbody tr th {\n",
       "        vertical-align: top;\n",
       "    }\n",
       "\n",
       "    .dataframe thead th {\n",
       "        text-align: right;\n",
       "    }\n",
       "</style>\n",
       "<table border=\"1\" class=\"dataframe\">\n",
       "  <thead>\n",
       "    <tr style=\"text-align: right;\">\n",
       "      <th></th>\n",
       "      <th>importance</th>\n",
       "    </tr>\n",
       "  </thead>\n",
       "  <tbody>\n",
       "    <tr>\n",
       "      <th>노령화지수</th>\n",
       "      <td>0.128179</td>\n",
       "    </tr>\n",
       "    <tr>\n",
       "      <th>휴일</th>\n",
       "      <td>0.127411</td>\n",
       "    </tr>\n",
       "    <tr>\n",
       "      <th>샌드위치</th>\n",
       "      <td>0.095033</td>\n",
       "    </tr>\n",
       "    <tr>\n",
       "      <th>버스정류장</th>\n",
       "      <td>0.093321</td>\n",
       "    </tr>\n",
       "    <tr>\n",
       "      <th>은행</th>\n",
       "      <td>0.080670</td>\n",
       "    </tr>\n",
       "    <tr>\n",
       "      <th>인구수</th>\n",
       "      <td>0.067240</td>\n",
       "    </tr>\n",
       "    <tr>\n",
       "      <th>확진자수</th>\n",
       "      <td>0.057676</td>\n",
       "    </tr>\n",
       "    <tr>\n",
       "      <th>올리브영</th>\n",
       "      <td>0.046753</td>\n",
       "    </tr>\n",
       "    <tr>\n",
       "      <th>날짜</th>\n",
       "      <td>0.046585</td>\n",
       "    </tr>\n",
       "    <tr>\n",
       "      <th>영화관_b</th>\n",
       "      <td>0.036068</td>\n",
       "    </tr>\n",
       "    <tr>\n",
       "      <th>신흥</th>\n",
       "      <td>0.030408</td>\n",
       "    </tr>\n",
       "    <tr>\n",
       "      <th>스타벅스</th>\n",
       "      <td>0.027603</td>\n",
       "    </tr>\n",
       "    <tr>\n",
       "      <th>최저기온</th>\n",
       "      <td>0.026800</td>\n",
       "    </tr>\n",
       "    <tr>\n",
       "      <th>술집</th>\n",
       "      <td>0.024228</td>\n",
       "    </tr>\n",
       "    <tr>\n",
       "      <th>최고기온</th>\n",
       "      <td>0.024070</td>\n",
       "    </tr>\n",
       "    <tr>\n",
       "      <th>학교</th>\n",
       "      <td>0.022865</td>\n",
       "    </tr>\n",
       "    <tr>\n",
       "      <th>대전</th>\n",
       "      <td>0.017321</td>\n",
       "    </tr>\n",
       "    <tr>\n",
       "      <th>출구</th>\n",
       "      <td>0.012231</td>\n",
       "    </tr>\n",
       "    <tr>\n",
       "      <th>일우량</th>\n",
       "      <td>0.009016</td>\n",
       "    </tr>\n",
       "    <tr>\n",
       "      <th>용문</th>\n",
       "      <td>0.005696</td>\n",
       "    </tr>\n",
       "    <tr>\n",
       "      <th>도서관_b</th>\n",
       "      <td>0.005149</td>\n",
       "    </tr>\n",
       "    <tr>\n",
       "      <th>중구청</th>\n",
       "      <td>0.004997</td>\n",
       "    </tr>\n",
       "    <tr>\n",
       "      <th>병원_b</th>\n",
       "      <td>0.002489</td>\n",
       "    </tr>\n",
       "    <tr>\n",
       "      <th>중앙로</th>\n",
       "      <td>0.002099</td>\n",
       "    </tr>\n",
       "    <tr>\n",
       "      <th>대동</th>\n",
       "      <td>0.002017</td>\n",
       "    </tr>\n",
       "    <tr>\n",
       "      <th>오룡</th>\n",
       "      <td>0.001264</td>\n",
       "    </tr>\n",
       "    <tr>\n",
       "      <th>서대전네거리</th>\n",
       "      <td>0.001170</td>\n",
       "    </tr>\n",
       "    <tr>\n",
       "      <th>대형마트_b</th>\n",
       "      <td>0.001038</td>\n",
       "    </tr>\n",
       "    <tr>\n",
       "      <th>탄방</th>\n",
       "      <td>0.000347</td>\n",
       "    </tr>\n",
       "    <tr>\n",
       "      <th>판암</th>\n",
       "      <td>0.000210</td>\n",
       "    </tr>\n",
       "    <tr>\n",
       "      <th>백화점_b</th>\n",
       "      <td>0.000043</td>\n",
       "    </tr>\n",
       "    <tr>\n",
       "      <th>반석</th>\n",
       "      <td>0.000000</td>\n",
       "    </tr>\n",
       "    <tr>\n",
       "      <th>구암</th>\n",
       "      <td>0.000000</td>\n",
       "    </tr>\n",
       "    <tr>\n",
       "      <th>현충원</th>\n",
       "      <td>0.000000</td>\n",
       "    </tr>\n",
       "    <tr>\n",
       "      <th>노은</th>\n",
       "      <td>0.000000</td>\n",
       "    </tr>\n",
       "    <tr>\n",
       "      <th>월평</th>\n",
       "      <td>0.000000</td>\n",
       "    </tr>\n",
       "    <tr>\n",
       "      <th>유성온천</th>\n",
       "      <td>0.000000</td>\n",
       "    </tr>\n",
       "    <tr>\n",
       "      <th>지족</th>\n",
       "      <td>0.000000</td>\n",
       "    </tr>\n",
       "    <tr>\n",
       "      <th>버스터미널_b</th>\n",
       "      <td>0.000000</td>\n",
       "    </tr>\n",
       "    <tr>\n",
       "      <th>정부청사</th>\n",
       "      <td>0.000000</td>\n",
       "    </tr>\n",
       "    <tr>\n",
       "      <th>시청</th>\n",
       "      <td>0.000000</td>\n",
       "    </tr>\n",
       "    <tr>\n",
       "      <th>갑천</th>\n",
       "      <td>0.000000</td>\n",
       "    </tr>\n",
       "    <tr>\n",
       "      <th>월드컵경기장</th>\n",
       "      <td>0.000000</td>\n",
       "    </tr>\n",
       "    <tr>\n",
       "      <th>갈마</th>\n",
       "      <td>0.000000</td>\n",
       "    </tr>\n",
       "  </tbody>\n",
       "</table>\n",
       "</div>"
      ],
      "text/plain": [
       "         importance\n",
       "노령화지수      0.128179\n",
       "휴일         0.127411\n",
       "샌드위치       0.095033\n",
       "버스정류장      0.093321\n",
       "은행         0.080670\n",
       "인구수        0.067240\n",
       "확진자수       0.057676\n",
       "올리브영       0.046753\n",
       "날짜         0.046585\n",
       "영화관_b      0.036068\n",
       "신흥         0.030408\n",
       "스타벅스       0.027603\n",
       "최저기온       0.026800\n",
       "술집         0.024228\n",
       "최고기온       0.024070\n",
       "학교         0.022865\n",
       "대전         0.017321\n",
       "출구         0.012231\n",
       "일우량        0.009016\n",
       "용문         0.005696\n",
       "도서관_b      0.005149\n",
       "중구청        0.004997\n",
       "병원_b       0.002489\n",
       "중앙로        0.002099\n",
       "대동         0.002017\n",
       "오룡         0.001264\n",
       "서대전네거리     0.001170\n",
       "대형마트_b     0.001038\n",
       "탄방         0.000347\n",
       "판암         0.000210\n",
       "백화점_b      0.000043\n",
       "반석         0.000000\n",
       "구암         0.000000\n",
       "현충원        0.000000\n",
       "노은         0.000000\n",
       "월평         0.000000\n",
       "유성온천       0.000000\n",
       "지족         0.000000\n",
       "버스터미널_b    0.000000\n",
       "정부청사       0.000000\n",
       "시청         0.000000\n",
       "갑천         0.000000\n",
       "월드컵경기장     0.000000\n",
       "갈마         0.000000"
      ]
     },
     "execution_count": 32,
     "metadata": {},
     "output_type": "execute_result"
    }
   ],
   "source": [
    "import pandas as pd\n",
    "rf1 = grid_rf.best_estimator_.fit(X_train, y_train)\n",
    "feature_imp = pd.DataFrame(rf1.feature_importances_,index=X_train.columns, columns=['importance']).sort_values('importance',ascending=False)\n",
    "feature_imp"
   ]
  }
 ],
 "metadata": {
  "accelerator": "GPU",
  "colab": {
   "authorship_tag": "ABX9TyOWLpid1GepZPrJFftyeFmL",
   "collapsed_sections": [
    "yewfLh5plarm"
   ],
   "mount_file_id": "1_mgod6SBU5xvuZLJLB_YsuuC9S-48oRm",
   "name": "DT,RF 코로나 이전_군집별.ipynb",
   "provenance": []
  },
  "kernelspec": {
   "display_name": "Python 3",
   "language": "python",
   "name": "python3"
  },
  "language_info": {
   "codemirror_mode": {
    "name": "ipython",
    "version": 3
   },
   "file_extension": ".py",
   "mimetype": "text/x-python",
   "name": "python",
   "nbconvert_exporter": "python",
   "pygments_lexer": "ipython3",
   "version": "3.8.8"
  },
  "toc-autonumbering": false,
  "toc-showmarkdowntxt": false
 },
 "nbformat": 4,
 "nbformat_minor": 4
}
