{
 "cells": [
  {
   "cell_type": "code",
   "execution_count": 48,
   "metadata": {
    "executionInfo": {
     "elapsed": 405,
     "status": "ok",
     "timestamp": 1621779537302,
     "user": {
      "displayName": "‍원윤정[ 학부재학 / 수학과 ]",
      "photoUrl": "",
      "userId": "18011858018859333600"
     },
     "user_tz": -540
    },
    "id": "tPLPOTc56prm"
   },
   "outputs": [],
   "source": [
    "#평가 스케일\n",
    "def rmsle(y, y_,convertExp=True):\n",
    "    if convertExp:\n",
    "        y = np.exp(y), \n",
    "        y_ = np.exp(y_)\n",
    "    log1 = np.nan_to_num(np.array([np.log(v + 1) for v in y]))\n",
    "    log2 = np.nan_to_num(np.array([np.log(v + 1) for v in y_]))\n",
    "    calc = (log1 - log2) ** 2\n",
    "    return np.sqrt(np.mean(calc))\n",
    "\n",
    "from sklearn import metrics\n",
    "rmsle_scorer = metrics.make_scorer(rmsle)"
   ]
  },
  {
   "cell_type": "markdown",
   "metadata": {
    "id": "yewfLh5plarm"
   },
   "source": [
    "# 0 전처리"
   ]
  },
  {
   "cell_type": "code",
   "execution_count": 49,
   "metadata": {
    "executionInfo": {
     "elapsed": 390,
     "status": "ok",
     "timestamp": 1621779650868,
     "user": {
      "displayName": "‍원윤정[ 학부재학 / 수학과 ]",
      "photoUrl": "",
      "userId": "18011858018859333600"
     },
     "user_tz": -540
    },
    "id": "p3hdizfTlaaX"
   },
   "outputs": [],
   "source": [
    "import pandas as pd\n",
    "import numpy as np"
   ]
  },
  {
   "cell_type": "code",
   "execution_count": 50,
   "metadata": {
    "executionInfo": {
     "elapsed": 614,
     "status": "ok",
     "timestamp": 1621779652475,
     "user": {
      "displayName": "‍원윤정[ 학부재학 / 수학과 ]",
      "photoUrl": "",
      "userId": "18011858018859333600"
     },
     "user_tz": -540
    },
    "id": "4avprQHDvpF2"
   },
   "outputs": [],
   "source": [
    "train = pd.read_csv(\"/Users/yoonjeong/Desktop/bf_train_0.csv\", encoding='cp949')\n",
    "test = pd.read_csv(\"/Users/yoonjeong/Desktop/bf_test_0.csv\", encoding='cp949')"
   ]
  },
  {
   "cell_type": "markdown",
   "metadata": {
    "id": "vRj5AGabltaw"
   },
   "source": [
    "모델링"
   ]
  },
  {
   "cell_type": "code",
   "execution_count": 51,
   "metadata": {
    "executionInfo": {
     "elapsed": 275,
     "status": "ok",
     "timestamp": 1621779661048,
     "user": {
      "displayName": "‍원윤정[ 학부재학 / 수학과 ]",
      "photoUrl": "",
      "userId": "18011858018859333600"
     },
     "user_tz": -540
    },
    "id": "y7-EBV1rwfi6"
   },
   "outputs": [],
   "source": [
    "# X : features, y: target variable\n",
    "X_train=  train[train.columns.difference([\"이용자 수\"])]\n",
    "X_test = test[test.columns.difference([\"이용자 수\"])]\n",
    "y_train= train[\"이용자 수\"]\n",
    "y_test= test['이용자 수']"
   ]
  },
  {
   "cell_type": "markdown",
   "metadata": {
    "id": "5CTxc3Drw6Hs"
   },
   "source": [
    "# 0 random forest"
   ]
  },
  {
   "cell_type": "code",
   "execution_count": 52,
   "metadata": {
    "colab": {
     "base_uri": "https://localhost:8080/"
    },
    "executionInfo": {
     "elapsed": 21733,
     "status": "ok",
     "timestamp": 1621780020842,
     "user": {
      "displayName": "‍원윤정[ 학부재학 / 수학과 ]",
      "photoUrl": "",
      "userId": "18011858018859333600"
     },
     "user_tz": -540
    },
    "id": "9cRYHUaNm40v",
    "outputId": "50212ad8-9d2f-4387-ed19-a1bd4a662aac"
   },
   "outputs": [
    {
     "name": "stdout",
     "output_type": "stream",
     "text": [
      "{'n_estimators': [10, 15, 20, 25, 30], 'max_features': ['auto', 'sqrt'], 'max_depth': [10, 20, 30, 40, 50, None], 'min_samples_split': [2, 5], 'min_samples_leaf': [1, 2], 'bootstrap': [True, False]}\n"
     ]
    }
   ],
   "source": [
    "from sklearn.model_selection import RandomizedSearchCV\n",
    "\n",
    "n_estimators = [int(x) for x in np.linspace(start = 10, stop = 30, num = 5)]\n",
    "\n",
    "max_features = ['auto', 'sqrt']\n",
    "\n",
    "max_depth = [int(x) for x in np.linspace(10, 50, num = 5)]\n",
    "max_depth.append(None)\n",
    "# Minimum number of samples required to split a node\n",
    "min_samples_split = [2, 5]\n",
    "# Minimum number of samples required at each leaf node\n",
    "min_samples_leaf = [1, 2]\n",
    "# Method of selecting samples for training each tree\n",
    "bootstrap = [True, False]\n",
    "# Create the random grid\n",
    "random_grid = {'n_estimators': n_estimators,\n",
    "               'max_features': max_features,\n",
    "               'max_depth': max_depth,\n",
    "               'min_samples_split': min_samples_split,\n",
    "               'min_samples_leaf': min_samples_leaf,\n",
    "               'bootstrap': bootstrap}\n",
    "print(random_grid)"
   ]
  },
  {
   "cell_type": "code",
   "execution_count": 53,
   "metadata": {
    "colab": {
     "base_uri": "https://localhost:8080/"
    },
    "id": "rVak7g8bnmyp",
    "outputId": "71a9f802-0786-4fd4-e886-6b085ce437f3"
   },
   "outputs": [
    {
     "name": "stdout",
     "output_type": "stream",
     "text": [
      "Fitting 3 folds for each of 100 candidates, totalling 300 fits\n"
     ]
    },
    {
     "data": {
      "text/plain": [
       "RandomizedSearchCV(cv=3, estimator=RandomForestRegressor(), n_iter=100,\n",
       "                   n_jobs=-1,\n",
       "                   param_distributions={'bootstrap': [True, False],\n",
       "                                        'max_depth': [10, 20, 30, 40, 50, None],\n",
       "                                        'max_features': ['auto', 'sqrt'],\n",
       "                                        'min_samples_leaf': [1, 2],\n",
       "                                        'min_samples_split': [2, 5],\n",
       "                                        'n_estimators': [10, 15, 20, 25, 30]},\n",
       "                   random_state=42, scoring=make_scorer(rmsle), verbose=2)"
      ]
     },
     "execution_count": 53,
     "metadata": {},
     "output_type": "execute_result"
    }
   ],
   "source": [
    "from sklearn.ensemble import RandomForestRegressor\n",
    "rf = RandomForestRegressor()\n",
    "grid_rf = RandomizedSearchCV(estimator = rf, param_distributions = random_grid, n_iter = 100, cv = 3, verbose=2, random_state=42, n_jobs = -1,  scoring=rmsle_scorer)\n",
    "grid_rf.fit(X_train, y_train)"
   ]
  },
  {
   "cell_type": "code",
   "execution_count": 54,
   "metadata": {
    "id": "n2wFukPV0ioR"
   },
   "outputs": [
    {
     "name": "stdout",
     "output_type": "stream",
     "text": [
      "RMSLE Value For Random Forest_bf_group0: 0.1163\n",
      "\n",
      "\n",
      "RMSLE Value For Random Forest_bf_group0 : 0.1641\n",
      "\n",
      "\n"
     ]
    }
   ],
   "source": [
    "pred = grid_rf.predict(X_train)\n",
    "print('RMSLE Value For Random Forest_bf_group0: %.4f' % (rmsle(pred,y_train,False)))\n",
    "print(\"\\n\")\n",
    "\n",
    "\n",
    "y_pred = grid_rf.predict(X_test)\n",
    "print('RMSLE Value For Random Forest_bf_group0 : %.4f' % (rmsle(y_pred,y_test,False)))\n",
    "print(\"\\n\")"
   ]
  },
  {
   "cell_type": "code",
   "execution_count": 55,
   "metadata": {
    "colab": {
     "base_uri": "https://localhost:8080/",
     "height": 1000
    },
    "executionInfo": {
     "elapsed": 536,
     "status": "ok",
     "timestamp": 1621770946998,
     "user": {
      "displayName": "‍원윤정[ 학부재학 / 수학과 ]",
      "photoUrl": "",
      "userId": "18011858018859333600"
     },
     "user_tz": -540
    },
    "id": "2M0H_h4zxU8a",
    "outputId": "9c925d6b-62e2-49b9-aff7-2ee40ff81957",
    "tags": []
   },
   "outputs": [
    {
     "data": {
      "text/html": [
       "<div>\n",
       "<style scoped>\n",
       "    .dataframe tbody tr th:only-of-type {\n",
       "        vertical-align: middle;\n",
       "    }\n",
       "\n",
       "    .dataframe tbody tr th {\n",
       "        vertical-align: top;\n",
       "    }\n",
       "\n",
       "    .dataframe thead th {\n",
       "        text-align: right;\n",
       "    }\n",
       "</style>\n",
       "<table border=\"1\" class=\"dataframe\">\n",
       "  <thead>\n",
       "    <tr style=\"text-align: right;\">\n",
       "      <th></th>\n",
       "      <th>importance</th>\n",
       "    </tr>\n",
       "  </thead>\n",
       "  <tbody>\n",
       "    <tr>\n",
       "      <th>술집</th>\n",
       "      <td>0.219764</td>\n",
       "    </tr>\n",
       "    <tr>\n",
       "      <th>반석</th>\n",
       "      <td>0.180916</td>\n",
       "    </tr>\n",
       "    <tr>\n",
       "      <th>휴일</th>\n",
       "      <td>0.169906</td>\n",
       "    </tr>\n",
       "    <tr>\n",
       "      <th>올리브영</th>\n",
       "      <td>0.065259</td>\n",
       "    </tr>\n",
       "    <tr>\n",
       "      <th>출구</th>\n",
       "      <td>0.048637</td>\n",
       "    </tr>\n",
       "    <tr>\n",
       "      <th>은행</th>\n",
       "      <td>0.046576</td>\n",
       "    </tr>\n",
       "    <tr>\n",
       "      <th>샌드위치</th>\n",
       "      <td>0.045128</td>\n",
       "    </tr>\n",
       "    <tr>\n",
       "      <th>버스정류장</th>\n",
       "      <td>0.041109</td>\n",
       "    </tr>\n",
       "    <tr>\n",
       "      <th>스타벅스</th>\n",
       "      <td>0.034385</td>\n",
       "    </tr>\n",
       "    <tr>\n",
       "      <th>대형마트_b</th>\n",
       "      <td>0.033059</td>\n",
       "    </tr>\n",
       "    <tr>\n",
       "      <th>날짜</th>\n",
       "      <td>0.020606</td>\n",
       "    </tr>\n",
       "    <tr>\n",
       "      <th>최저기온</th>\n",
       "      <td>0.018839</td>\n",
       "    </tr>\n",
       "    <tr>\n",
       "      <th>최고기온</th>\n",
       "      <td>0.017468</td>\n",
       "    </tr>\n",
       "    <tr>\n",
       "      <th>지족</th>\n",
       "      <td>0.013631</td>\n",
       "    </tr>\n",
       "    <tr>\n",
       "      <th>영화관_b</th>\n",
       "      <td>0.011768</td>\n",
       "    </tr>\n",
       "    <tr>\n",
       "      <th>노은</th>\n",
       "      <td>0.011156</td>\n",
       "    </tr>\n",
       "    <tr>\n",
       "      <th>월드컵경기장</th>\n",
       "      <td>0.009726</td>\n",
       "    </tr>\n",
       "    <tr>\n",
       "      <th>일우량</th>\n",
       "      <td>0.006710</td>\n",
       "    </tr>\n",
       "    <tr>\n",
       "      <th>학기여부</th>\n",
       "      <td>0.002357</td>\n",
       "    </tr>\n",
       "    <tr>\n",
       "      <th>적설량</th>\n",
       "      <td>0.002185</td>\n",
       "    </tr>\n",
       "    <tr>\n",
       "      <th>장마기간</th>\n",
       "      <td>0.000448</td>\n",
       "    </tr>\n",
       "    <tr>\n",
       "      <th>학교</th>\n",
       "      <td>0.000319</td>\n",
       "    </tr>\n",
       "    <tr>\n",
       "      <th>도서관_b</th>\n",
       "      <td>0.000050</td>\n",
       "    </tr>\n",
       "    <tr>\n",
       "      <th>탄방</th>\n",
       "      <td>0.000000</td>\n",
       "    </tr>\n",
       "    <tr>\n",
       "      <th>판암</th>\n",
       "      <td>0.000000</td>\n",
       "    </tr>\n",
       "    <tr>\n",
       "      <th>중앙로</th>\n",
       "      <td>0.000000</td>\n",
       "    </tr>\n",
       "    <tr>\n",
       "      <th>중구청</th>\n",
       "      <td>0.000000</td>\n",
       "    </tr>\n",
       "    <tr>\n",
       "      <th>정부청사</th>\n",
       "      <td>0.000000</td>\n",
       "    </tr>\n",
       "    <tr>\n",
       "      <th>현충원</th>\n",
       "      <td>0.000000</td>\n",
       "    </tr>\n",
       "    <tr>\n",
       "      <th>노령화지수</th>\n",
       "      <td>0.000000</td>\n",
       "    </tr>\n",
       "    <tr>\n",
       "      <th>인구수</th>\n",
       "      <td>0.000000</td>\n",
       "    </tr>\n",
       "    <tr>\n",
       "      <th>유성온천</th>\n",
       "      <td>0.000000</td>\n",
       "    </tr>\n",
       "    <tr>\n",
       "      <th>월평</th>\n",
       "      <td>0.000000</td>\n",
       "    </tr>\n",
       "    <tr>\n",
       "      <th>용문</th>\n",
       "      <td>0.000000</td>\n",
       "    </tr>\n",
       "    <tr>\n",
       "      <th>갑천</th>\n",
       "      <td>0.000000</td>\n",
       "    </tr>\n",
       "    <tr>\n",
       "      <th>오룡</th>\n",
       "      <td>0.000000</td>\n",
       "    </tr>\n",
       "    <tr>\n",
       "      <th>신흥</th>\n",
       "      <td>0.000000</td>\n",
       "    </tr>\n",
       "    <tr>\n",
       "      <th>시청</th>\n",
       "      <td>0.000000</td>\n",
       "    </tr>\n",
       "    <tr>\n",
       "      <th>구암</th>\n",
       "      <td>0.000000</td>\n",
       "    </tr>\n",
       "    <tr>\n",
       "      <th>서대전네거리</th>\n",
       "      <td>0.000000</td>\n",
       "    </tr>\n",
       "    <tr>\n",
       "      <th>병원_b</th>\n",
       "      <td>0.000000</td>\n",
       "    </tr>\n",
       "    <tr>\n",
       "      <th>버스터미널_b</th>\n",
       "      <td>0.000000</td>\n",
       "    </tr>\n",
       "    <tr>\n",
       "      <th>백화점_b</th>\n",
       "      <td>0.000000</td>\n",
       "    </tr>\n",
       "    <tr>\n",
       "      <th>대전</th>\n",
       "      <td>0.000000</td>\n",
       "    </tr>\n",
       "    <tr>\n",
       "      <th>대동</th>\n",
       "      <td>0.000000</td>\n",
       "    </tr>\n",
       "    <tr>\n",
       "      <th>갈마</th>\n",
       "      <td>0.000000</td>\n",
       "    </tr>\n",
       "  </tbody>\n",
       "</table>\n",
       "</div>"
      ],
      "text/plain": [
       "         importance\n",
       "술집         0.219764\n",
       "반석         0.180916\n",
       "휴일         0.169906\n",
       "올리브영       0.065259\n",
       "출구         0.048637\n",
       "은행         0.046576\n",
       "샌드위치       0.045128\n",
       "버스정류장      0.041109\n",
       "스타벅스       0.034385\n",
       "대형마트_b     0.033059\n",
       "날짜         0.020606\n",
       "최저기온       0.018839\n",
       "최고기온       0.017468\n",
       "지족         0.013631\n",
       "영화관_b      0.011768\n",
       "노은         0.011156\n",
       "월드컵경기장     0.009726\n",
       "일우량        0.006710\n",
       "학기여부       0.002357\n",
       "적설량        0.002185\n",
       "장마기간       0.000448\n",
       "학교         0.000319\n",
       "도서관_b      0.000050\n",
       "탄방         0.000000\n",
       "판암         0.000000\n",
       "중앙로        0.000000\n",
       "중구청        0.000000\n",
       "정부청사       0.000000\n",
       "현충원        0.000000\n",
       "노령화지수      0.000000\n",
       "인구수        0.000000\n",
       "유성온천       0.000000\n",
       "월평         0.000000\n",
       "용문         0.000000\n",
       "갑천         0.000000\n",
       "오룡         0.000000\n",
       "신흥         0.000000\n",
       "시청         0.000000\n",
       "구암         0.000000\n",
       "서대전네거리     0.000000\n",
       "병원_b       0.000000\n",
       "버스터미널_b    0.000000\n",
       "백화점_b      0.000000\n",
       "대전         0.000000\n",
       "대동         0.000000\n",
       "갈마         0.000000"
      ]
     },
     "execution_count": 55,
     "metadata": {},
     "output_type": "execute_result"
    }
   ],
   "source": [
    "import pandas as pd\n",
    "rf1 = grid_rf.best_estimator_.fit(X_train, y_train)\n",
    "feature_imp = pd.DataFrame(rf1.feature_importances_,index=X_train.columns, columns=['importance']).sort_values('importance',ascending=False)\n",
    "feature_imp"
   ]
  },
  {
   "cell_type": "code",
   "execution_count": null,
   "metadata": {},
   "outputs": [],
   "source": []
  },
  {
   "cell_type": "markdown",
   "metadata": {
    "id": "yewfLh5plarm"
   },
   "source": [
    "# 1 전처리"
   ]
  },
  {
   "cell_type": "code",
   "execution_count": 56,
   "metadata": {
    "executionInfo": {
     "elapsed": 390,
     "status": "ok",
     "timestamp": 1621779650868,
     "user": {
      "displayName": "‍원윤정[ 학부재학 / 수학과 ]",
      "photoUrl": "",
      "userId": "18011858018859333600"
     },
     "user_tz": -540
    },
    "id": "p3hdizfTlaaX"
   },
   "outputs": [],
   "source": [
    "import pandas as pd\n",
    "import numpy as np"
   ]
  },
  {
   "cell_type": "code",
   "execution_count": 57,
   "metadata": {
    "executionInfo": {
     "elapsed": 614,
     "status": "ok",
     "timestamp": 1621779652475,
     "user": {
      "displayName": "‍원윤정[ 학부재학 / 수학과 ]",
      "photoUrl": "",
      "userId": "18011858018859333600"
     },
     "user_tz": -540
    },
    "id": "4avprQHDvpF2"
   },
   "outputs": [],
   "source": [
    "train = pd.read_csv(\"/Users/yoonjeong/Desktop/bf_train_1.csv\", encoding='cp949')\n",
    "test = pd.read_csv(\"/Users/yoonjeong/Desktop/bf_test_1.csv\", encoding='cp949')"
   ]
  },
  {
   "cell_type": "markdown",
   "metadata": {
    "id": "vRj5AGabltaw"
   },
   "source": [
    "모델링"
   ]
  },
  {
   "cell_type": "code",
   "execution_count": 58,
   "metadata": {
    "executionInfo": {
     "elapsed": 275,
     "status": "ok",
     "timestamp": 1621779661048,
     "user": {
      "displayName": "‍원윤정[ 학부재학 / 수학과 ]",
      "photoUrl": "",
      "userId": "18011858018859333600"
     },
     "user_tz": -540
    },
    "id": "y7-EBV1rwfi6"
   },
   "outputs": [],
   "source": [
    "# X : features, y: target variable\n",
    "X_train=  train[train.columns.difference([\"이용자 수\"])]\n",
    "X_test = test[test.columns.difference([\"이용자 수\"])]\n",
    "y_train= train[\"이용자 수\"]\n",
    "y_test= test['이용자 수']"
   ]
  },
  {
   "cell_type": "markdown",
   "metadata": {
    "id": "5CTxc3Drw6Hs"
   },
   "source": [
    "# 1 random forest"
   ]
  },
  {
   "cell_type": "code",
   "execution_count": 59,
   "metadata": {
    "colab": {
     "base_uri": "https://localhost:8080/"
    },
    "executionInfo": {
     "elapsed": 21733,
     "status": "ok",
     "timestamp": 1621780020842,
     "user": {
      "displayName": "‍원윤정[ 학부재학 / 수학과 ]",
      "photoUrl": "",
      "userId": "18011858018859333600"
     },
     "user_tz": -540
    },
    "id": "9cRYHUaNm40v",
    "outputId": "50212ad8-9d2f-4387-ed19-a1bd4a662aac"
   },
   "outputs": [
    {
     "name": "stdout",
     "output_type": "stream",
     "text": [
      "{'n_estimators': [10, 15, 20, 25, 30], 'max_features': ['auto', 'sqrt'], 'max_depth': [10, 20, 30, 40, 50, None], 'min_samples_split': [2, 5], 'min_samples_leaf': [1, 2], 'bootstrap': [True, False]}\n"
     ]
    }
   ],
   "source": [
    "from sklearn.model_selection import RandomizedSearchCV\n",
    "\n",
    "n_estimators = [int(x) for x in np.linspace(start = 10, stop = 30, num = 5)]\n",
    "\n",
    "max_features = ['auto', 'sqrt']\n",
    "\n",
    "max_depth = [int(x) for x in np.linspace(10, 50, num = 5)]\n",
    "max_depth.append(None)\n",
    "# Minimum number of samples required to split a node\n",
    "min_samples_split = [2, 5]\n",
    "# Minimum number of samples required at each leaf node\n",
    "min_samples_leaf = [1, 2]\n",
    "# Method of selecting samples for training each tree\n",
    "bootstrap = [True, False]\n",
    "# Create the random grid\n",
    "random_grid = {'n_estimators': n_estimators,\n",
    "               'max_features': max_features,\n",
    "               'max_depth': max_depth,\n",
    "               'min_samples_split': min_samples_split,\n",
    "               'min_samples_leaf': min_samples_leaf,\n",
    "               'bootstrap': bootstrap}\n",
    "print(random_grid)"
   ]
  },
  {
   "cell_type": "code",
   "execution_count": 60,
   "metadata": {
    "colab": {
     "base_uri": "https://localhost:8080/"
    },
    "id": "rVak7g8bnmyp",
    "outputId": "71a9f802-0786-4fd4-e886-6b085ce437f3"
   },
   "outputs": [
    {
     "name": "stdout",
     "output_type": "stream",
     "text": [
      "Fitting 3 folds for each of 100 candidates, totalling 300 fits\n"
     ]
    },
    {
     "data": {
      "text/plain": [
       "RandomizedSearchCV(cv=3, estimator=RandomForestRegressor(), n_iter=100,\n",
       "                   n_jobs=-1,\n",
       "                   param_distributions={'bootstrap': [True, False],\n",
       "                                        'max_depth': [10, 20, 30, 40, 50, None],\n",
       "                                        'max_features': ['auto', 'sqrt'],\n",
       "                                        'min_samples_leaf': [1, 2],\n",
       "                                        'min_samples_split': [2, 5],\n",
       "                                        'n_estimators': [10, 15, 20, 25, 30]},\n",
       "                   random_state=42, scoring=make_scorer(rmsle), verbose=2)"
      ]
     },
     "execution_count": 60,
     "metadata": {},
     "output_type": "execute_result"
    }
   ],
   "source": [
    "from sklearn.ensemble import RandomForestRegressor\n",
    "rf = RandomForestRegressor()\n",
    "grid_rf = RandomizedSearchCV(estimator = rf, param_distributions = random_grid, n_iter = 100, cv = 3, verbose=2, random_state=42, n_jobs = -1,  scoring=rmsle_scorer)\n",
    "grid_rf.fit(X_train, y_train)"
   ]
  },
  {
   "cell_type": "code",
   "execution_count": 61,
   "metadata": {
    "id": "n2wFukPV0ioR"
   },
   "outputs": [
    {
     "name": "stdout",
     "output_type": "stream",
     "text": [
      "RMSLE Value For Random Forest_bf_group0: 0.1212\n",
      "\n",
      "\n",
      "RMSLE Value For Random Forest_bf_group0 : 0.1745\n",
      "\n",
      "\n"
     ]
    }
   ],
   "source": [
    "pred = grid_rf.predict(X_train)\n",
    "print('RMSLE Value For Random Forest_bf_group0: %.4f' % (rmsle(pred,y_train,False)))\n",
    "print(\"\\n\")\n",
    "\n",
    "\n",
    "y_pred = grid_rf.predict(X_test)\n",
    "print('RMSLE Value For Random Forest_bf_group0 : %.4f' % (rmsle(y_pred,y_test,False)))\n",
    "print(\"\\n\")"
   ]
  },
  {
   "cell_type": "code",
   "execution_count": 62,
   "metadata": {
    "colab": {
     "base_uri": "https://localhost:8080/",
     "height": 1000
    },
    "executionInfo": {
     "elapsed": 536,
     "status": "ok",
     "timestamp": 1621770946998,
     "user": {
      "displayName": "‍원윤정[ 학부재학 / 수학과 ]",
      "photoUrl": "",
      "userId": "18011858018859333600"
     },
     "user_tz": -540
    },
    "id": "2M0H_h4zxU8a",
    "outputId": "9c925d6b-62e2-49b9-aff7-2ee40ff81957",
    "tags": []
   },
   "outputs": [
    {
     "data": {
      "text/html": [
       "<div>\n",
       "<style scoped>\n",
       "    .dataframe tbody tr th:only-of-type {\n",
       "        vertical-align: middle;\n",
       "    }\n",
       "\n",
       "    .dataframe tbody tr th {\n",
       "        vertical-align: top;\n",
       "    }\n",
       "\n",
       "    .dataframe thead th {\n",
       "        text-align: right;\n",
       "    }\n",
       "</style>\n",
       "<table border=\"1\" class=\"dataframe\">\n",
       "  <thead>\n",
       "    <tr style=\"text-align: right;\">\n",
       "      <th></th>\n",
       "      <th>importance</th>\n",
       "    </tr>\n",
       "  </thead>\n",
       "  <tbody>\n",
       "    <tr>\n",
       "      <th>스타벅스</th>\n",
       "      <td>0.143494</td>\n",
       "    </tr>\n",
       "    <tr>\n",
       "      <th>올리브영</th>\n",
       "      <td>0.137196</td>\n",
       "    </tr>\n",
       "    <tr>\n",
       "      <th>휴일</th>\n",
       "      <td>0.134873</td>\n",
       "    </tr>\n",
       "    <tr>\n",
       "      <th>술집</th>\n",
       "      <td>0.083104</td>\n",
       "    </tr>\n",
       "    <tr>\n",
       "      <th>출구</th>\n",
       "      <td>0.046242</td>\n",
       "    </tr>\n",
       "    <tr>\n",
       "      <th>학교</th>\n",
       "      <td>0.040776</td>\n",
       "    </tr>\n",
       "    <tr>\n",
       "      <th>구암</th>\n",
       "      <td>0.040094</td>\n",
       "    </tr>\n",
       "    <tr>\n",
       "      <th>은행</th>\n",
       "      <td>0.039397</td>\n",
       "    </tr>\n",
       "    <tr>\n",
       "      <th>병원_b</th>\n",
       "      <td>0.036443</td>\n",
       "    </tr>\n",
       "    <tr>\n",
       "      <th>버스터미널_b</th>\n",
       "      <td>0.033786</td>\n",
       "    </tr>\n",
       "    <tr>\n",
       "      <th>인구수</th>\n",
       "      <td>0.032801</td>\n",
       "    </tr>\n",
       "    <tr>\n",
       "      <th>현충원</th>\n",
       "      <td>0.027184</td>\n",
       "    </tr>\n",
       "    <tr>\n",
       "      <th>유성온천</th>\n",
       "      <td>0.026882</td>\n",
       "    </tr>\n",
       "    <tr>\n",
       "      <th>버스정류장</th>\n",
       "      <td>0.026527</td>\n",
       "    </tr>\n",
       "    <tr>\n",
       "      <th>영화관_b</th>\n",
       "      <td>0.022802</td>\n",
       "    </tr>\n",
       "    <tr>\n",
       "      <th>백화점_b</th>\n",
       "      <td>0.020947</td>\n",
       "    </tr>\n",
       "    <tr>\n",
       "      <th>노령화지수</th>\n",
       "      <td>0.019137</td>\n",
       "    </tr>\n",
       "    <tr>\n",
       "      <th>날짜</th>\n",
       "      <td>0.017598</td>\n",
       "    </tr>\n",
       "    <tr>\n",
       "      <th>최고기온</th>\n",
       "      <td>0.016003</td>\n",
       "    </tr>\n",
       "    <tr>\n",
       "      <th>최저기온</th>\n",
       "      <td>0.015469</td>\n",
       "    </tr>\n",
       "    <tr>\n",
       "      <th>대형마트_b</th>\n",
       "      <td>0.009376</td>\n",
       "    </tr>\n",
       "    <tr>\n",
       "      <th>샌드위치</th>\n",
       "      <td>0.008766</td>\n",
       "    </tr>\n",
       "    <tr>\n",
       "      <th>정부청사</th>\n",
       "      <td>0.006417</td>\n",
       "    </tr>\n",
       "    <tr>\n",
       "      <th>일우량</th>\n",
       "      <td>0.005635</td>\n",
       "    </tr>\n",
       "    <tr>\n",
       "      <th>학기여부</th>\n",
       "      <td>0.003765</td>\n",
       "    </tr>\n",
       "    <tr>\n",
       "      <th>시청</th>\n",
       "      <td>0.002934</td>\n",
       "    </tr>\n",
       "    <tr>\n",
       "      <th>적설량</th>\n",
       "      <td>0.001882</td>\n",
       "    </tr>\n",
       "    <tr>\n",
       "      <th>장마기간</th>\n",
       "      <td>0.000469</td>\n",
       "    </tr>\n",
       "    <tr>\n",
       "      <th>지족</th>\n",
       "      <td>0.000000</td>\n",
       "    </tr>\n",
       "    <tr>\n",
       "      <th>탄방</th>\n",
       "      <td>0.000000</td>\n",
       "    </tr>\n",
       "    <tr>\n",
       "      <th>중앙로</th>\n",
       "      <td>0.000000</td>\n",
       "    </tr>\n",
       "    <tr>\n",
       "      <th>중구청</th>\n",
       "      <td>0.000000</td>\n",
       "    </tr>\n",
       "    <tr>\n",
       "      <th>판암</th>\n",
       "      <td>0.000000</td>\n",
       "    </tr>\n",
       "    <tr>\n",
       "      <th>용문</th>\n",
       "      <td>0.000000</td>\n",
       "    </tr>\n",
       "    <tr>\n",
       "      <th>월평</th>\n",
       "      <td>0.000000</td>\n",
       "    </tr>\n",
       "    <tr>\n",
       "      <th>월드컵경기장</th>\n",
       "      <td>0.000000</td>\n",
       "    </tr>\n",
       "    <tr>\n",
       "      <th>갑천</th>\n",
       "      <td>0.000000</td>\n",
       "    </tr>\n",
       "    <tr>\n",
       "      <th>오룡</th>\n",
       "      <td>0.000000</td>\n",
       "    </tr>\n",
       "    <tr>\n",
       "      <th>신흥</th>\n",
       "      <td>0.000000</td>\n",
       "    </tr>\n",
       "    <tr>\n",
       "      <th>서대전네거리</th>\n",
       "      <td>0.000000</td>\n",
       "    </tr>\n",
       "    <tr>\n",
       "      <th>반석</th>\n",
       "      <td>0.000000</td>\n",
       "    </tr>\n",
       "    <tr>\n",
       "      <th>도서관_b</th>\n",
       "      <td>0.000000</td>\n",
       "    </tr>\n",
       "    <tr>\n",
       "      <th>대전</th>\n",
       "      <td>0.000000</td>\n",
       "    </tr>\n",
       "    <tr>\n",
       "      <th>대동</th>\n",
       "      <td>0.000000</td>\n",
       "    </tr>\n",
       "    <tr>\n",
       "      <th>노은</th>\n",
       "      <td>0.000000</td>\n",
       "    </tr>\n",
       "    <tr>\n",
       "      <th>갈마</th>\n",
       "      <td>0.000000</td>\n",
       "    </tr>\n",
       "  </tbody>\n",
       "</table>\n",
       "</div>"
      ],
      "text/plain": [
       "         importance\n",
       "스타벅스       0.143494\n",
       "올리브영       0.137196\n",
       "휴일         0.134873\n",
       "술집         0.083104\n",
       "출구         0.046242\n",
       "학교         0.040776\n",
       "구암         0.040094\n",
       "은행         0.039397\n",
       "병원_b       0.036443\n",
       "버스터미널_b    0.033786\n",
       "인구수        0.032801\n",
       "현충원        0.027184\n",
       "유성온천       0.026882\n",
       "버스정류장      0.026527\n",
       "영화관_b      0.022802\n",
       "백화점_b      0.020947\n",
       "노령화지수      0.019137\n",
       "날짜         0.017598\n",
       "최고기온       0.016003\n",
       "최저기온       0.015469\n",
       "대형마트_b     0.009376\n",
       "샌드위치       0.008766\n",
       "정부청사       0.006417\n",
       "일우량        0.005635\n",
       "학기여부       0.003765\n",
       "시청         0.002934\n",
       "적설량        0.001882\n",
       "장마기간       0.000469\n",
       "지족         0.000000\n",
       "탄방         0.000000\n",
       "중앙로        0.000000\n",
       "중구청        0.000000\n",
       "판암         0.000000\n",
       "용문         0.000000\n",
       "월평         0.000000\n",
       "월드컵경기장     0.000000\n",
       "갑천         0.000000\n",
       "오룡         0.000000\n",
       "신흥         0.000000\n",
       "서대전네거리     0.000000\n",
       "반석         0.000000\n",
       "도서관_b      0.000000\n",
       "대전         0.000000\n",
       "대동         0.000000\n",
       "노은         0.000000\n",
       "갈마         0.000000"
      ]
     },
     "execution_count": 62,
     "metadata": {},
     "output_type": "execute_result"
    }
   ],
   "source": [
    "import pandas as pd\n",
    "rf1 = grid_rf.best_estimator_.fit(X_train, y_train)\n",
    "feature_imp = pd.DataFrame(rf1.feature_importances_,index=X_train.columns, columns=['importance']).sort_values('importance',ascending=False)\n",
    "feature_imp"
   ]
  },
  {
   "cell_type": "markdown",
   "metadata": {
    "id": "yewfLh5plarm"
   },
   "source": [
    "# 2 전처리"
   ]
  },
  {
   "cell_type": "code",
   "execution_count": 63,
   "metadata": {
    "executionInfo": {
     "elapsed": 390,
     "status": "ok",
     "timestamp": 1621779650868,
     "user": {
      "displayName": "‍원윤정[ 학부재학 / 수학과 ]",
      "photoUrl": "",
      "userId": "18011858018859333600"
     },
     "user_tz": -540
    },
    "id": "p3hdizfTlaaX"
   },
   "outputs": [],
   "source": [
    "import pandas as pd\n",
    "import numpy as np"
   ]
  },
  {
   "cell_type": "code",
   "execution_count": 64,
   "metadata": {
    "executionInfo": {
     "elapsed": 614,
     "status": "ok",
     "timestamp": 1621779652475,
     "user": {
      "displayName": "‍원윤정[ 학부재학 / 수학과 ]",
      "photoUrl": "",
      "userId": "18011858018859333600"
     },
     "user_tz": -540
    },
    "id": "4avprQHDvpF2"
   },
   "outputs": [],
   "source": [
    "train = pd.read_csv(\"/Users/yoonjeong/Desktop/bf_train_2.csv\", encoding='cp949')\n",
    "test = pd.read_csv(\"/Users/yoonjeong/Desktop/bf_test_2.csv\", encoding='cp949')"
   ]
  },
  {
   "cell_type": "markdown",
   "metadata": {
    "id": "vRj5AGabltaw"
   },
   "source": [
    "모델링"
   ]
  },
  {
   "cell_type": "code",
   "execution_count": 65,
   "metadata": {
    "executionInfo": {
     "elapsed": 275,
     "status": "ok",
     "timestamp": 1621779661048,
     "user": {
      "displayName": "‍원윤정[ 학부재학 / 수학과 ]",
      "photoUrl": "",
      "userId": "18011858018859333600"
     },
     "user_tz": -540
    },
    "id": "y7-EBV1rwfi6"
   },
   "outputs": [],
   "source": [
    "# X : features, y: target variable\n",
    "X_train=  train[train.columns.difference([\"이용자 수\"])]\n",
    "X_test = test[test.columns.difference([\"이용자 수\"])]\n",
    "y_train= train[\"이용자 수\"]\n",
    "y_test= test['이용자 수']"
   ]
  },
  {
   "cell_type": "markdown",
   "metadata": {
    "id": "5CTxc3Drw6Hs"
   },
   "source": [
    "# 2 random forest"
   ]
  },
  {
   "cell_type": "code",
   "execution_count": 66,
   "metadata": {
    "colab": {
     "base_uri": "https://localhost:8080/"
    },
    "executionInfo": {
     "elapsed": 21733,
     "status": "ok",
     "timestamp": 1621780020842,
     "user": {
      "displayName": "‍원윤정[ 학부재학 / 수학과 ]",
      "photoUrl": "",
      "userId": "18011858018859333600"
     },
     "user_tz": -540
    },
    "id": "9cRYHUaNm40v",
    "outputId": "50212ad8-9d2f-4387-ed19-a1bd4a662aac"
   },
   "outputs": [
    {
     "name": "stdout",
     "output_type": "stream",
     "text": [
      "{'n_estimators': [10, 15, 20, 25, 30], 'max_features': ['auto', 'sqrt'], 'max_depth': [10, 20, 30, 40, 50, None], 'min_samples_split': [2, 5], 'min_samples_leaf': [1, 2], 'bootstrap': [True, False]}\n"
     ]
    }
   ],
   "source": [
    "from sklearn.model_selection import RandomizedSearchCV\n",
    "\n",
    "n_estimators = [int(x) for x in np.linspace(start = 10, stop = 30, num = 5)]\n",
    "\n",
    "max_features = ['auto', 'sqrt']\n",
    "\n",
    "max_depth = [int(x) for x in np.linspace(10, 50, num = 5)]\n",
    "max_depth.append(None)\n",
    "# Minimum number of samples required to split a node\n",
    "min_samples_split = [2, 5]\n",
    "# Minimum number of samples required at each leaf node\n",
    "min_samples_leaf = [1, 2]\n",
    "# Method of selecting samples for training each tree\n",
    "bootstrap = [True, False]\n",
    "# Create the random grid\n",
    "random_grid = {'n_estimators': n_estimators,\n",
    "               'max_features': max_features,\n",
    "               'max_depth': max_depth,\n",
    "               'min_samples_split': min_samples_split,\n",
    "               'min_samples_leaf': min_samples_leaf,\n",
    "               'bootstrap': bootstrap}\n",
    "print(random_grid)"
   ]
  },
  {
   "cell_type": "code",
   "execution_count": 67,
   "metadata": {
    "colab": {
     "base_uri": "https://localhost:8080/"
    },
    "id": "rVak7g8bnmyp",
    "outputId": "71a9f802-0786-4fd4-e886-6b085ce437f3"
   },
   "outputs": [
    {
     "name": "stdout",
     "output_type": "stream",
     "text": [
      "Fitting 3 folds for each of 100 candidates, totalling 300 fits\n"
     ]
    },
    {
     "name": "stderr",
     "output_type": "stream",
     "text": [
      "/Users/yoonjeong/opt/anaconda3/lib/python3.8/site-packages/sklearn/model_selection/_search.py:918: UserWarning: One or more of the test scores are non-finite: [inf inf inf inf inf inf inf inf inf inf inf inf inf inf inf inf inf inf\n",
      " inf inf inf inf inf inf inf inf inf inf inf inf inf inf inf inf inf inf\n",
      " inf inf inf inf inf inf inf inf inf inf inf inf inf inf inf inf inf inf\n",
      " inf inf inf inf inf inf inf inf inf inf inf inf inf inf inf inf inf inf\n",
      " inf inf inf inf inf inf inf inf inf inf inf inf inf inf inf inf inf inf\n",
      " inf inf inf inf inf inf inf inf inf inf]\n",
      "  warnings.warn(\n",
      "/Users/yoonjeong/opt/anaconda3/lib/python3.8/site-packages/sklearn/model_selection/_search.py:925: RuntimeWarning: invalid value encountered in subtract\n",
      "  array_stds = np.sqrt(np.average((array -\n"
     ]
    },
    {
     "data": {
      "text/plain": [
       "RandomizedSearchCV(cv=3, estimator=RandomForestRegressor(), n_iter=100,\n",
       "                   n_jobs=-1,\n",
       "                   param_distributions={'bootstrap': [True, False],\n",
       "                                        'max_depth': [10, 20, 30, 40, 50, None],\n",
       "                                        'max_features': ['auto', 'sqrt'],\n",
       "                                        'min_samples_leaf': [1, 2],\n",
       "                                        'min_samples_split': [2, 5],\n",
       "                                        'n_estimators': [10, 15, 20, 25, 30]},\n",
       "                   random_state=42, scoring=make_scorer(rmsle), verbose=2)"
      ]
     },
     "execution_count": 67,
     "metadata": {},
     "output_type": "execute_result"
    }
   ],
   "source": [
    "from sklearn.ensemble import RandomForestRegressor\n",
    "rf = RandomForestRegressor()\n",
    "grid_rf = RandomizedSearchCV(estimator = rf, param_distributions = random_grid, n_iter = 100, cv = 3, verbose=2, random_state=42, n_jobs = -1,  scoring=rmsle_scorer)\n",
    "grid_rf.fit(X_train, y_train)"
   ]
  },
  {
   "cell_type": "code",
   "execution_count": 79,
   "metadata": {
    "id": "n2wFukPV0ioR"
   },
   "outputs": [
    {
     "name": "stdout",
     "output_type": "stream",
     "text": [
      "RMSLE Value For Random Forest_bf_group2: 0.1050\n",
      "\n",
      "\n",
      "RMSLE Value For Random Forest_bf_group2 : 0.1507\n",
      "\n",
      "\n"
     ]
    }
   ],
   "source": [
    "pred = grid_rf.predict(X_train)\n",
    "print('RMSLE Value For Random Forest_bf_group2: %.4f' % (rmsle(pred,y_train,False)))\n",
    "print(\"\\n\")\n",
    "\n",
    "\n",
    "y_pred = grid_rf.predict(X_test)\n",
    "print('RMSLE Value For Random Forest_bf_group2 : %.4f' % (rmsle(y_pred,y_test,False)))\n",
    "print(\"\\n\")"
   ]
  },
  {
   "cell_type": "code",
   "execution_count": 80,
   "metadata": {
    "colab": {
     "base_uri": "https://localhost:8080/",
     "height": 1000
    },
    "executionInfo": {
     "elapsed": 536,
     "status": "ok",
     "timestamp": 1621770946998,
     "user": {
      "displayName": "‍원윤정[ 학부재학 / 수학과 ]",
      "photoUrl": "",
      "userId": "18011858018859333600"
     },
     "user_tz": -540
    },
    "id": "2M0H_h4zxU8a",
    "outputId": "9c925d6b-62e2-49b9-aff7-2ee40ff81957",
    "tags": []
   },
   "outputs": [
    {
     "data": {
      "text/html": [
       "<div>\n",
       "<style scoped>\n",
       "    .dataframe tbody tr th:only-of-type {\n",
       "        vertical-align: middle;\n",
       "    }\n",
       "\n",
       "    .dataframe tbody tr th {\n",
       "        vertical-align: top;\n",
       "    }\n",
       "\n",
       "    .dataframe thead th {\n",
       "        text-align: right;\n",
       "    }\n",
       "</style>\n",
       "<table border=\"1\" class=\"dataframe\">\n",
       "  <thead>\n",
       "    <tr style=\"text-align: right;\">\n",
       "      <th></th>\n",
       "      <th>importance</th>\n",
       "    </tr>\n",
       "  </thead>\n",
       "  <tbody>\n",
       "    <tr>\n",
       "      <th>샌드위치</th>\n",
       "      <td>0.157720</td>\n",
       "    </tr>\n",
       "    <tr>\n",
       "      <th>인구수</th>\n",
       "      <td>0.135536</td>\n",
       "    </tr>\n",
       "    <tr>\n",
       "      <th>노령화지수</th>\n",
       "      <td>0.103248</td>\n",
       "    </tr>\n",
       "    <tr>\n",
       "      <th>휴일</th>\n",
       "      <td>0.076906</td>\n",
       "    </tr>\n",
       "    <tr>\n",
       "      <th>은행</th>\n",
       "      <td>0.073266</td>\n",
       "    </tr>\n",
       "    <tr>\n",
       "      <th>영화관_b</th>\n",
       "      <td>0.065802</td>\n",
       "    </tr>\n",
       "    <tr>\n",
       "      <th>버스정류장</th>\n",
       "      <td>0.054861</td>\n",
       "    </tr>\n",
       "    <tr>\n",
       "      <th>출구</th>\n",
       "      <td>0.054713</td>\n",
       "    </tr>\n",
       "    <tr>\n",
       "      <th>대전</th>\n",
       "      <td>0.048965</td>\n",
       "    </tr>\n",
       "    <tr>\n",
       "      <th>신흥</th>\n",
       "      <td>0.033067</td>\n",
       "    </tr>\n",
       "    <tr>\n",
       "      <th>중구청</th>\n",
       "      <td>0.020319</td>\n",
       "    </tr>\n",
       "    <tr>\n",
       "      <th>술집</th>\n",
       "      <td>0.019442</td>\n",
       "    </tr>\n",
       "    <tr>\n",
       "      <th>올리브영</th>\n",
       "      <td>0.017373</td>\n",
       "    </tr>\n",
       "    <tr>\n",
       "      <th>스타벅스</th>\n",
       "      <td>0.016138</td>\n",
       "    </tr>\n",
       "    <tr>\n",
       "      <th>날짜</th>\n",
       "      <td>0.015296</td>\n",
       "    </tr>\n",
       "    <tr>\n",
       "      <th>최고기온</th>\n",
       "      <td>0.013720</td>\n",
       "    </tr>\n",
       "    <tr>\n",
       "      <th>최저기온</th>\n",
       "      <td>0.013538</td>\n",
       "    </tr>\n",
       "    <tr>\n",
       "      <th>서대전네거리</th>\n",
       "      <td>0.013414</td>\n",
       "    </tr>\n",
       "    <tr>\n",
       "      <th>학교</th>\n",
       "      <td>0.011590</td>\n",
       "    </tr>\n",
       "    <tr>\n",
       "      <th>도서관_b</th>\n",
       "      <td>0.010892</td>\n",
       "    </tr>\n",
       "    <tr>\n",
       "      <th>탄방</th>\n",
       "      <td>0.007593</td>\n",
       "    </tr>\n",
       "    <tr>\n",
       "      <th>백화점_b</th>\n",
       "      <td>0.005564</td>\n",
       "    </tr>\n",
       "    <tr>\n",
       "      <th>일우량</th>\n",
       "      <td>0.005434</td>\n",
       "    </tr>\n",
       "    <tr>\n",
       "      <th>병원_b</th>\n",
       "      <td>0.005015</td>\n",
       "    </tr>\n",
       "    <tr>\n",
       "      <th>용문</th>\n",
       "      <td>0.004244</td>\n",
       "    </tr>\n",
       "    <tr>\n",
       "      <th>대형마트_b</th>\n",
       "      <td>0.003925</td>\n",
       "    </tr>\n",
       "    <tr>\n",
       "      <th>학기여부</th>\n",
       "      <td>0.003052</td>\n",
       "    </tr>\n",
       "    <tr>\n",
       "      <th>판암</th>\n",
       "      <td>0.002380</td>\n",
       "    </tr>\n",
       "    <tr>\n",
       "      <th>중앙로</th>\n",
       "      <td>0.002280</td>\n",
       "    </tr>\n",
       "    <tr>\n",
       "      <th>오룡</th>\n",
       "      <td>0.001916</td>\n",
       "    </tr>\n",
       "    <tr>\n",
       "      <th>대동</th>\n",
       "      <td>0.001441</td>\n",
       "    </tr>\n",
       "    <tr>\n",
       "      <th>적설량</th>\n",
       "      <td>0.000959</td>\n",
       "    </tr>\n",
       "    <tr>\n",
       "      <th>장마기간</th>\n",
       "      <td>0.000391</td>\n",
       "    </tr>\n",
       "    <tr>\n",
       "      <th>구암</th>\n",
       "      <td>0.000000</td>\n",
       "    </tr>\n",
       "    <tr>\n",
       "      <th>현충원</th>\n",
       "      <td>0.000000</td>\n",
       "    </tr>\n",
       "    <tr>\n",
       "      <th>버스터미널_b</th>\n",
       "      <td>0.000000</td>\n",
       "    </tr>\n",
       "    <tr>\n",
       "      <th>노은</th>\n",
       "      <td>0.000000</td>\n",
       "    </tr>\n",
       "    <tr>\n",
       "      <th>지족</th>\n",
       "      <td>0.000000</td>\n",
       "    </tr>\n",
       "    <tr>\n",
       "      <th>정부청사</th>\n",
       "      <td>0.000000</td>\n",
       "    </tr>\n",
       "    <tr>\n",
       "      <th>유성온천</th>\n",
       "      <td>0.000000</td>\n",
       "    </tr>\n",
       "    <tr>\n",
       "      <th>월평</th>\n",
       "      <td>0.000000</td>\n",
       "    </tr>\n",
       "    <tr>\n",
       "      <th>월드컵경기장</th>\n",
       "      <td>0.000000</td>\n",
       "    </tr>\n",
       "    <tr>\n",
       "      <th>갑천</th>\n",
       "      <td>0.000000</td>\n",
       "    </tr>\n",
       "    <tr>\n",
       "      <th>시청</th>\n",
       "      <td>0.000000</td>\n",
       "    </tr>\n",
       "    <tr>\n",
       "      <th>반석</th>\n",
       "      <td>0.000000</td>\n",
       "    </tr>\n",
       "    <tr>\n",
       "      <th>갈마</th>\n",
       "      <td>0.000000</td>\n",
       "    </tr>\n",
       "  </tbody>\n",
       "</table>\n",
       "</div>"
      ],
      "text/plain": [
       "         importance\n",
       "샌드위치       0.157720\n",
       "인구수        0.135536\n",
       "노령화지수      0.103248\n",
       "휴일         0.076906\n",
       "은행         0.073266\n",
       "영화관_b      0.065802\n",
       "버스정류장      0.054861\n",
       "출구         0.054713\n",
       "대전         0.048965\n",
       "신흥         0.033067\n",
       "중구청        0.020319\n",
       "술집         0.019442\n",
       "올리브영       0.017373\n",
       "스타벅스       0.016138\n",
       "날짜         0.015296\n",
       "최고기온       0.013720\n",
       "최저기온       0.013538\n",
       "서대전네거리     0.013414\n",
       "학교         0.011590\n",
       "도서관_b      0.010892\n",
       "탄방         0.007593\n",
       "백화점_b      0.005564\n",
       "일우량        0.005434\n",
       "병원_b       0.005015\n",
       "용문         0.004244\n",
       "대형마트_b     0.003925\n",
       "학기여부       0.003052\n",
       "판암         0.002380\n",
       "중앙로        0.002280\n",
       "오룡         0.001916\n",
       "대동         0.001441\n",
       "적설량        0.000959\n",
       "장마기간       0.000391\n",
       "구암         0.000000\n",
       "현충원        0.000000\n",
       "버스터미널_b    0.000000\n",
       "노은         0.000000\n",
       "지족         0.000000\n",
       "정부청사       0.000000\n",
       "유성온천       0.000000\n",
       "월평         0.000000\n",
       "월드컵경기장     0.000000\n",
       "갑천         0.000000\n",
       "시청         0.000000\n",
       "반석         0.000000\n",
       "갈마         0.000000"
      ]
     },
     "execution_count": 80,
     "metadata": {},
     "output_type": "execute_result"
    }
   ],
   "source": [
    "import pandas as pd\n",
    "rf1 = grid_rf.best_estimator_.fit(X_train, y_train)\n",
    "feature_imp = pd.DataFrame(rf1.feature_importances_,index=X_train.columns, columns=['importance']).sort_values('importance',ascending=False)\n",
    "feature_imp"
   ]
  },
  {
   "cell_type": "markdown",
   "metadata": {
    "id": "yewfLh5plarm"
   },
   "source": [
    "# 3 전처리"
   ]
  },
  {
   "cell_type": "code",
   "execution_count": 81,
   "metadata": {
    "executionInfo": {
     "elapsed": 390,
     "status": "ok",
     "timestamp": 1621779650868,
     "user": {
      "displayName": "‍원윤정[ 학부재학 / 수학과 ]",
      "photoUrl": "",
      "userId": "18011858018859333600"
     },
     "user_tz": -540
    },
    "id": "p3hdizfTlaaX"
   },
   "outputs": [],
   "source": [
    "import pandas as pd\n",
    "import numpy as np"
   ]
  },
  {
   "cell_type": "code",
   "execution_count": 82,
   "metadata": {
    "executionInfo": {
     "elapsed": 614,
     "status": "ok",
     "timestamp": 1621779652475,
     "user": {
      "displayName": "‍원윤정[ 학부재학 / 수학과 ]",
      "photoUrl": "",
      "userId": "18011858018859333600"
     },
     "user_tz": -540
    },
    "id": "4avprQHDvpF2"
   },
   "outputs": [],
   "source": [
    "train = pd.read_csv(\"/Users/yoonjeong/Desktop/bf_train_3.csv\", encoding='cp949')\n",
    "test = pd.read_csv(\"/Users/yoonjeong/Desktop/bf_test_3.csv\", encoding='cp949')"
   ]
  },
  {
   "cell_type": "markdown",
   "metadata": {
    "id": "vRj5AGabltaw"
   },
   "source": [
    "모델링"
   ]
  },
  {
   "cell_type": "code",
   "execution_count": 83,
   "metadata": {
    "executionInfo": {
     "elapsed": 275,
     "status": "ok",
     "timestamp": 1621779661048,
     "user": {
      "displayName": "‍원윤정[ 학부재학 / 수학과 ]",
      "photoUrl": "",
      "userId": "18011858018859333600"
     },
     "user_tz": -540
    },
    "id": "y7-EBV1rwfi6"
   },
   "outputs": [],
   "source": [
    "# X : features, y: target variable\n",
    "X_train=  train[train.columns.difference([\"이용자 수\"])]\n",
    "X_test = test[test.columns.difference([\"이용자 수\"])]\n",
    "y_train= train[\"이용자 수\"]\n",
    "y_test= test['이용자 수']"
   ]
  },
  {
   "cell_type": "markdown",
   "metadata": {
    "id": "5CTxc3Drw6Hs"
   },
   "source": [
    "# 3 random forest"
   ]
  },
  {
   "cell_type": "code",
   "execution_count": 84,
   "metadata": {
    "colab": {
     "base_uri": "https://localhost:8080/"
    },
    "executionInfo": {
     "elapsed": 21733,
     "status": "ok",
     "timestamp": 1621780020842,
     "user": {
      "displayName": "‍원윤정[ 학부재학 / 수학과 ]",
      "photoUrl": "",
      "userId": "18011858018859333600"
     },
     "user_tz": -540
    },
    "id": "9cRYHUaNm40v",
    "outputId": "50212ad8-9d2f-4387-ed19-a1bd4a662aac"
   },
   "outputs": [
    {
     "name": "stdout",
     "output_type": "stream",
     "text": [
      "{'n_estimators': [10, 15, 20, 25, 30], 'max_features': ['auto', 'sqrt'], 'max_depth': [10, 20, 30, 40, 50, None], 'min_samples_split': [2, 5], 'min_samples_leaf': [1, 2], 'bootstrap': [True, False]}\n"
     ]
    }
   ],
   "source": [
    "from sklearn.model_selection import RandomizedSearchCV\n",
    "\n",
    "n_estimators = [int(x) for x in np.linspace(start = 10, stop = 30, num = 5)]\n",
    "\n",
    "max_features = ['auto', 'sqrt']\n",
    "\n",
    "max_depth = [int(x) for x in np.linspace(10, 50, num = 5)]\n",
    "max_depth.append(None)\n",
    "# Minimum number of samples required to split a node\n",
    "min_samples_split = [2, 5]\n",
    "# Minimum number of samples required at each leaf node\n",
    "min_samples_leaf = [1, 2]\n",
    "# Method of selecting samples for training each tree\n",
    "bootstrap = [True, False]\n",
    "# Create the random grid\n",
    "random_grid = {'n_estimators': n_estimators,\n",
    "               'max_features': max_features,\n",
    "               'max_depth': max_depth,\n",
    "               'min_samples_split': min_samples_split,\n",
    "               'min_samples_leaf': min_samples_leaf,\n",
    "               'bootstrap': bootstrap}\n",
    "print(random_grid)"
   ]
  },
  {
   "cell_type": "code",
   "execution_count": 85,
   "metadata": {
    "colab": {
     "base_uri": "https://localhost:8080/"
    },
    "id": "rVak7g8bnmyp",
    "outputId": "71a9f802-0786-4fd4-e886-6b085ce437f3"
   },
   "outputs": [
    {
     "name": "stdout",
     "output_type": "stream",
     "text": [
      "Fitting 3 folds for each of 100 candidates, totalling 300 fits\n"
     ]
    },
    {
     "name": "stderr",
     "output_type": "stream",
     "text": [
      "/Users/yoonjeong/opt/anaconda3/lib/python3.8/site-packages/joblib/externals/loky/process_executor.py:688: UserWarning: A worker stopped while some jobs were given to the executor. This can be caused by a too short worker timeout or by a memory leak.\n",
      "  warnings.warn(\n"
     ]
    },
    {
     "data": {
      "text/plain": [
       "RandomizedSearchCV(cv=3, estimator=RandomForestRegressor(), n_iter=100,\n",
       "                   n_jobs=-1,\n",
       "                   param_distributions={'bootstrap': [True, False],\n",
       "                                        'max_depth': [10, 20, 30, 40, 50, None],\n",
       "                                        'max_features': ['auto', 'sqrt'],\n",
       "                                        'min_samples_leaf': [1, 2],\n",
       "                                        'min_samples_split': [2, 5],\n",
       "                                        'n_estimators': [10, 15, 20, 25, 30]},\n",
       "                   random_state=42, scoring=make_scorer(rmsle), verbose=2)"
      ]
     },
     "execution_count": 85,
     "metadata": {},
     "output_type": "execute_result"
    }
   ],
   "source": [
    "from sklearn.ensemble import RandomForestRegressor\n",
    "rf = RandomForestRegressor()\n",
    "grid_rf = RandomizedSearchCV(estimator = rf, param_distributions = random_grid, n_iter = 100, cv = 3, verbose=2, random_state=42, n_jobs = -1,  scoring=rmsle_scorer)\n",
    "grid_rf.fit(X_train, y_train)"
   ]
  },
  {
   "cell_type": "code",
   "execution_count": 86,
   "metadata": {
    "id": "n2wFukPV0ioR"
   },
   "outputs": [
    {
     "name": "stdout",
     "output_type": "stream",
     "text": [
      "RMSLE Value For Random Forest_bf_group3: 0.1055\n",
      "\n",
      "\n",
      "RMSLE Value For Random Forest_bf_group3 : 0.1512\n",
      "\n",
      "\n"
     ]
    }
   ],
   "source": [
    "pred = grid_rf.predict(X_train)\n",
    "print('RMSLE Value For Random Forest_bf_group3: %.4f' % (rmsle(pred,y_train,False)))\n",
    "print(\"\\n\")\n",
    "\n",
    "\n",
    "y_pred = grid_rf.predict(X_test)\n",
    "print('RMSLE Value For Random Forest_bf_group3 : %.4f' % (rmsle(y_pred,y_test,False)))\n",
    "print(\"\\n\")"
   ]
  },
  {
   "cell_type": "code",
   "execution_count": 87,
   "metadata": {
    "colab": {
     "base_uri": "https://localhost:8080/",
     "height": 1000
    },
    "executionInfo": {
     "elapsed": 536,
     "status": "ok",
     "timestamp": 1621770946998,
     "user": {
      "displayName": "‍원윤정[ 학부재학 / 수학과 ]",
      "photoUrl": "",
      "userId": "18011858018859333600"
     },
     "user_tz": -540
    },
    "id": "2M0H_h4zxU8a",
    "outputId": "9c925d6b-62e2-49b9-aff7-2ee40ff81957",
    "tags": []
   },
   "outputs": [
    {
     "data": {
      "text/html": [
       "<div>\n",
       "<style scoped>\n",
       "    .dataframe tbody tr th:only-of-type {\n",
       "        vertical-align: middle;\n",
       "    }\n",
       "\n",
       "    .dataframe tbody tr th {\n",
       "        vertical-align: top;\n",
       "    }\n",
       "\n",
       "    .dataframe thead th {\n",
       "        text-align: right;\n",
       "    }\n",
       "</style>\n",
       "<table border=\"1\" class=\"dataframe\">\n",
       "  <thead>\n",
       "    <tr style=\"text-align: right;\">\n",
       "      <th></th>\n",
       "      <th>importance</th>\n",
       "    </tr>\n",
       "  </thead>\n",
       "  <tbody>\n",
       "    <tr>\n",
       "      <th>샌드위치</th>\n",
       "      <td>0.214782</td>\n",
       "    </tr>\n",
       "    <tr>\n",
       "      <th>노령화지수</th>\n",
       "      <td>0.133605</td>\n",
       "    </tr>\n",
       "    <tr>\n",
       "      <th>인구수</th>\n",
       "      <td>0.092502</td>\n",
       "    </tr>\n",
       "    <tr>\n",
       "      <th>버스정류장</th>\n",
       "      <td>0.087020</td>\n",
       "    </tr>\n",
       "    <tr>\n",
       "      <th>휴일</th>\n",
       "      <td>0.078164</td>\n",
       "    </tr>\n",
       "    <tr>\n",
       "      <th>영화관_b</th>\n",
       "      <td>0.069798</td>\n",
       "    </tr>\n",
       "    <tr>\n",
       "      <th>올리브영</th>\n",
       "      <td>0.041838</td>\n",
       "    </tr>\n",
       "    <tr>\n",
       "      <th>출구</th>\n",
       "      <td>0.041656</td>\n",
       "    </tr>\n",
       "    <tr>\n",
       "      <th>은행</th>\n",
       "      <td>0.038713</td>\n",
       "    </tr>\n",
       "    <tr>\n",
       "      <th>스타벅스</th>\n",
       "      <td>0.031407</td>\n",
       "    </tr>\n",
       "    <tr>\n",
       "      <th>대전</th>\n",
       "      <td>0.024076</td>\n",
       "    </tr>\n",
       "    <tr>\n",
       "      <th>중구청</th>\n",
       "      <td>0.021308</td>\n",
       "    </tr>\n",
       "    <tr>\n",
       "      <th>학교</th>\n",
       "      <td>0.021308</td>\n",
       "    </tr>\n",
       "    <tr>\n",
       "      <th>날짜</th>\n",
       "      <td>0.015253</td>\n",
       "    </tr>\n",
       "    <tr>\n",
       "      <th>최고기온</th>\n",
       "      <td>0.013920</td>\n",
       "    </tr>\n",
       "    <tr>\n",
       "      <th>최저기온</th>\n",
       "      <td>0.012983</td>\n",
       "    </tr>\n",
       "    <tr>\n",
       "      <th>신흥</th>\n",
       "      <td>0.012915</td>\n",
       "    </tr>\n",
       "    <tr>\n",
       "      <th>도서관_b</th>\n",
       "      <td>0.008831</td>\n",
       "    </tr>\n",
       "    <tr>\n",
       "      <th>오룡</th>\n",
       "      <td>0.006266</td>\n",
       "    </tr>\n",
       "    <tr>\n",
       "      <th>일우량</th>\n",
       "      <td>0.005102</td>\n",
       "    </tr>\n",
       "    <tr>\n",
       "      <th>술집</th>\n",
       "      <td>0.004796</td>\n",
       "    </tr>\n",
       "    <tr>\n",
       "      <th>용문</th>\n",
       "      <td>0.004100</td>\n",
       "    </tr>\n",
       "    <tr>\n",
       "      <th>판암</th>\n",
       "      <td>0.003951</td>\n",
       "    </tr>\n",
       "    <tr>\n",
       "      <th>학기여부</th>\n",
       "      <td>0.002687</td>\n",
       "    </tr>\n",
       "    <tr>\n",
       "      <th>백화점_b</th>\n",
       "      <td>0.002682</td>\n",
       "    </tr>\n",
       "    <tr>\n",
       "      <th>서대전네거리</th>\n",
       "      <td>0.002127</td>\n",
       "    </tr>\n",
       "    <tr>\n",
       "      <th>대동</th>\n",
       "      <td>0.001971</td>\n",
       "    </tr>\n",
       "    <tr>\n",
       "      <th>탄방</th>\n",
       "      <td>0.001896</td>\n",
       "    </tr>\n",
       "    <tr>\n",
       "      <th>병원_b</th>\n",
       "      <td>0.001655</td>\n",
       "    </tr>\n",
       "    <tr>\n",
       "      <th>적설량</th>\n",
       "      <td>0.001080</td>\n",
       "    </tr>\n",
       "    <tr>\n",
       "      <th>대형마트_b</th>\n",
       "      <td>0.000658</td>\n",
       "    </tr>\n",
       "    <tr>\n",
       "      <th>중앙로</th>\n",
       "      <td>0.000610</td>\n",
       "    </tr>\n",
       "    <tr>\n",
       "      <th>장마기간</th>\n",
       "      <td>0.000338</td>\n",
       "    </tr>\n",
       "    <tr>\n",
       "      <th>현충원</th>\n",
       "      <td>0.000000</td>\n",
       "    </tr>\n",
       "    <tr>\n",
       "      <th>지족</th>\n",
       "      <td>0.000000</td>\n",
       "    </tr>\n",
       "    <tr>\n",
       "      <th>월평</th>\n",
       "      <td>0.000000</td>\n",
       "    </tr>\n",
       "    <tr>\n",
       "      <th>정부청사</th>\n",
       "      <td>0.000000</td>\n",
       "    </tr>\n",
       "    <tr>\n",
       "      <th>구암</th>\n",
       "      <td>0.000000</td>\n",
       "    </tr>\n",
       "    <tr>\n",
       "      <th>유성온천</th>\n",
       "      <td>0.000000</td>\n",
       "    </tr>\n",
       "    <tr>\n",
       "      <th>월드컵경기장</th>\n",
       "      <td>0.000000</td>\n",
       "    </tr>\n",
       "    <tr>\n",
       "      <th>갑천</th>\n",
       "      <td>0.000000</td>\n",
       "    </tr>\n",
       "    <tr>\n",
       "      <th>시청</th>\n",
       "      <td>0.000000</td>\n",
       "    </tr>\n",
       "    <tr>\n",
       "      <th>노은</th>\n",
       "      <td>0.000000</td>\n",
       "    </tr>\n",
       "    <tr>\n",
       "      <th>버스터미널_b</th>\n",
       "      <td>0.000000</td>\n",
       "    </tr>\n",
       "    <tr>\n",
       "      <th>반석</th>\n",
       "      <td>0.000000</td>\n",
       "    </tr>\n",
       "    <tr>\n",
       "      <th>갈마</th>\n",
       "      <td>0.000000</td>\n",
       "    </tr>\n",
       "  </tbody>\n",
       "</table>\n",
       "</div>"
      ],
      "text/plain": [
       "         importance\n",
       "샌드위치       0.214782\n",
       "노령화지수      0.133605\n",
       "인구수        0.092502\n",
       "버스정류장      0.087020\n",
       "휴일         0.078164\n",
       "영화관_b      0.069798\n",
       "올리브영       0.041838\n",
       "출구         0.041656\n",
       "은행         0.038713\n",
       "스타벅스       0.031407\n",
       "대전         0.024076\n",
       "중구청        0.021308\n",
       "학교         0.021308\n",
       "날짜         0.015253\n",
       "최고기온       0.013920\n",
       "최저기온       0.012983\n",
       "신흥         0.012915\n",
       "도서관_b      0.008831\n",
       "오룡         0.006266\n",
       "일우량        0.005102\n",
       "술집         0.004796\n",
       "용문         0.004100\n",
       "판암         0.003951\n",
       "학기여부       0.002687\n",
       "백화점_b      0.002682\n",
       "서대전네거리     0.002127\n",
       "대동         0.001971\n",
       "탄방         0.001896\n",
       "병원_b       0.001655\n",
       "적설량        0.001080\n",
       "대형마트_b     0.000658\n",
       "중앙로        0.000610\n",
       "장마기간       0.000338\n",
       "현충원        0.000000\n",
       "지족         0.000000\n",
       "월평         0.000000\n",
       "정부청사       0.000000\n",
       "구암         0.000000\n",
       "유성온천       0.000000\n",
       "월드컵경기장     0.000000\n",
       "갑천         0.000000\n",
       "시청         0.000000\n",
       "노은         0.000000\n",
       "버스터미널_b    0.000000\n",
       "반석         0.000000\n",
       "갈마         0.000000"
      ]
     },
     "execution_count": 87,
     "metadata": {},
     "output_type": "execute_result"
    }
   ],
   "source": [
    "import pandas as pd\n",
    "rf1 = grid_rf.best_estimator_.fit(X_train, y_train)\n",
    "feature_imp = pd.DataFrame(rf1.feature_importances_,index=X_train.columns, columns=['importance']).sort_values('importance',ascending=False)\n",
    "feature_imp"
   ]
  }
 ],
 "metadata": {
  "accelerator": "GPU",
  "colab": {
   "authorship_tag": "ABX9TyOWLpid1GepZPrJFftyeFmL",
   "collapsed_sections": [
    "yewfLh5plarm"
   ],
   "mount_file_id": "1_mgod6SBU5xvuZLJLB_YsuuC9S-48oRm",
   "name": "DT,RF 코로나 이전_군집별.ipynb",
   "provenance": []
  },
  "kernelspec": {
   "display_name": "Python 3",
   "language": "python",
   "name": "python3"
  },
  "language_info": {
   "codemirror_mode": {
    "name": "ipython",
    "version": 3
   },
   "file_extension": ".py",
   "mimetype": "text/x-python",
   "name": "python",
   "nbconvert_exporter": "python",
   "pygments_lexer": "ipython3",
   "version": "3.8.8"
  },
  "toc-autonumbering": false,
  "toc-showmarkdowntxt": false
 },
 "nbformat": 4,
 "nbformat_minor": 4
}
