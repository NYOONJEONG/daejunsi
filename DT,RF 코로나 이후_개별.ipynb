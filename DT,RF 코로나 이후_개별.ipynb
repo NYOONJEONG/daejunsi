{
 "cells": [
  {
   "cell_type": "code",
   "execution_count": 37,
   "metadata": {
    "executionInfo": {
     "elapsed": 3,
     "status": "ok",
     "timestamp": 1621702592427,
     "user": {
      "displayName": "‍원윤정[ 학부재학 / 수학과 ]",
      "photoUrl": "",
      "userId": "18011858018859333600"
     },
     "user_tz": -540
    },
    "id": "tPLPOTc56prm"
   },
   "outputs": [],
   "source": [
    "#평가 스케일\n",
    "def rmsle(y, y_,convertExp=True):\n",
    "    if convertExp:\n",
    "        y = np.exp(y), \n",
    "        y_ = np.exp(y_)\n",
    "    log1 = np.nan_to_num(np.array([np.log(v + 1) for v in y]))\n",
    "    log2 = np.nan_to_num(np.array([np.log(v + 1) for v in y_]))\n",
    "    calc = (log1 - log2) ** 2\n",
    "    return np.sqrt(np.mean(calc))\n",
    "\n",
    "from sklearn import metrics\n",
    "rmsle_scorer = metrics.make_scorer(rmsle)"
   ]
  },
  {
   "cell_type": "markdown",
   "metadata": {
    "id": "yewfLh5plarm"
   },
   "source": [
    "# 전처리"
   ]
  },
  {
   "cell_type": "code",
   "execution_count": 42,
   "metadata": {
    "executionInfo": {
     "elapsed": 327,
     "status": "ok",
     "timestamp": 1621765681507,
     "user": {
      "displayName": "‍원윤정[ 학부재학 / 수학과 ]",
      "photoUrl": "",
      "userId": "18011858018859333600"
     },
     "user_tz": -540
    },
    "id": "p3hdizfTlaaX"
   },
   "outputs": [],
   "source": [
    "import pandas as pd\n",
    "import numpy as np"
   ]
  },
  {
   "cell_type": "code",
   "execution_count": 43,
   "metadata": {
    "executionInfo": {
     "elapsed": 5,
     "status": "ok",
     "timestamp": 1621765682334,
     "user": {
      "displayName": "‍원윤정[ 학부재학 / 수학과 ]",
      "photoUrl": "",
      "userId": "18011858018859333600"
     },
     "user_tz": -540
    },
    "id": "4avprQHDvpF2"
   },
   "outputs": [],
   "source": [
    "df = pd.read_csv(\"/Users/yoonjeong/Desktop/af_covid_train.csv\")\n",
    "df2 = pd.read_csv(\"/Users/yoonjeong/Desktop/af_covid_test.csv\")"
   ]
  },
  {
   "cell_type": "code",
   "execution_count": 44,
   "metadata": {
    "executionInfo": {
     "elapsed": 3,
     "status": "ok",
     "timestamp": 1621765682334,
     "user": {
      "displayName": "‍원윤정[ 학부재학 / 수학과 ]",
      "photoUrl": "",
      "userId": "18011858018859333600"
     },
     "user_tz": -540
    },
    "id": "3PjVE0cz6Sy2"
   },
   "outputs": [],
   "source": [
    "af_train = df.drop(['clustering', 'Unnamed: 0'], axis=1)\n",
    "af_test = df2.drop(['clustering', 'Unnamed: 0'], axis=1)"
   ]
  },
  {
   "cell_type": "markdown",
   "metadata": {
    "id": "vRj5AGabltaw"
   },
   "source": [
    "모델링"
   ]
  },
  {
   "cell_type": "code",
   "execution_count": 46,
   "metadata": {
    "executionInfo": {
     "elapsed": 4,
     "status": "ok",
     "timestamp": 1621765682335,
     "user": {
      "displayName": "‍원윤정[ 학부재학 / 수학과 ]",
      "photoUrl": "",
      "userId": "18011858018859333600"
     },
     "user_tz": -540
    },
    "id": "y7-EBV1rwfi6"
   },
   "outputs": [],
   "source": [
    "# X : features, y: target variable\n",
    "X_train=  af_train[af_train.columns.difference([\"이용자 수\"])]\n",
    "X_test= af_test[af_test.columns.difference([\"이용자 수\"])]\n",
    "y_train= af_train[\"이용자 수\"]\n",
    "y_test= af_test['이용자 수']"
   ]
  },
  {
   "cell_type": "markdown",
   "metadata": {
    "id": "5CTxc3Drw6Hs"
   },
   "source": [
    "# random forest"
   ]
  },
  {
   "cell_type": "code",
   "execution_count": 47,
   "metadata": {},
   "outputs": [
    {
     "name": "stdout",
     "output_type": "stream",
     "text": [
      "{'n_estimators': [10, 15, 20, 25, 30], 'max_features': ['auto', 'sqrt'], 'max_depth': [10, 20, 30, 40, 50, None], 'min_samples_split': [2, 5], 'min_samples_leaf': [1, 2], 'bootstrap': [True, False]}\n"
     ]
    }
   ],
   "source": [
    "from sklearn.model_selection import RandomizedSearchCV\n",
    "\n",
    "n_estimators = [int(x) for x in np.linspace(start = 10, stop = 30, num = 5)]\n",
    "\n",
    "max_features = ['auto', 'sqrt']\n",
    "\n",
    "max_depth = [int(x) for x in np.linspace(10, 50, num = 5)]\n",
    "max_depth.append(None)\n",
    "# Minimum number of samples required to split a node\n",
    "min_samples_split = [2, 5]\n",
    "# Minimum number of samples required at each leaf node\n",
    "min_samples_leaf = [1, 2]\n",
    "# Method of selecting samples for training each tree\n",
    "bootstrap = [True, False]\n",
    "# Create the random grid\n",
    "random_grid = {'n_estimators': n_estimators,\n",
    "               'max_features': max_features,\n",
    "               'max_depth': max_depth,\n",
    "               'min_samples_split': min_samples_split,\n",
    "               'min_samples_leaf': min_samples_leaf,\n",
    "               'bootstrap': bootstrap}\n",
    "print(random_grid)"
   ]
  },
  {
   "cell_type": "code",
   "execution_count": 48,
   "metadata": {},
   "outputs": [
    {
     "name": "stdout",
     "output_type": "stream",
     "text": [
      "Fitting 10 folds for each of 100 candidates, totalling 1000 fits\n"
     ]
    },
    {
     "name": "stderr",
     "output_type": "stream",
     "text": [
      "/Users/yoonjeong/opt/anaconda3/lib/python3.8/site-packages/sklearn/model_selection/_search.py:918: UserWarning: One or more of the test scores are non-finite: [inf inf inf inf inf inf inf inf inf inf inf inf inf inf inf inf inf inf\n",
      " inf inf inf inf inf inf inf inf inf inf inf inf inf inf inf inf inf inf\n",
      " inf inf inf inf inf inf inf inf inf inf inf inf inf inf inf inf inf inf\n",
      " inf inf inf inf inf inf inf inf inf inf inf inf inf inf inf inf inf inf\n",
      " inf inf inf inf inf inf inf inf inf inf inf inf inf inf inf inf inf inf\n",
      " inf inf inf inf inf inf inf inf inf inf]\n",
      "  warnings.warn(\n",
      "/Users/yoonjeong/opt/anaconda3/lib/python3.8/site-packages/sklearn/model_selection/_search.py:925: RuntimeWarning: invalid value encountered in subtract\n",
      "  array_stds = np.sqrt(np.average((array -\n"
     ]
    },
    {
     "data": {
      "text/plain": [
       "RandomizedSearchCV(cv=10, estimator=RandomForestRegressor(), n_iter=100,\n",
       "                   n_jobs=-1,\n",
       "                   param_distributions={'bootstrap': [True, False],\n",
       "                                        'max_depth': [10, 20, 30, 40, 50, None],\n",
       "                                        'max_features': ['auto', 'sqrt'],\n",
       "                                        'min_samples_leaf': [1, 2],\n",
       "                                        'min_samples_split': [2, 5],\n",
       "                                        'n_estimators': [10, 15, 20, 25, 30]},\n",
       "                   random_state=42, scoring=make_scorer(rmsle), verbose=2)"
      ]
     },
     "execution_count": 48,
     "metadata": {},
     "output_type": "execute_result"
    }
   ],
   "source": [
    "from sklearn.ensemble import RandomForestRegressor\n",
    "rf = RandomForestRegressor()\n",
    "grid_rf = RandomizedSearchCV(estimator = rf, param_distributions = random_grid, n_iter = 100, cv = 10, verbose=2, random_state=42, n_jobs = -1,  scoring=rmsle_scorer)\n",
    "grid_rf.fit(X_train, y_train)"
   ]
  },
  {
   "cell_type": "code",
   "execution_count": 49,
   "metadata": {
    "id": "n2wFukPV0ioR"
   },
   "outputs": [
    {
     "name": "stdout",
     "output_type": "stream",
     "text": [
      "RMSLE Value For Random Forest_bf_train: 0.1201\n",
      "\n",
      "\n",
      "RMSLE Value For Random Forest_bf_test : 0.2458\n",
      "\n",
      "\n"
     ]
    }
   ],
   "source": [
    "pred = grid_rf.predict(X_train)\n",
    "print('RMSLE Value For Random Forest_bf_train: %.4f' % (rmsle(pred,y_train,False)))\n",
    "print(\"\\n\")\n",
    "\n",
    "\n",
    "y_pred = grid_rf.predict(X_test)\n",
    "print('RMSLE Value For Random Forest_bf_test : %.4f' % (rmsle(y_pred,y_test,False)))\n",
    "print(\"\\n\")"
   ]
  },
  {
   "cell_type": "code",
   "execution_count": 50,
   "metadata": {
    "colab": {
     "base_uri": "https://localhost:8080/",
     "height": 1000
    },
    "executionInfo": {
     "elapsed": 536,
     "status": "ok",
     "timestamp": 1621770946998,
     "user": {
      "displayName": "‍원윤정[ 학부재학 / 수학과 ]",
      "photoUrl": "",
      "userId": "18011858018859333600"
     },
     "user_tz": -540
    },
    "id": "2M0H_h4zxU8a",
    "outputId": "9c925d6b-62e2-49b9-aff7-2ee40ff81957",
    "tags": []
   },
   "outputs": [
    {
     "data": {
      "text/html": [
       "<div>\n",
       "<style scoped>\n",
       "    .dataframe tbody tr th:only-of-type {\n",
       "        vertical-align: middle;\n",
       "    }\n",
       "\n",
       "    .dataframe tbody tr th {\n",
       "        vertical-align: top;\n",
       "    }\n",
       "\n",
       "    .dataframe thead th {\n",
       "        text-align: right;\n",
       "    }\n",
       "</style>\n",
       "<table border=\"1\" class=\"dataframe\">\n",
       "  <thead>\n",
       "    <tr style=\"text-align: right;\">\n",
       "      <th></th>\n",
       "      <th>importance</th>\n",
       "    </tr>\n",
       "  </thead>\n",
       "  <tbody>\n",
       "    <tr>\n",
       "      <th>휴일</th>\n",
       "      <td>0.136694</td>\n",
       "    </tr>\n",
       "    <tr>\n",
       "      <th>버스정류장</th>\n",
       "      <td>0.092355</td>\n",
       "    </tr>\n",
       "    <tr>\n",
       "      <th>샌드위치</th>\n",
       "      <td>0.077458</td>\n",
       "    </tr>\n",
       "    <tr>\n",
       "      <th>은행</th>\n",
       "      <td>0.070963</td>\n",
       "    </tr>\n",
       "    <tr>\n",
       "      <th>스타벅스</th>\n",
       "      <td>0.068969</td>\n",
       "    </tr>\n",
       "    <tr>\n",
       "      <th>출구</th>\n",
       "      <td>0.058631</td>\n",
       "    </tr>\n",
       "    <tr>\n",
       "      <th>인구수</th>\n",
       "      <td>0.055628</td>\n",
       "    </tr>\n",
       "    <tr>\n",
       "      <th>확진자수</th>\n",
       "      <td>0.044136</td>\n",
       "    </tr>\n",
       "    <tr>\n",
       "      <th>영화관_b</th>\n",
       "      <td>0.041981</td>\n",
       "    </tr>\n",
       "    <tr>\n",
       "      <th>노령화지수</th>\n",
       "      <td>0.040666</td>\n",
       "    </tr>\n",
       "    <tr>\n",
       "      <th>대전</th>\n",
       "      <td>0.040438</td>\n",
       "    </tr>\n",
       "    <tr>\n",
       "      <th>술집</th>\n",
       "      <td>0.037522</td>\n",
       "    </tr>\n",
       "    <tr>\n",
       "      <th>날짜</th>\n",
       "      <td>0.037384</td>\n",
       "    </tr>\n",
       "    <tr>\n",
       "      <th>학교</th>\n",
       "      <td>0.026413</td>\n",
       "    </tr>\n",
       "    <tr>\n",
       "      <th>버스터미널_b</th>\n",
       "      <td>0.022084</td>\n",
       "    </tr>\n",
       "    <tr>\n",
       "      <th>올리브영</th>\n",
       "      <td>0.022013</td>\n",
       "    </tr>\n",
       "    <tr>\n",
       "      <th>최저기온</th>\n",
       "      <td>0.020227</td>\n",
       "    </tr>\n",
       "    <tr>\n",
       "      <th>최고기온</th>\n",
       "      <td>0.019391</td>\n",
       "    </tr>\n",
       "    <tr>\n",
       "      <th>백화점_b</th>\n",
       "      <td>0.017183</td>\n",
       "    </tr>\n",
       "    <tr>\n",
       "      <th>유성온천</th>\n",
       "      <td>0.008881</td>\n",
       "    </tr>\n",
       "    <tr>\n",
       "      <th>일우량</th>\n",
       "      <td>0.007968</td>\n",
       "    </tr>\n",
       "    <tr>\n",
       "      <th>갑천</th>\n",
       "      <td>0.006520</td>\n",
       "    </tr>\n",
       "    <tr>\n",
       "      <th>반석</th>\n",
       "      <td>0.006429</td>\n",
       "    </tr>\n",
       "    <tr>\n",
       "      <th>병원_b</th>\n",
       "      <td>0.005958</td>\n",
       "    </tr>\n",
       "    <tr>\n",
       "      <th>대형마트_b</th>\n",
       "      <td>0.005230</td>\n",
       "    </tr>\n",
       "    <tr>\n",
       "      <th>신흥</th>\n",
       "      <td>0.004723</td>\n",
       "    </tr>\n",
       "    <tr>\n",
       "      <th>도서관_b</th>\n",
       "      <td>0.004398</td>\n",
       "    </tr>\n",
       "    <tr>\n",
       "      <th>정부청사</th>\n",
       "      <td>0.003197</td>\n",
       "    </tr>\n",
       "    <tr>\n",
       "      <th>탄방</th>\n",
       "      <td>0.002495</td>\n",
       "    </tr>\n",
       "    <tr>\n",
       "      <th>지족</th>\n",
       "      <td>0.002189</td>\n",
       "    </tr>\n",
       "    <tr>\n",
       "      <th>시청</th>\n",
       "      <td>0.001917</td>\n",
       "    </tr>\n",
       "    <tr>\n",
       "      <th>중구청</th>\n",
       "      <td>0.001735</td>\n",
       "    </tr>\n",
       "    <tr>\n",
       "      <th>판암</th>\n",
       "      <td>0.001597</td>\n",
       "    </tr>\n",
       "    <tr>\n",
       "      <th>중앙로</th>\n",
       "      <td>0.001593</td>\n",
       "    </tr>\n",
       "    <tr>\n",
       "      <th>용문</th>\n",
       "      <td>0.001325</td>\n",
       "    </tr>\n",
       "    <tr>\n",
       "      <th>오룡</th>\n",
       "      <td>0.000675</td>\n",
       "    </tr>\n",
       "    <tr>\n",
       "      <th>대동</th>\n",
       "      <td>0.000626</td>\n",
       "    </tr>\n",
       "    <tr>\n",
       "      <th>현충원</th>\n",
       "      <td>0.000615</td>\n",
       "    </tr>\n",
       "    <tr>\n",
       "      <th>월드컵경기장</th>\n",
       "      <td>0.000513</td>\n",
       "    </tr>\n",
       "    <tr>\n",
       "      <th>갈마</th>\n",
       "      <td>0.000362</td>\n",
       "    </tr>\n",
       "    <tr>\n",
       "      <th>월평</th>\n",
       "      <td>0.000303</td>\n",
       "    </tr>\n",
       "    <tr>\n",
       "      <th>구암</th>\n",
       "      <td>0.000249</td>\n",
       "    </tr>\n",
       "    <tr>\n",
       "      <th>서대전네거리</th>\n",
       "      <td>0.000194</td>\n",
       "    </tr>\n",
       "    <tr>\n",
       "      <th>노은</th>\n",
       "      <td>0.000173</td>\n",
       "    </tr>\n",
       "  </tbody>\n",
       "</table>\n",
       "</div>"
      ],
      "text/plain": [
       "         importance\n",
       "휴일         0.136694\n",
       "버스정류장      0.092355\n",
       "샌드위치       0.077458\n",
       "은행         0.070963\n",
       "스타벅스       0.068969\n",
       "출구         0.058631\n",
       "인구수        0.055628\n",
       "확진자수       0.044136\n",
       "영화관_b      0.041981\n",
       "노령화지수      0.040666\n",
       "대전         0.040438\n",
       "술집         0.037522\n",
       "날짜         0.037384\n",
       "학교         0.026413\n",
       "버스터미널_b    0.022084\n",
       "올리브영       0.022013\n",
       "최저기온       0.020227\n",
       "최고기온       0.019391\n",
       "백화점_b      0.017183\n",
       "유성온천       0.008881\n",
       "일우량        0.007968\n",
       "갑천         0.006520\n",
       "반석         0.006429\n",
       "병원_b       0.005958\n",
       "대형마트_b     0.005230\n",
       "신흥         0.004723\n",
       "도서관_b      0.004398\n",
       "정부청사       0.003197\n",
       "탄방         0.002495\n",
       "지족         0.002189\n",
       "시청         0.001917\n",
       "중구청        0.001735\n",
       "판암         0.001597\n",
       "중앙로        0.001593\n",
       "용문         0.001325\n",
       "오룡         0.000675\n",
       "대동         0.000626\n",
       "현충원        0.000615\n",
       "월드컵경기장     0.000513\n",
       "갈마         0.000362\n",
       "월평         0.000303\n",
       "구암         0.000249\n",
       "서대전네거리     0.000194\n",
       "노은         0.000173"
      ]
     },
     "execution_count": 50,
     "metadata": {},
     "output_type": "execute_result"
    }
   ],
   "source": [
    "import pandas as pd\n",
    "rf1 = grid_rf.best_estimator_.fit(X_train, y_train)\n",
    "feature_imp = pd.DataFrame(rf1.feature_importances_,index=X_train.columns, columns=['importance']).sort_values('importance',ascending=False)\n",
    "feature_imp"
   ]
  },
  {
   "cell_type": "code",
   "execution_count": null,
   "metadata": {},
   "outputs": [],
   "source": []
  }
 ],
 "metadata": {
  "accelerator": "GPU",
  "colab": {
   "authorship_tag": "ABX9TyN1y4qLYZLUcgMsgZzuVYvT",
   "collapsed_sections": [],
   "mount_file_id": "1zfaWOiEJyJUs6a3Reu-4H0mJissUsL_o",
   "name": "DT,RF 코로나 이전_개별.ipynb",
   "provenance": []
  },
  "kernelspec": {
   "display_name": "Python 3",
   "language": "python",
   "name": "python3"
  },
  "language_info": {
   "codemirror_mode": {
    "name": "ipython",
    "version": 3
   },
   "file_extension": ".py",
   "mimetype": "text/x-python",
   "name": "python",
   "nbconvert_exporter": "python",
   "pygments_lexer": "ipython3",
   "version": "3.8.8"
  }
 },
 "nbformat": 4,
 "nbformat_minor": 4
}
